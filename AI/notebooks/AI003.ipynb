{
 "cells": [
  {
   "cell_type": "code",
   "execution_count": null,
   "metadata": {},
   "outputs": [],
   "source": [
    "import pandas as pd\n",
    "from sklearn.model_selection import train_test_split\n",
    "import numpy as np\n",
    "import plotly.express as px\n",
    "from tqdm.notebook import tqdm\n",
    "import matplotlib.pyplot as plt"
   ]
  },
  {
   "cell_type": "markdown",
   "metadata": {},
   "source": [
    "### <font color='red'>AI001 - Find Suitable Dataset</font>"
   ]
  },
  {
   "cell_type": "code",
   "execution_count": null,
   "metadata": {},
   "outputs": [],
   "source": [
    "%%capture\n",
    "\n",
    "from datasets import load_dataset\n",
    "help(load_dataset)\n",
    "\n",
    "mode = 'force_redownload'\n",
    "\n",
    "train_data = load_dataset('md_gender_bias', name = 'funpedia', split = 'train', download_mode = mode)\n",
    "test_data = load_dataset('md_gender_bias', name = 'funpedia', split = 'test', download_mode = mode)\n",
    "val_data = load_dataset('md_gender_bias', name = 'funpedia', split = 'validation', download_mode = mode)"
   ]
  },
  {
   "cell_type": "code",
   "execution_count": null,
   "metadata": {},
   "outputs": [
    {
     "name": "stdout",
     "output_type": "stream",
     "text": [
      "Dataset({\n",
      "    features: ['text', 'gender', 'title', 'persona'],\n",
      "    num_rows: 23897\n",
      "})\n",
      "Dataset({\n",
      "    features: ['text', 'gender', 'title', 'persona'],\n",
      "    num_rows: 2938\n",
      "})\n",
      "Dataset({\n",
      "    features: ['text', 'gender', 'title', 'persona'],\n",
      "    num_rows: 2984\n",
      "})\n"
     ]
    }
   ],
   "source": [
    "print(train_data)\n",
    "print(test_data)\n",
    "print(val_data)"
   ]
  },
  {
   "cell_type": "code",
   "execution_count": null,
   "metadata": {},
   "outputs": [],
   "source": [
    "train_data = pd.DataFrame(train_data)\n",
    "test_data = pd.DataFrame(test_data)\n",
    "val_data = pd.DataFrame(val_data)"
   ]
  },
  {
   "cell_type": "code",
   "execution_count": null,
   "metadata": {},
   "outputs": [
    {
     "name": "stdout",
     "output_type": "stream",
     "text": [
      "percentage data that is TRAIN: 80.14\n",
      "percentage data that is TEST: 9.85\n",
      "percentage data that is VALIDATION: 10.01\n"
     ]
    }
   ],
   "source": [
    "total_nrows = len(train_data) + len(test_data) + len(val_data)\n",
    "print('percentage data that is TRAIN:', round((len(train_data)/total_nrows)*100, 2))\n",
    "print('percentage data that is TEST:', round((len(test_data)/total_nrows)*100, 2))\n",
    "print('percentage data that is VALIDATION:', round((len(val_data)/total_nrows)*100, 2))"
   ]
  },
  {
   "cell_type": "markdown",
   "metadata": {},
   "source": [
    "#### Load data locally (if need be)"
   ]
  },
  {
   "cell_type": "code",
   "execution_count": null,
   "metadata": {},
   "outputs": [],
   "source": [
    "#data source: https://huggingface.co/datasets/md_gender_bias\n",
    "#train_data = pd.read_json('md_gender_bias/funpedia/train.jsonl', lines = True)\n",
    "#test_data = pd.read_json('md_gender_bias/funpedia/test.jsonl', lines = True)\n",
    "#val_data = pd.read_json('md_gender_bias/funpedia/valid.jsonl', lines = True)"
   ]
  },
  {
   "cell_type": "markdown",
   "metadata": {},
   "source": [
    "### <font color='red'>AI002 - EDA (Exploratory Data Analysis)</font>"
   ]
  },
  {
   "cell_type": "code",
   "execution_count": null,
   "metadata": {},
   "outputs": [
    {
     "data": {
      "text/html": [
       "<div>\n",
       "<style scoped>\n",
       "    .dataframe tbody tr th:only-of-type {\n",
       "        vertical-align: middle;\n",
       "    }\n",
       "\n",
       "    .dataframe tbody tr th {\n",
       "        vertical-align: top;\n",
       "    }\n",
       "\n",
       "    .dataframe thead th {\n",
       "        text-align: right;\n",
       "    }\n",
       "</style>\n",
       "<table border=\"1\" class=\"dataframe\">\n",
       "  <thead>\n",
       "    <tr style=\"text-align: right;\">\n",
       "      <th></th>\n",
       "      <th>text</th>\n",
       "      <th>gender</th>\n",
       "      <th>title</th>\n",
       "      <th>persona</th>\n",
       "    </tr>\n",
       "  </thead>\n",
       "  <tbody>\n",
       "    <tr>\n",
       "      <th>0</th>\n",
       "      <td>Max Landis is a comic book writer who wrote Ch...</td>\n",
       "      <td>male</td>\n",
       "      <td>Max Landis</td>\n",
       "      <td>Humorous</td>\n",
       "    </tr>\n",
       "    <tr>\n",
       "      <th>1</th>\n",
       "      <td>Félix stevens is a retired cuban sprinter who ...</td>\n",
       "      <td>male</td>\n",
       "      <td>Félix Stevens</td>\n",
       "      <td>Confident</td>\n",
       "    </tr>\n",
       "    <tr>\n",
       "      <th>2</th>\n",
       "      <td>Arthur Engelbert is a professor at the Univers...</td>\n",
       "      <td>male</td>\n",
       "      <td>Arthur Engelbert</td>\n",
       "      <td>Creative</td>\n",
       "    </tr>\n",
       "  </tbody>\n",
       "</table>\n",
       "</div>"
      ],
      "text/plain": [
       "                                                text gender             title  \\\n",
       "0  Max Landis is a comic book writer who wrote Ch...   male        Max Landis   \n",
       "1  Félix stevens is a retired cuban sprinter who ...   male     Félix Stevens   \n",
       "2  Arthur Engelbert is a professor at the Univers...   male  Arthur Engelbert   \n",
       "\n",
       "     persona  \n",
       "0   Humorous  \n",
       "1  Confident  \n",
       "2   Creative  "
      ]
     },
     "metadata": {},
     "output_type": "display_data"
    }
   ],
   "source": [
    "train_data.head(3)"
   ]
  },
  {
   "cell_type": "code",
   "execution_count": null,
   "metadata": {},
   "outputs": [
    {
     "data": {
      "text/html": [
       "<div>\n",
       "<style scoped>\n",
       "    .dataframe tbody tr th:only-of-type {\n",
       "        vertical-align: middle;\n",
       "    }\n",
       "\n",
       "    .dataframe tbody tr th {\n",
       "        vertical-align: top;\n",
       "    }\n",
       "\n",
       "    .dataframe thead th {\n",
       "        text-align: right;\n",
       "    }\n",
       "</style>\n",
       "<table border=\"1\" class=\"dataframe\">\n",
       "  <thead>\n",
       "    <tr style=\"text-align: right;\">\n",
       "      <th></th>\n",
       "      <th>text</th>\n",
       "      <th>gender</th>\n",
       "      <th>title</th>\n",
       "      <th>persona</th>\n",
       "    </tr>\n",
       "  </thead>\n",
       "  <tbody>\n",
       "    <tr>\n",
       "      <th>0</th>\n",
       "      <td>Hmmm yes Horacio Calcaterra is a sportsman tha...</td>\n",
       "      <td>male</td>\n",
       "      <td>Horacio Calcaterra</td>\n",
       "      <td>Articulate (Well-spoken, Expressive)</td>\n",
       "    </tr>\n",
       "    <tr>\n",
       "      <th>1</th>\n",
       "      <td>John A. Fallon kindly accepted his appointment...</td>\n",
       "      <td>male</td>\n",
       "      <td>John A. Fallon</td>\n",
       "      <td>Humble</td>\n",
       "    </tr>\n",
       "    <tr>\n",
       "      <th>2</th>\n",
       "      <td>Arthur Knight sadly passed as a result of part...</td>\n",
       "      <td>male</td>\n",
       "      <td>Arthur Gerald Knight</td>\n",
       "      <td>Peaceful</td>\n",
       "    </tr>\n",
       "  </tbody>\n",
       "</table>\n",
       "</div>"
      ],
      "text/plain": [
       "                                                text gender  \\\n",
       "0  Hmmm yes Horacio Calcaterra is a sportsman tha...   male   \n",
       "1  John A. Fallon kindly accepted his appointment...   male   \n",
       "2  Arthur Knight sadly passed as a result of part...   male   \n",
       "\n",
       "                  title                               persona  \n",
       "0    Horacio Calcaterra  Articulate (Well-spoken, Expressive)  \n",
       "1        John A. Fallon                                Humble  \n",
       "2  Arthur Gerald Knight                              Peaceful  "
      ]
     },
     "metadata": {},
     "output_type": "display_data"
    }
   ],
   "source": [
    "test_data.head(3)"
   ]
  },
  {
   "cell_type": "code",
   "execution_count": null,
   "metadata": {},
   "outputs": [
    {
     "data": {
      "text/html": [
       "<div>\n",
       "<style scoped>\n",
       "    .dataframe tbody tr th:only-of-type {\n",
       "        vertical-align: middle;\n",
       "    }\n",
       "\n",
       "    .dataframe tbody tr th {\n",
       "        vertical-align: top;\n",
       "    }\n",
       "\n",
       "    .dataframe thead th {\n",
       "        text-align: right;\n",
       "    }\n",
       "</style>\n",
       "<table border=\"1\" class=\"dataframe\">\n",
       "  <thead>\n",
       "    <tr style=\"text-align: right;\">\n",
       "      <th></th>\n",
       "      <th>text</th>\n",
       "      <th>gender</th>\n",
       "      <th>title</th>\n",
       "      <th>persona</th>\n",
       "    </tr>\n",
       "  </thead>\n",
       "  <tbody>\n",
       "    <tr>\n",
       "      <th>0</th>\n",
       "      <td>I wonder what went through Bill Tom Closs's mi...</td>\n",
       "      <td>male</td>\n",
       "      <td>Bill Closs</td>\n",
       "      <td>Deep</td>\n",
       "    </tr>\n",
       "    <tr>\n",
       "      <th>1</th>\n",
       "      <td>Gerald Rashard Everett is a football tight end...</td>\n",
       "      <td>male</td>\n",
       "      <td>Gerald Everett</td>\n",
       "      <td>Playful</td>\n",
       "    </tr>\n",
       "    <tr>\n",
       "      <th>2</th>\n",
       "      <td>The Nahoni Range is a mountan range that is lo...</td>\n",
       "      <td>male</td>\n",
       "      <td>Nahoni Range</td>\n",
       "      <td>Creative</td>\n",
       "    </tr>\n",
       "  </tbody>\n",
       "</table>\n",
       "</div>"
      ],
      "text/plain": [
       "                                                text gender           title  \\\n",
       "0  I wonder what went through Bill Tom Closs's mi...   male      Bill Closs   \n",
       "1  Gerald Rashard Everett is a football tight end...   male  Gerald Everett   \n",
       "2  The Nahoni Range is a mountan range that is lo...   male    Nahoni Range   \n",
       "\n",
       "    persona  \n",
       "0      Deep  \n",
       "1   Playful  \n",
       "2  Creative  "
      ]
     },
     "metadata": {},
     "output_type": "display_data"
    }
   ],
   "source": [
    "val_data.head(3)"
   ]
  },
  {
   "cell_type": "code",
   "execution_count": null,
   "metadata": {},
   "outputs": [
    {
     "data": {
      "text/html": [
       "<div>\n",
       "<style scoped>\n",
       "    .dataframe tbody tr th:only-of-type {\n",
       "        vertical-align: middle;\n",
       "    }\n",
       "\n",
       "    .dataframe tbody tr th {\n",
       "        vertical-align: top;\n",
       "    }\n",
       "\n",
       "    .dataframe thead th {\n",
       "        text-align: right;\n",
       "    }\n",
       "</style>\n",
       "<table border=\"1\" class=\"dataframe\">\n",
       "  <thead>\n",
       "    <tr style=\"text-align: right;\">\n",
       "      <th></th>\n",
       "      <th>text</th>\n",
       "      <th>gender</th>\n",
       "      <th>title</th>\n",
       "      <th>persona</th>\n",
       "    </tr>\n",
       "  </thead>\n",
       "  <tbody>\n",
       "    <tr>\n",
       "      <th>23882</th>\n",
       "      <td>Jesse Gress is an amazing rock guitarist!</td>\n",
       "      <td>male</td>\n",
       "      <td>Jesse Gress</td>\n",
       "      <td>Energetic</td>\n",
       "    </tr>\n",
       "    <tr>\n",
       "      <th>23883</th>\n",
       "      <td>I wonder how Elam Stevenson's life would have ...</td>\n",
       "      <td>male</td>\n",
       "      <td>Elam Stevenson</td>\n",
       "      <td>Reflective</td>\n",
       "    </tr>\n",
       "    <tr>\n",
       "      <th>23884</th>\n",
       "      <td>If you seek the Olga Kostenko, you must go to ...</td>\n",
       "      <td>female</td>\n",
       "      <td>Olga Kostenko</td>\n",
       "      <td>Insightful</td>\n",
       "    </tr>\n",
       "    <tr>\n",
       "      <th>23885</th>\n",
       "      <td>Even though Charles A. Hickey had a great care...</td>\n",
       "      <td>male</td>\n",
       "      <td>Charles A. Hickey</td>\n",
       "      <td>Empathetic</td>\n",
       "    </tr>\n",
       "    <tr>\n",
       "      <th>23886</th>\n",
       "      <td>P. Frank Winkler a well known astro careerist ...</td>\n",
       "      <td>male</td>\n",
       "      <td>Frank Winkler</td>\n",
       "      <td>Insightful</td>\n",
       "    </tr>\n",
       "    <tr>\n",
       "      <th>23887</th>\n",
       "      <td>This concert pianist, Edward Cahill's music wa...</td>\n",
       "      <td>male</td>\n",
       "      <td>Edward Cahill (pianist)</td>\n",
       "      <td>Warm</td>\n",
       "    </tr>\n",
       "    <tr>\n",
       "      <th>23888</th>\n",
       "      <td>Your heart will be touched by the personal sto...</td>\n",
       "      <td>gender-neutral</td>\n",
       "      <td>Michèle Stephenson</td>\n",
       "      <td>Compassionate (Sympathetic, Warm)</td>\n",
       "    </tr>\n",
       "    <tr>\n",
       "      <th>23889</th>\n",
       "      <td>John Boning played in 35 matches, totalling 65...</td>\n",
       "      <td>male</td>\n",
       "      <td>John Boning</td>\n",
       "      <td>Practical</td>\n",
       "    </tr>\n",
       "    <tr>\n",
       "      <th>23890</th>\n",
       "      <td>Katie spencer has worked many films with sarah...</td>\n",
       "      <td>female</td>\n",
       "      <td>Katie Spencer</td>\n",
       "      <td>Scholarly</td>\n",
       "    </tr>\n",
       "    <tr>\n",
       "      <th>23891</th>\n",
       "      <td>English Crickiter Ian Burnley was born 03/11/1...</td>\n",
       "      <td>male</td>\n",
       "      <td>Ian Burnley</td>\n",
       "      <td>Exciting</td>\n",
       "    </tr>\n",
       "    <tr>\n",
       "      <th>23892</th>\n",
       "      <td>If Cristian Rosso can win 2 gold medals in the...</td>\n",
       "      <td>male</td>\n",
       "      <td>Cristian Rosso</td>\n",
       "      <td>Optimistic</td>\n",
       "    </tr>\n",
       "    <tr>\n",
       "      <th>23893</th>\n",
       "      <td>With altitudes ranging from a low 700 to a who...</td>\n",
       "      <td>gender-neutral</td>\n",
       "      <td>Wayanad district</td>\n",
       "      <td>Creative</td>\n",
       "    </tr>\n",
       "    <tr>\n",
       "      <th>23894</th>\n",
       "      <td>You can easily say that Cash Generator is the ...</td>\n",
       "      <td>male</td>\n",
       "      <td>Cash Generator</td>\n",
       "      <td>Energetic</td>\n",
       "    </tr>\n",
       "    <tr>\n",
       "      <th>23895</th>\n",
       "      <td>Eleanor Mosley (Elinor Mosely) (1700-?) when d...</td>\n",
       "      <td>female</td>\n",
       "      <td>Eleanor Mosley</td>\n",
       "      <td>Optimistic</td>\n",
       "    </tr>\n",
       "    <tr>\n",
       "      <th>23896</th>\n",
       "      <td>Timothy Steele stands firm that he writes poet...</td>\n",
       "      <td>male</td>\n",
       "      <td>Timothy Steele</td>\n",
       "      <td>Spirited</td>\n",
       "    </tr>\n",
       "  </tbody>\n",
       "</table>\n",
       "</div>"
      ],
      "text/plain": [
       "                                                    text          gender  \\\n",
       "23882          Jesse Gress is an amazing rock guitarist!            male   \n",
       "23883  I wonder how Elam Stevenson's life would have ...            male   \n",
       "23884  If you seek the Olga Kostenko, you must go to ...          female   \n",
       "23885  Even though Charles A. Hickey had a great care...            male   \n",
       "23886  P. Frank Winkler a well known astro careerist ...            male   \n",
       "23887  This concert pianist, Edward Cahill's music wa...            male   \n",
       "23888  Your heart will be touched by the personal sto...  gender-neutral   \n",
       "23889  John Boning played in 35 matches, totalling 65...            male   \n",
       "23890  Katie spencer has worked many films with sarah...          female   \n",
       "23891  English Crickiter Ian Burnley was born 03/11/1...            male   \n",
       "23892  If Cristian Rosso can win 2 gold medals in the...            male   \n",
       "23893  With altitudes ranging from a low 700 to a who...  gender-neutral   \n",
       "23894  You can easily say that Cash Generator is the ...            male   \n",
       "23895  Eleanor Mosley (Elinor Mosely) (1700-?) when d...          female   \n",
       "23896  Timothy Steele stands firm that he writes poet...            male   \n",
       "\n",
       "                         title                            persona  \n",
       "23882              Jesse Gress                          Energetic  \n",
       "23883           Elam Stevenson                         Reflective  \n",
       "23884            Olga Kostenko                         Insightful  \n",
       "23885        Charles A. Hickey                         Empathetic  \n",
       "23886            Frank Winkler                         Insightful  \n",
       "23887  Edward Cahill (pianist)                               Warm  \n",
       "23888       Michèle Stephenson  Compassionate (Sympathetic, Warm)  \n",
       "23889              John Boning                          Practical  \n",
       "23890            Katie Spencer                          Scholarly  \n",
       "23891              Ian Burnley                           Exciting  \n",
       "23892           Cristian Rosso                         Optimistic  \n",
       "23893         Wayanad district                           Creative  \n",
       "23894           Cash Generator                          Energetic  \n",
       "23895           Eleanor Mosley                         Optimistic  \n",
       "23896           Timothy Steele                           Spirited  "
      ]
     },
     "metadata": {},
     "output_type": "display_data"
    }
   ],
   "source": [
    "train_data.tail(15)"
   ]
  },
  {
   "cell_type": "code",
   "execution_count": null,
   "metadata": {},
   "outputs": [
    {
     "data": {
      "text/plain": [
       "male              19156\n",
       "female             3594\n",
       "gender-neutral     1147\n",
       "Name: gender, dtype: int64"
      ]
     },
     "metadata": {},
     "output_type": "display_data"
    }
   ],
   "source": [
    "train_data['gender'].value_counts()"
   ]
  },
  {
   "cell_type": "code",
   "execution_count": null,
   "metadata": {},
   "outputs": [
    {
     "data": {
      "text/html": [
       "<div>\n",
       "<style scoped>\n",
       "    .dataframe tbody tr th:only-of-type {\n",
       "        vertical-align: middle;\n",
       "    }\n",
       "\n",
       "    .dataframe tbody tr th {\n",
       "        vertical-align: top;\n",
       "    }\n",
       "\n",
       "    .dataframe thead th {\n",
       "        text-align: right;\n",
       "    }\n",
       "</style>\n",
       "<table border=\"1\" class=\"dataframe\">\n",
       "  <thead>\n",
       "    <tr style=\"text-align: right;\">\n",
       "      <th></th>\n",
       "      <th>text</th>\n",
       "      <th>gender</th>\n",
       "      <th>title</th>\n",
       "      <th>persona</th>\n",
       "    </tr>\n",
       "  </thead>\n",
       "  <tbody>\n",
       "    <tr>\n",
       "      <th>12413</th>\n",
       "      <td>Located in the lovely state of Idaho, Smoky Mo...</td>\n",
       "      <td>male</td>\n",
       "      <td>Smoky Mountain (Idaho)</td>\n",
       "      <td>Warm</td>\n",
       "    </tr>\n",
       "    <tr>\n",
       "      <th>9074</th>\n",
       "      <td>Glad that Derek Wallace was inserted into the ...</td>\n",
       "      <td>male</td>\n",
       "      <td>Derek Wallace</td>\n",
       "      <td>Rational</td>\n",
       "    </tr>\n",
       "    <tr>\n",
       "      <th>15829</th>\n",
       "      <td>There is no doubt in my mind that Shi Zhi will...</td>\n",
       "      <td>male</td>\n",
       "      <td>Shi Zhi</td>\n",
       "      <td>Optimistic</td>\n",
       "    </tr>\n",
       "    <tr>\n",
       "      <th>2602</th>\n",
       "      <td>Born on November 23, 1805, Joseph Pancoast was...</td>\n",
       "      <td>male</td>\n",
       "      <td>Joseph Pancoast</td>\n",
       "      <td>Objective (Detached, Impartial)</td>\n",
       "    </tr>\n",
       "    <tr>\n",
       "      <th>20893</th>\n",
       "      <td>Matt Conlan is an Australian politician.</td>\n",
       "      <td>male</td>\n",
       "      <td>Matt Conlan</td>\n",
       "      <td>Charming</td>\n",
       "    </tr>\n",
       "  </tbody>\n",
       "</table>\n",
       "</div>"
      ],
      "text/plain": [
       "                                                    text gender  \\\n",
       "12413  Located in the lovely state of Idaho, Smoky Mo...   male   \n",
       "9074   Glad that Derek Wallace was inserted into the ...   male   \n",
       "15829  There is no doubt in my mind that Shi Zhi will...   male   \n",
       "2602   Born on November 23, 1805, Joseph Pancoast was...   male   \n",
       "20893           Matt Conlan is an Australian politician.   male   \n",
       "\n",
       "                        title                          persona  \n",
       "12413  Smoky Mountain (Idaho)                             Warm  \n",
       "9074            Derek Wallace                         Rational  \n",
       "15829                 Shi Zhi                       Optimistic  \n",
       "2602          Joseph Pancoast  Objective (Detached, Impartial)  \n",
       "20893             Matt Conlan                         Charming  "
      ]
     },
     "metadata": {},
     "output_type": "display_data"
    }
   ],
   "source": [
    "train_data.sample(5)"
   ]
  },
  {
   "cell_type": "code",
   "execution_count": null,
   "metadata": {},
   "outputs": [
    {
     "data": {
      "text/html": [
       "<div>\n",
       "<style scoped>\n",
       "    .dataframe tbody tr th:only-of-type {\n",
       "        vertical-align: middle;\n",
       "    }\n",
       "\n",
       "    .dataframe tbody tr th {\n",
       "        vertical-align: top;\n",
       "    }\n",
       "\n",
       "    .dataframe thead th {\n",
       "        text-align: right;\n",
       "    }\n",
       "</style>\n",
       "<table border=\"1\" class=\"dataframe\">\n",
       "  <thead>\n",
       "    <tr style=\"text-align: right;\">\n",
       "      <th></th>\n",
       "      <th>text</th>\n",
       "      <th>gender</th>\n",
       "      <th>title</th>\n",
       "      <th>persona</th>\n",
       "    </tr>\n",
       "  </thead>\n",
       "  <tbody>\n",
       "    <tr>\n",
       "      <th>0</th>\n",
       "      <td>Max Landis is a comic book writer who wrote Ch...</td>\n",
       "      <td>male</td>\n",
       "      <td>Max Landis</td>\n",
       "      <td>Humorous</td>\n",
       "    </tr>\n",
       "    <tr>\n",
       "      <th>1</th>\n",
       "      <td>Félix stevens is a retired cuban sprinter who ...</td>\n",
       "      <td>male</td>\n",
       "      <td>Félix Stevens</td>\n",
       "      <td>Confident</td>\n",
       "    </tr>\n",
       "    <tr>\n",
       "      <th>2</th>\n",
       "      <td>Arthur Engelbert is a professor at the Univers...</td>\n",
       "      <td>male</td>\n",
       "      <td>Arthur Engelbert</td>\n",
       "      <td>Creative</td>\n",
       "    </tr>\n",
       "    <tr>\n",
       "      <th>3</th>\n",
       "      <td>Danielle Frenkel is a high jumper born in Israel</td>\n",
       "      <td>female</td>\n",
       "      <td>Danielle Frenkel</td>\n",
       "      <td>Brilliant</td>\n",
       "    </tr>\n",
       "    <tr>\n",
       "      <th>4</th>\n",
       "      <td>Ernie O'Malley served in the Irish republican ...</td>\n",
       "      <td>male</td>\n",
       "      <td>Ernie O'Malley</td>\n",
       "      <td>Gentle</td>\n",
       "    </tr>\n",
       "  </tbody>\n",
       "</table>\n",
       "</div>"
      ],
      "text/plain": [
       "                                                text  gender  \\\n",
       "0  Max Landis is a comic book writer who wrote Ch...    male   \n",
       "1  Félix stevens is a retired cuban sprinter who ...    male   \n",
       "2  Arthur Engelbert is a professor at the Univers...    male   \n",
       "3   Danielle Frenkel is a high jumper born in Israel  female   \n",
       "4  Ernie O'Malley served in the Irish republican ...    male   \n",
       "\n",
       "              title    persona  \n",
       "0        Max Landis   Humorous  \n",
       "1     Félix Stevens  Confident  \n",
       "2  Arthur Engelbert   Creative  \n",
       "3  Danielle Frenkel  Brilliant  \n",
       "4    Ernie O'Malley     Gentle  "
      ]
     },
     "metadata": {},
     "output_type": "display_data"
    }
   ],
   "source": [
    "train_data.head()"
   ]
  },
  {
   "cell_type": "code",
   "execution_count": null,
   "metadata": {},
   "outputs": [
    {
     "name": "stdout",
     "output_type": "stream",
     "text": [
      "<class 'pandas.core.frame.DataFrame'>\n",
      "RangeIndex: 2938 entries, 0 to 2937\n",
      "Data columns (total 4 columns):\n",
      " #   Column   Non-Null Count  Dtype \n",
      "---  ------   --------------  ----- \n",
      " 0   text     2938 non-null   object\n",
      " 1   gender   2938 non-null   object\n",
      " 2   title    2938 non-null   object\n",
      " 3   persona  2938 non-null   object\n",
      "dtypes: object(4)\n",
      "memory usage: 91.9+ KB\n"
     ]
    }
   ],
   "source": [
    "test_data.info()\n"
   ]
  },
  {
   "cell_type": "code",
   "execution_count": null,
   "metadata": {},
   "outputs": [
    {
     "name": "stdout",
     "output_type": "stream",
     "text": [
      "nrows raw unified dataset: 29819\n"
     ]
    },
    {
     "name": "stderr",
     "output_type": "stream",
     "text": [
      "/var/folders/70/yx3rlp812k545ncgsfplvcbc0000gn/T/ipykernel_65819/2186302442.py:2: FutureWarning:\n",
      "\n",
      "The frame.append method is deprecated and will be removed from pandas in a future version. Use pandas.concat instead.\n",
      "\n",
      "/var/folders/70/yx3rlp812k545ncgsfplvcbc0000gn/T/ipykernel_65819/2186302442.py:3: FutureWarning:\n",
      "\n",
      "The frame.append method is deprecated and will be removed from pandas in a future version. Use pandas.concat instead.\n",
      "\n"
     ]
    }
   ],
   "source": [
    "#combine pre-split datasets into one then apply train test split function twice\n",
    "unified_data = train_data.append(test_data, ignore_index=True)\n",
    "unified_data = unified_data.append(val_data, ignore_index=True)\n",
    "print('nrows raw unified dataset:', len(unified_data))"
   ]
  },
  {
   "cell_type": "code",
   "execution_count": null,
   "metadata": {},
   "outputs": [
    {
     "data": {
      "text/html": [
       "<div>\n",
       "<style scoped>\n",
       "    .dataframe tbody tr th:only-of-type {\n",
       "        vertical-align: middle;\n",
       "    }\n",
       "\n",
       "    .dataframe tbody tr th {\n",
       "        vertical-align: top;\n",
       "    }\n",
       "\n",
       "    .dataframe thead th {\n",
       "        text-align: right;\n",
       "    }\n",
       "</style>\n",
       "<table border=\"1\" class=\"dataframe\">\n",
       "  <thead>\n",
       "    <tr style=\"text-align: right;\">\n",
       "      <th></th>\n",
       "      <th>text</th>\n",
       "      <th>gender</th>\n",
       "      <th>title</th>\n",
       "      <th>persona</th>\n",
       "    </tr>\n",
       "  </thead>\n",
       "  <tbody>\n",
       "    <tr>\n",
       "      <th>0</th>\n",
       "      <td>Max Landis is a comic book writer who wrote Ch...</td>\n",
       "      <td>male</td>\n",
       "      <td>Max Landis</td>\n",
       "      <td>Humorous</td>\n",
       "    </tr>\n",
       "  </tbody>\n",
       "</table>\n",
       "</div>"
      ],
      "text/plain": [
       "                                                text gender       title  \\\n",
       "0  Max Landis is a comic book writer who wrote Ch...   male  Max Landis   \n",
       "\n",
       "    persona  \n",
       "0  Humorous  "
      ]
     },
     "metadata": {},
     "output_type": "display_data"
    }
   ],
   "source": [
    "unified_data.head(1)"
   ]
  },
  {
   "cell_type": "code",
   "execution_count": null,
   "metadata": {},
   "outputs": [],
   "source": [
    "#drop all columns except text and label\n",
    "unified_data = unified_data[['text', 'gender']]"
   ]
  },
  {
   "cell_type": "code",
   "execution_count": null,
   "metadata": {},
   "outputs": [
    {
     "data": {
      "text/html": [
       "<div>\n",
       "<style scoped>\n",
       "    .dataframe tbody tr th:only-of-type {\n",
       "        vertical-align: middle;\n",
       "    }\n",
       "\n",
       "    .dataframe tbody tr th {\n",
       "        vertical-align: top;\n",
       "    }\n",
       "\n",
       "    .dataframe thead th {\n",
       "        text-align: right;\n",
       "    }\n",
       "</style>\n",
       "<table border=\"1\" class=\"dataframe\">\n",
       "  <thead>\n",
       "    <tr style=\"text-align: right;\">\n",
       "      <th></th>\n",
       "      <th>text</th>\n",
       "      <th>gender</th>\n",
       "    </tr>\n",
       "  </thead>\n",
       "  <tbody>\n",
       "    <tr>\n",
       "      <th>0</th>\n",
       "      <td>Max Landis is a comic book writer who wrote Ch...</td>\n",
       "      <td>male</td>\n",
       "    </tr>\n",
       "  </tbody>\n",
       "</table>\n",
       "</div>"
      ],
      "text/plain": [
       "                                                text gender\n",
       "0  Max Landis is a comic book writer who wrote Ch...   male"
      ]
     },
     "metadata": {},
     "output_type": "display_data"
    }
   ],
   "source": [
    "unified_data.head(1)"
   ]
  },
  {
   "cell_type": "code",
   "execution_count": null,
   "metadata": {},
   "outputs": [],
   "source": [
    "#ensure all text lowercase so can compare for duplicates\n",
    "for col in ['text', 'gender']:\n",
    "    unified_data[col] = unified_data[col].str.lower()"
   ]
  },
  {
   "cell_type": "code",
   "execution_count": null,
   "metadata": {},
   "outputs": [
    {
     "data": {
      "text/html": [
       "<div>\n",
       "<style scoped>\n",
       "    .dataframe tbody tr th:only-of-type {\n",
       "        vertical-align: middle;\n",
       "    }\n",
       "\n",
       "    .dataframe tbody tr th {\n",
       "        vertical-align: top;\n",
       "    }\n",
       "\n",
       "    .dataframe thead th {\n",
       "        text-align: right;\n",
       "    }\n",
       "</style>\n",
       "<table border=\"1\" class=\"dataframe\">\n",
       "  <thead>\n",
       "    <tr style=\"text-align: right;\">\n",
       "      <th></th>\n",
       "      <th>text</th>\n",
       "      <th>gender</th>\n",
       "    </tr>\n",
       "  </thead>\n",
       "  <tbody>\n",
       "    <tr>\n",
       "      <th>0</th>\n",
       "      <td>max landis is a comic book writer who wrote ch...</td>\n",
       "      <td>male</td>\n",
       "    </tr>\n",
       "    <tr>\n",
       "      <th>1</th>\n",
       "      <td>félix stevens is a retired cuban sprinter who ...</td>\n",
       "      <td>male</td>\n",
       "    </tr>\n",
       "    <tr>\n",
       "      <th>2</th>\n",
       "      <td>arthur engelbert is a professor at the univers...</td>\n",
       "      <td>male</td>\n",
       "    </tr>\n",
       "  </tbody>\n",
       "</table>\n",
       "</div>"
      ],
      "text/plain": [
       "                                                text gender\n",
       "0  max landis is a comic book writer who wrote ch...   male\n",
       "1  félix stevens is a retired cuban sprinter who ...   male\n",
       "2  arthur engelbert is a professor at the univers...   male"
      ]
     },
     "metadata": {},
     "output_type": "display_data"
    }
   ],
   "source": [
    "unified_data.head(3)"
   ]
  },
  {
   "cell_type": "code",
   "execution_count": null,
   "metadata": {},
   "outputs": [
    {
     "name": "stdout",
     "output_type": "stream",
     "text": [
      "Number of duplicates: 1\n",
      "Number of duplicates: 0\n"
     ]
    }
   ],
   "source": [
    "#check duplicate rows in 'text' column\n",
    "print('Number of duplicates:', len(unified_data[unified_data.duplicated(['text'])]))\n",
    "#drop duplicates\n",
    "unified_data.drop_duplicates(subset=['text'], inplace = True)\n",
    "#recheck number of duplicates\n",
    "print('Number of duplicates:', len(unified_data[unified_data.duplicated(['text'])]))"
   ]
  },
  {
   "cell_type": "code",
   "execution_count": null,
   "metadata": {},
   "outputs": [
    {
     "data": {
      "text/html": [
       "<div>\n",
       "<style scoped>\n",
       "    .dataframe tbody tr th:only-of-type {\n",
       "        vertical-align: middle;\n",
       "    }\n",
       "\n",
       "    .dataframe tbody tr th {\n",
       "        vertical-align: top;\n",
       "    }\n",
       "\n",
       "    .dataframe thead th {\n",
       "        text-align: right;\n",
       "    }\n",
       "</style>\n",
       "<table border=\"1\" class=\"dataframe\">\n",
       "  <thead>\n",
       "    <tr style=\"text-align: right;\">\n",
       "      <th></th>\n",
       "      <th>text</th>\n",
       "      <th>gender</th>\n",
       "    </tr>\n",
       "  </thead>\n",
       "  <tbody>\n",
       "    <tr>\n",
       "      <th>0</th>\n",
       "      <td>max landis is a comic book writer who wrote ch...</td>\n",
       "      <td>male</td>\n",
       "    </tr>\n",
       "    <tr>\n",
       "      <th>1</th>\n",
       "      <td>félix stevens is a retired cuban sprinter who ...</td>\n",
       "      <td>male</td>\n",
       "    </tr>\n",
       "    <tr>\n",
       "      <th>2</th>\n",
       "      <td>arthur engelbert is a professor at the univers...</td>\n",
       "      <td>male</td>\n",
       "    </tr>\n",
       "    <tr>\n",
       "      <th>3</th>\n",
       "      <td>danielle frenkel is a high jumper born in israel</td>\n",
       "      <td>female</td>\n",
       "    </tr>\n",
       "    <tr>\n",
       "      <th>4</th>\n",
       "      <td>ernie o'malley served in the irish republican ...</td>\n",
       "      <td>male</td>\n",
       "    </tr>\n",
       "  </tbody>\n",
       "</table>\n",
       "</div>"
      ],
      "text/plain": [
       "                                                text  gender\n",
       "0  max landis is a comic book writer who wrote ch...    male\n",
       "1  félix stevens is a retired cuban sprinter who ...    male\n",
       "2  arthur engelbert is a professor at the univers...    male\n",
       "3   danielle frenkel is a high jumper born in israel  female\n",
       "4  ernie o'malley served in the irish republican ...    male"
      ]
     },
     "metadata": {},
     "output_type": "display_data"
    }
   ],
   "source": [
    "unified_data.head()"
   ]
  },
  {
   "cell_type": "code",
   "execution_count": null,
   "metadata": {},
   "outputs": [
    {
     "data": {
      "text/plain": [
       "<AxesSubplot:title={'center':'UNIFIED data class counts'}>"
      ]
     },
     "metadata": {},
     "output_type": "display_data"
    },
    {
     "data": {
      "image/png": "[encoded data removed]",
      "text/plain": [
       "<Figure size 432x288 with 1 Axes>"
      ]
     },
     "metadata": {},
     "output_type": "display_data"
    }
   ],
   "source": [
    "unified_data['gender'].value_counts().plot(kind = 'bar', title = 'UNIFIED data class counts')"
   ]
  },
  {
   "cell_type": "code",
   "execution_count": null,
   "metadata": {},
   "outputs": [
    {
     "name": "stdout",
     "output_type": "stream",
     "text": [
      "            class  counts\n",
      "0            male   23938\n",
      "1          female    4457\n",
      "2  gender-neutral    1423\n"
     ]
    },
    {
     "data": {
      "application/vnd.plotly.v1+json": {
       "config": {
        "plotlyServerURL": "https://plot.ly"
       },
       "data": [
        {
         "alignmentgroup": "True",
         "hovertemplate": "class=%{x}<br>counts=%{y}<extra></extra>",
         "legendgroup": "",
         "marker": {
          "color": "#636efa",
          "pattern": {
           "shape": ""
          }
         },
         "name": "",
         "offsetgroup": "",
         "orientation": "v",
         "showlegend": false,
         "textposition": "auto",
         "type": "bar",
         "x": [
          "male",
          "female",
          "gender-neutral"
         ],
         "xaxis": "x",
         "y": [
          23938,
          4457,
          1423
         ],
         "yaxis": "y"
        }
       ],
       "layout": {
        "barmode": "relative",
        "legend": {
         "tracegroupgap": 0
        },
        "template": {
         "data": {
          "bar": [
           {
            "error_x": {
             "color": "#2a3f5f"
            },
            "error_y": {
             "color": "#2a3f5f"
            },
            "marker": {
             "line": {
              "color": "#E5ECF6",
              "width": 0.5
             },
             "pattern": {
              "fillmode": "overlay",
              "size": 10,
              "solidity": 0.2
             }
            },
            "type": "bar"
           }
          ],
          "barpolar": [
           {
            "marker": {
             "line": {
              "color": "#E5ECF6",
              "width": 0.5
             },
             "pattern": {
              "fillmode": "overlay",
              "size": 10,
              "solidity": 0.2
             }
            },
            "type": "barpolar"
           }
          ],
          "carpet": [
           {
            "aaxis": {
             "endlinecolor": "#2a3f5f",
             "gridcolor": "white",
             "linecolor": "white",
             "minorgridcolor": "white",
             "startlinecolor": "#2a3f5f"
            },
            "baxis": {
             "endlinecolor": "#2a3f5f",
             "gridcolor": "white",
             "linecolor": "white",
             "minorgridcolor": "white",
             "startlinecolor": "#2a3f5f"
            },
            "type": "carpet"
           }
          ],
          "choropleth": [
           {
            "colorbar": {
             "outlinewidth": 0,
             "ticks": ""
            },
            "type": "choropleth"
           }
          ],
          "contour": [
           {
            "colorbar": {
             "outlinewidth": 0,
             "ticks": ""
            },
            "colorscale": [
             [
              0,
              "#0d0887"
             ],
             [
              0.1111111111111111,
              "#46039f"
             ],
             [
              0.2222222222222222,
              "#7201a8"
             ],
             [
              0.3333333333333333,
              "#9c179e"
             ],
             [
              0.4444444444444444,
              "#bd3786"
             ],
             [
              0.5555555555555556,
              "#d8576b"
             ],
             [
              0.6666666666666666,
              "#ed7953"
             ],
             [
              0.7777777777777778,
              "#fb9f3a"
             ],
             [
              0.8888888888888888,
              "#fdca26"
             ],
             [
              1,
              "#f0f921"
             ]
            ],
            "type": "contour"
           }
          ],
          "contourcarpet": [
           {
            "colorbar": {
             "outlinewidth": 0,
             "ticks": ""
            },
            "type": "contourcarpet"
           }
          ],
          "heatmap": [
           {
            "colorbar": {
             "outlinewidth": 0,
             "ticks": ""
            },
            "colorscale": [
             [
              0,
              "#0d0887"
             ],
             [
              0.1111111111111111,
              "#46039f"
             ],
             [
              0.2222222222222222,
              "#7201a8"
             ],
             [
              0.3333333333333333,
              "#9c179e"
             ],
             [
              0.4444444444444444,
              "#bd3786"
             ],
             [
              0.5555555555555556,
              "#d8576b"
             ],
             [
              0.6666666666666666,
              "#ed7953"
             ],
             [
              0.7777777777777778,
              "#fb9f3a"
             ],
             [
              0.8888888888888888,
              "#fdca26"
             ],
             [
              1,
              "#f0f921"
             ]
            ],
            "type": "heatmap"
           }
          ],
          "heatmapgl": [
           {
            "colorbar": {
             "outlinewidth": 0,
             "ticks": ""
            },
            "colorscale": [
             [
              0,
              "#0d0887"
             ],
             [
              0.1111111111111111,
              "#46039f"
             ],
             [
              0.2222222222222222,
              "#7201a8"
             ],
             [
              0.3333333333333333,
              "#9c179e"
             ],
             [
              0.4444444444444444,
              "#bd3786"
             ],
             [
              0.5555555555555556,
              "#d8576b"
             ],
             [
              0.6666666666666666,
              "#ed7953"
             ],
             [
              0.7777777777777778,
              "#fb9f3a"
             ],
             [
              0.8888888888888888,
              "#fdca26"
             ],
             [
              1,
              "#f0f921"
             ]
            ],
            "type": "heatmapgl"
           }
          ],
          "histogram": [
           {
            "marker": {
             "pattern": {
              "fillmode": "overlay",
              "size": 10,
              "solidity": 0.2
             }
            },
            "type": "histogram"
           }
          ],
          "histogram2d": [
           {
            "colorbar": {
             "outlinewidth": 0,
             "ticks": ""
            },
            "colorscale": [
             [
              0,
              "#0d0887"
             ],
             [
              0.1111111111111111,
              "#46039f"
             ],
             [
              0.2222222222222222,
              "#7201a8"
             ],
             [
              0.3333333333333333,
              "#9c179e"
             ],
             [
              0.4444444444444444,
              "#bd3786"
             ],
             [
              0.5555555555555556,
              "#d8576b"
             ],
             [
              0.6666666666666666,
              "#ed7953"
             ],
             [
              0.7777777777777778,
              "#fb9f3a"
             ],
             [
              0.8888888888888888,
              "#fdca26"
             ],
             [
              1,
              "#f0f921"
             ]
            ],
            "type": "histogram2d"
           }
          ],
          "histogram2dcontour": [
           {
            "colorbar": {
             "outlinewidth": 0,
             "ticks": ""
            },
            "colorscale": [
             [
              0,
              "#0d0887"
             ],
             [
              0.1111111111111111,
              "#46039f"
             ],
             [
              0.2222222222222222,
              "#7201a8"
             ],
             [
              0.3333333333333333,
              "#9c179e"
             ],
             [
              0.4444444444444444,
              "#bd3786"
             ],
             [
              0.5555555555555556,
              "#d8576b"
             ],
             [
              0.6666666666666666,
              "#ed7953"
             ],
             [
              0.7777777777777778,
              "#fb9f3a"
             ],
             [
              0.8888888888888888,
              "#fdca26"
             ],
             [
              1,
              "#f0f921"
             ]
            ],
            "type": "histogram2dcontour"
           }
          ],
          "mesh3d": [
           {
            "colorbar": {
             "outlinewidth": 0,
             "ticks": ""
            },
            "type": "mesh3d"
           }
          ],
          "parcoords": [
           {
            "line": {
             "colorbar": {
              "outlinewidth": 0,
              "ticks": ""
             }
            },
            "type": "parcoords"
           }
          ],
          "pie": [
           {
            "automargin": true,
            "type": "pie"
           }
          ],
          "scatter": [
           {
            "fillpattern": {
             "fillmode": "overlay",
             "size": 10,
             "solidity": 0.2
            },
            "type": "scatter"
           }
          ],
          "scatter3d": [
           {
            "line": {
             "colorbar": {
              "outlinewidth": 0,
              "ticks": ""
             }
            },
            "marker": {
             "colorbar": {
              "outlinewidth": 0,
              "ticks": ""
             }
            },
            "type": "scatter3d"
           }
          ],
          "scattercarpet": [
           {
            "marker": {
             "colorbar": {
              "outlinewidth": 0,
              "ticks": ""
             }
            },
            "type": "scattercarpet"
           }
          ],
          "scattergeo": [
           {
            "marker": {
             "colorbar": {
              "outlinewidth": 0,
              "ticks": ""
             }
            },
            "type": "scattergeo"
           }
          ],
          "scattergl": [
           {
            "marker": {
             "colorbar": {
              "outlinewidth": 0,
              "ticks": ""
             }
            },
            "type": "scattergl"
           }
          ],
          "scattermapbox": [
           {
            "marker": {
             "colorbar": {
              "outlinewidth": 0,
              "ticks": ""
             }
            },
            "type": "scattermapbox"
           }
          ],
          "scatterpolar": [
           {
            "marker": {
             "colorbar": {
              "outlinewidth": 0,
              "ticks": ""
             }
            },
            "type": "scatterpolar"
           }
          ],
          "scatterpolargl": [
           {
            "marker": {
             "colorbar": {
              "outlinewidth": 0,
              "ticks": ""
             }
            },
            "type": "scatterpolargl"
           }
          ],
          "scatterternary": [
           {
            "marker": {
             "colorbar": {
              "outlinewidth": 0,
              "ticks": ""
             }
            },
            "type": "scatterternary"
           }
          ],
          "surface": [
           {
            "colorbar": {
             "outlinewidth": 0,
             "ticks": ""
            },
            "colorscale": [
             [
              0,
              "#0d0887"
             ],
             [
              0.1111111111111111,
              "#46039f"
             ],
             [
              0.2222222222222222,
              "#7201a8"
             ],
             [
              0.3333333333333333,
              "#9c179e"
             ],
             [
              0.4444444444444444,
              "#bd3786"
             ],
             [
              0.5555555555555556,
              "#d8576b"
             ],
             [
              0.6666666666666666,
              "#ed7953"
             ],
             [
              0.7777777777777778,
              "#fb9f3a"
             ],
             [
              0.8888888888888888,
              "#fdca26"
             ],
             [
              1,
              "#f0f921"
             ]
            ],
            "type": "surface"
           }
          ],
          "table": [
           {
            "cells": {
             "fill": {
              "color": "#EBF0F8"
             },
             "line": {
              "color": "white"
             }
            },
            "header": {
             "fill": {
              "color": "#C8D4E3"
             },
             "line": {
              "color": "white"
             }
            },
            "type": "table"
           }
          ]
         },
         "layout": {
          "annotationdefaults": {
           "arrowcolor": "#2a3f5f",
           "arrowhead": 0,
           "arrowwidth": 1
          },
          "autotypenumbers": "strict",
          "coloraxis": {
           "colorbar": {
            "outlinewidth": 0,
            "ticks": ""
           }
          },
          "colorscale": {
           "diverging": [
            [
             0,
             "#8e0152"
            ],
            [
             0.1,
             "#c51b7d"
            ],
            [
             0.2,
             "#de77ae"
            ],
            [
             0.3,
             "#f1b6da"
            ],
            [
             0.4,
             "#fde0ef"
            ],
            [
             0.5,
             "#f7f7f7"
            ],
            [
             0.6,
             "#e6f5d0"
            ],
            [
             0.7,
             "#b8e186"
            ],
            [
             0.8,
             "#7fbc41"
            ],
            [
             0.9,
             "#4d9221"
            ],
            [
             1,
             "#276419"
            ]
           ],
           "sequential": [
            [
             0,
             "#0d0887"
            ],
            [
             0.1111111111111111,
             "#46039f"
            ],
            [
             0.2222222222222222,
             "#7201a8"
            ],
            [
             0.3333333333333333,
             "#9c179e"
            ],
            [
             0.4444444444444444,
             "#bd3786"
            ],
            [
             0.5555555555555556,
             "#d8576b"
            ],
            [
             0.6666666666666666,
             "#ed7953"
            ],
            [
             0.7777777777777778,
             "#fb9f3a"
            ],
            [
             0.8888888888888888,
             "#fdca26"
            ],
            [
             1,
             "#f0f921"
            ]
           ],
           "sequentialminus": [
            [
             0,
             "#0d0887"
            ],
            [
             0.1111111111111111,
             "#46039f"
            ],
            [
             0.2222222222222222,
             "#7201a8"
            ],
            [
             0.3333333333333333,
             "#9c179e"
            ],
            [
             0.4444444444444444,
             "#bd3786"
            ],
            [
             0.5555555555555556,
             "#d8576b"
            ],
            [
             0.6666666666666666,
             "#ed7953"
            ],
            [
             0.7777777777777778,
             "#fb9f3a"
            ],
            [
             0.8888888888888888,
             "#fdca26"
            ],
            [
             1,
             "#f0f921"
            ]
           ]
          },
          "colorway": [
           "#636efa",
           "#EF553B",
           "#00cc96",
           "#ab63fa",
           "#FFA15A",
           "#19d3f3",
           "#FF6692",
           "#B6E880",
           "#FF97FF",
           "#FECB52"
          ],
          "font": {
           "color": "#2a3f5f"
          },
          "geo": {
           "bgcolor": "white",
           "lakecolor": "white",
           "landcolor": "#E5ECF6",
           "showlakes": true,
           "showland": true,
           "subunitcolor": "white"
          },
          "hoverlabel": {
           "align": "left"
          },
          "hovermode": "closest",
          "mapbox": {
           "style": "light"
          },
          "paper_bgcolor": "white",
          "plot_bgcolor": "#E5ECF6",
          "polar": {
           "angularaxis": {
            "gridcolor": "white",
            "linecolor": "white",
            "ticks": ""
           },
           "bgcolor": "#E5ECF6",
           "radialaxis": {
            "gridcolor": "white",
            "linecolor": "white",
            "ticks": ""
           }
          },
          "scene": {
           "xaxis": {
            "backgroundcolor": "#E5ECF6",
            "gridcolor": "white",
            "gridwidth": 2,
            "linecolor": "white",
            "showbackground": true,
            "ticks": "",
            "zerolinecolor": "white"
           },
           "yaxis": {
            "backgroundcolor": "#E5ECF6",
            "gridcolor": "white",
            "gridwidth": 2,
            "linecolor": "white",
            "showbackground": true,
            "ticks": "",
            "zerolinecolor": "white"
           },
           "zaxis": {
            "backgroundcolor": "#E5ECF6",
            "gridcolor": "white",
            "gridwidth": 2,
            "linecolor": "white",
            "showbackground": true,
            "ticks": "",
            "zerolinecolor": "white"
           }
          },
          "shapedefaults": {
           "line": {
            "color": "#2a3f5f"
           }
          },
          "ternary": {
           "aaxis": {
            "gridcolor": "white",
            "linecolor": "white",
            "ticks": ""
           },
           "baxis": {
            "gridcolor": "white",
            "linecolor": "white",
            "ticks": ""
           },
           "bgcolor": "#E5ECF6",
           "caxis": {
            "gridcolor": "white",
            "linecolor": "white",
            "ticks": ""
           }
          },
          "title": {
           "x": 0.05
          },
          "xaxis": {
           "automargin": true,
           "gridcolor": "white",
           "linecolor": "white",
           "ticks": "",
           "title": {
            "standoff": 15
           },
           "zerolinecolor": "white",
           "zerolinewidth": 2
          },
          "yaxis": {
           "automargin": true,
           "gridcolor": "white",
           "linecolor": "white",
           "ticks": "",
           "title": {
            "standoff": 15
           },
           "zerolinecolor": "white",
           "zerolinewidth": 2
          }
         }
        },
        "title": {
         "text": "UNIFIED data class counts"
        },
        "xaxis": {
         "anchor": "y",
         "domain": [
          0,
          1
         ],
         "title": {
          "text": "class"
         }
        },
        "yaxis": {
         "anchor": "x",
         "domain": [
          0,
          1
         ],
         "title": {
          "text": "counts"
         }
        }
       }
      }
     },
     "metadata": {},
     "output_type": "display_data"
    }
   ],
   "source": [
    "class_counts_df = pd.DataFrame(unified_data['gender'].value_counts())\n",
    "class_counts_df.reset_index(inplace = True)\n",
    "class_counts_df.columns = ['class', 'counts']\n",
    "print(class_counts_df.head())\n",
    "\n",
    "fig = px.bar(class_counts_df, x = 'class', y = 'counts', title = 'UNIFIED data class counts')\n",
    "fig.show()"
   ]
  },
  {
   "cell_type": "markdown",
   "metadata": {},
   "source": [
    "to do:\n",
    "- drop 'gender-neutral'\n",
    "- fix considerable class imbalance between 'male' and 'female' by downsampling 'male' class\n",
    "- check NAs"
   ]
  },
  {
   "cell_type": "code",
   "execution_count": null,
   "metadata": {},
   "outputs": [
    {
     "data": {
      "text/plain": [
       "class     0\n",
       "counts    0\n",
       "dtype: int64"
      ]
     },
     "metadata": {},
     "output_type": "display_data"
    }
   ],
   "source": [
    "#check NAs\n",
    "class_counts_df.isna().sum()"
   ]
  },
  {
   "cell_type": "code",
   "execution_count": null,
   "metadata": {},
   "outputs": [
    {
     "data": {
      "text/plain": [
       "text      0\n",
       "gender    0\n",
       "dtype: int64"
      ]
     },
     "metadata": {},
     "output_type": "display_data"
    }
   ],
   "source": [
    "#check NAs\n",
    "unified_data.isnull().sum()"
   ]
  },
  {
   "cell_type": "code",
   "execution_count": null,
   "metadata": {},
   "outputs": [],
   "source": [
    "#drop NAs\n",
    "unified_data.dropna(inplace = True)"
   ]
  },
  {
   "cell_type": "code",
   "execution_count": null,
   "metadata": {},
   "outputs": [],
   "source": [
    "#drop 'gender-neutral' class?\n",
    "unified_data = unified_data[unified_data['gender'] != 'gender-neutral']"
   ]
  },
  {
   "cell_type": "code",
   "execution_count": null,
   "metadata": {},
   "outputs": [
    {
     "data": {
      "text/plain": [
       "male      23938\n",
       "female     4457\n",
       "Name: gender, dtype: int64"
      ]
     },
     "metadata": {},
     "output_type": "display_data"
    }
   ],
   "source": [
    "unified_data['gender'].value_counts()"
   ]
  },
  {
   "cell_type": "code",
   "execution_count": null,
   "metadata": {},
   "outputs": [
    {
     "data": {
      "text/plain": [
       "<AxesSubplot:title={'center':'UNIFIED data class counts'}>"
      ]
     },
     "metadata": {},
     "output_type": "display_data"
    },
    {
     "data": {
      "image/png": "[encoded data removed]",
      "text/plain": [
       "<Figure size 432x288 with 1 Axes>"
      ]
     },
     "metadata": {},
     "output_type": "display_data"
    }
   ],
   "source": [
    "unified_data['gender'].value_counts().plot(kind = 'bar', title = 'UNIFIED data class counts')"
   ]
  },
  {
   "cell_type": "code",
   "execution_count": null,
   "metadata": {},
   "outputs": [
    {
     "name": "stdout",
     "output_type": "stream",
     "text": [
      "'male' class is  5.37 times larger than 'female' class\n"
     ]
    }
   ],
   "source": [
    "#check class imbalance\n",
    "print('\\'male\\' class is ', round(len(unified_data[unified_data['gender'] == 'male'])/len(unified_data[unified_data['gender'] == 'female']), 2), 'times larger than \\'female\\' class')"
   ]
  },
  {
   "cell_type": "code",
   "execution_count": null,
   "metadata": {},
   "outputs": [
    {
     "data": {
      "text/plain": [
       "(28395,)"
      ]
     },
     "metadata": {},
     "output_type": "display_data"
    }
   ],
   "source": [
    "unified_data['text'].shape"
   ]
  },
  {
   "cell_type": "code",
   "execution_count": null,
   "metadata": {},
   "outputs": [
    {
     "data": {
      "text/html": [
       "<div>\n",
       "<style scoped>\n",
       "    .dataframe tbody tr th:only-of-type {\n",
       "        vertical-align: middle;\n",
       "    }\n",
       "\n",
       "    .dataframe tbody tr th {\n",
       "        vertical-align: top;\n",
       "    }\n",
       "\n",
       "    .dataframe thead th {\n",
       "        text-align: right;\n",
       "    }\n",
       "</style>\n",
       "<table border=\"1\" class=\"dataframe\">\n",
       "  <thead>\n",
       "    <tr style=\"text-align: right;\">\n",
       "      <th></th>\n",
       "      <th>text</th>\n",
       "      <th>gender</th>\n",
       "    </tr>\n",
       "  </thead>\n",
       "  <tbody>\n",
       "    <tr>\n",
       "      <th>3</th>\n",
       "      <td>danielle frenkel is a high jumper born in israel</td>\n",
       "      <td>female</td>\n",
       "    </tr>\n",
       "    <tr>\n",
       "      <th>12</th>\n",
       "      <td>tania mihailuk is a politician who was born in...</td>\n",
       "      <td>female</td>\n",
       "    </tr>\n",
       "    <tr>\n",
       "      <th>13</th>\n",
       "      <td>juliet taylor is a woman who works as a castin...</td>\n",
       "      <td>female</td>\n",
       "    </tr>\n",
       "    <tr>\n",
       "      <th>14</th>\n",
       "      <td>margaret caroline rudd was born in britain. sh...</td>\n",
       "      <td>female</td>\n",
       "    </tr>\n",
       "    <tr>\n",
       "      <th>15</th>\n",
       "      <td>retta scott was an american artist who died in...</td>\n",
       "      <td>female</td>\n",
       "    </tr>\n",
       "    <tr>\n",
       "      <th>16</th>\n",
       "      <td>cicely mary barker was a fantasy illustrator w...</td>\n",
       "      <td>female</td>\n",
       "    </tr>\n",
       "    <tr>\n",
       "      <th>20</th>\n",
       "      <td>che zahara worked as a malay activist and foug...</td>\n",
       "      <td>female</td>\n",
       "    </tr>\n",
       "    <tr>\n",
       "      <th>21</th>\n",
       "      <td>i feel gratitude towards evelyn dunbar, she he...</td>\n",
       "      <td>female</td>\n",
       "    </tr>\n",
       "    <tr>\n",
       "      <th>24</th>\n",
       "      <td>geraldine kattnig was born on february 4, 1930...</td>\n",
       "      <td>female</td>\n",
       "    </tr>\n",
       "    <tr>\n",
       "      <th>28</th>\n",
       "      <td>amy thomson is a hard science fiction writing ...</td>\n",
       "      <td>female</td>\n",
       "    </tr>\n",
       "  </tbody>\n",
       "</table>\n",
       "</div>"
      ],
      "text/plain": [
       "                                                 text  gender\n",
       "3    danielle frenkel is a high jumper born in israel  female\n",
       "12  tania mihailuk is a politician who was born in...  female\n",
       "13  juliet taylor is a woman who works as a castin...  female\n",
       "14  margaret caroline rudd was born in britain. sh...  female\n",
       "15  retta scott was an american artist who died in...  female\n",
       "16  cicely mary barker was a fantasy illustrator w...  female\n",
       "20  che zahara worked as a malay activist and foug...  female\n",
       "21  i feel gratitude towards evelyn dunbar, she he...  female\n",
       "24  geraldine kattnig was born on february 4, 1930...  female\n",
       "28  amy thomson is a hard science fiction writing ...  female"
      ]
     },
     "metadata": {},
     "output_type": "display_data"
    }
   ],
   "source": [
    "unified_data[unified_data['gender'] == 'female'].head(10)"
   ]
  },
  {
   "cell_type": "code",
   "execution_count": null,
   "metadata": {},
   "outputs": [],
   "source": [
    "#downsample 'male' to fix class imbalance\n",
    "from imblearn.under_sampling import RandomUnderSampler\n",
    "undersample = RandomUnderSampler(sampling_strategy='majority', random_state= 0)\n",
    "X = np.array(unified_data['text']).reshape(-1, 1)\n",
    "y = np.array(unified_data['gender']).reshape(-1, 1)\n",
    "X_undersample, y_undersample = undersample.fit_resample(X, y)"
   ]
  },
  {
   "cell_type": "code",
   "execution_count": null,
   "metadata": {},
   "outputs": [],
   "source": [
    "#flatten to 1D array in order to reocmbine into a new undersampled 'unified_data' dataframe\n",
    "X_undersample = X_undersample.flatten()\n",
    "y_undersample = y_undersample.flatten()"
   ]
  },
  {
   "cell_type": "code",
   "execution_count": null,
   "metadata": {},
   "outputs": [
    {
     "name": "stdout",
     "output_type": "stream",
     "text": [
      "(8914,)\n",
      "(8914,)\n"
     ]
    }
   ],
   "source": [
    "print(X_undersample.shape)\n",
    "print(y_undersample.shape)"
   ]
  },
  {
   "cell_type": "code",
   "execution_count": null,
   "metadata": {},
   "outputs": [],
   "source": [
    "unified_data = pd.DataFrame({'text': X_undersample, 'gender': list(y_undersample)}, columns=['text', 'gender'])"
   ]
  },
  {
   "cell_type": "code",
   "execution_count": null,
   "metadata": {},
   "outputs": [
    {
     "data": {
      "text/html": [
       "<div>\n",
       "<style scoped>\n",
       "    .dataframe tbody tr th:only-of-type {\n",
       "        vertical-align: middle;\n",
       "    }\n",
       "\n",
       "    .dataframe tbody tr th {\n",
       "        vertical-align: top;\n",
       "    }\n",
       "\n",
       "    .dataframe thead th {\n",
       "        text-align: right;\n",
       "    }\n",
       "</style>\n",
       "<table border=\"1\" class=\"dataframe\">\n",
       "  <thead>\n",
       "    <tr style=\"text-align: right;\">\n",
       "      <th></th>\n",
       "      <th>text</th>\n",
       "      <th>gender</th>\n",
       "    </tr>\n",
       "  </thead>\n",
       "  <tbody>\n",
       "    <tr>\n",
       "      <th>0</th>\n",
       "      <td>danielle frenkel is a high jumper born in israel</td>\n",
       "      <td>female</td>\n",
       "    </tr>\n",
       "    <tr>\n",
       "      <th>1</th>\n",
       "      <td>tania mihailuk is a politician who was born in...</td>\n",
       "      <td>female</td>\n",
       "    </tr>\n",
       "    <tr>\n",
       "      <th>2</th>\n",
       "      <td>juliet taylor is a woman who works as a castin...</td>\n",
       "      <td>female</td>\n",
       "    </tr>\n",
       "    <tr>\n",
       "      <th>3</th>\n",
       "      <td>margaret caroline rudd was born in britain. sh...</td>\n",
       "      <td>female</td>\n",
       "    </tr>\n",
       "    <tr>\n",
       "      <th>4</th>\n",
       "      <td>retta scott was an american artist who died in...</td>\n",
       "      <td>female</td>\n",
       "    </tr>\n",
       "    <tr>\n",
       "      <th>5</th>\n",
       "      <td>cicely mary barker was a fantasy illustrator w...</td>\n",
       "      <td>female</td>\n",
       "    </tr>\n",
       "    <tr>\n",
       "      <th>6</th>\n",
       "      <td>che zahara worked as a malay activist and foug...</td>\n",
       "      <td>female</td>\n",
       "    </tr>\n",
       "    <tr>\n",
       "      <th>7</th>\n",
       "      <td>i feel gratitude towards evelyn dunbar, she he...</td>\n",
       "      <td>female</td>\n",
       "    </tr>\n",
       "    <tr>\n",
       "      <th>8</th>\n",
       "      <td>geraldine kattnig was born on february 4, 1930...</td>\n",
       "      <td>female</td>\n",
       "    </tr>\n",
       "    <tr>\n",
       "      <th>9</th>\n",
       "      <td>amy thomson is a hard science fiction writing ...</td>\n",
       "      <td>female</td>\n",
       "    </tr>\n",
       "  </tbody>\n",
       "</table>\n",
       "</div>"
      ],
      "text/plain": [
       "                                                text  gender\n",
       "0   danielle frenkel is a high jumper born in israel  female\n",
       "1  tania mihailuk is a politician who was born in...  female\n",
       "2  juliet taylor is a woman who works as a castin...  female\n",
       "3  margaret caroline rudd was born in britain. sh...  female\n",
       "4  retta scott was an american artist who died in...  female\n",
       "5  cicely mary barker was a fantasy illustrator w...  female\n",
       "6  che zahara worked as a malay activist and foug...  female\n",
       "7  i feel gratitude towards evelyn dunbar, she he...  female\n",
       "8  geraldine kattnig was born on february 4, 1930...  female\n",
       "9  amy thomson is a hard science fiction writing ...  female"
      ]
     },
     "metadata": {},
     "output_type": "display_data"
    }
   ],
   "source": [
    "unified_data.head(10)"
   ]
  },
  {
   "cell_type": "code",
   "execution_count": null,
   "metadata": {},
   "outputs": [
    {
     "name": "stdout",
     "output_type": "stream",
     "text": [
      "'male' class is  1.0 times larger than 'female' class\n"
     ]
    }
   ],
   "source": [
    "#check class imbalance\n",
    "print('\\'male\\' class is ', round(len(unified_data[unified_data['gender'] == 'male'])/len(unified_data[unified_data['gender'] == 'female']), 2), 'times larger than \\'female\\' class')"
   ]
  },
  {
   "cell_type": "code",
   "execution_count": null,
   "metadata": {},
   "outputs": [
    {
     "data": {
      "text/plain": [
       "<AxesSubplot:title={'center':'UNIFIED data class counts'}>"
      ]
     },
     "metadata": {},
     "output_type": "display_data"
    },
    {
     "data": {
      "image/png": "[encoded data removed]",
      "text/plain": [
       "<Figure size 432x288 with 1 Axes>"
      ]
     },
     "metadata": {},
     "output_type": "display_data"
    }
   ],
   "source": [
    "#check successful downsampling (undersampling)\n",
    "unified_data['gender'].value_counts().plot(kind = 'bar', title = 'UNIFIED data class counts')"
   ]
  },
  {
   "cell_type": "code",
   "execution_count": null,
   "metadata": {},
   "outputs": [
    {
     "data": {
      "text/plain": [
       "'danielle frenkel is a high jumper born in israel'"
      ]
     },
     "metadata": {},
     "output_type": "display_data"
    }
   ],
   "source": [
    "unified_data['text'][0]"
   ]
  },
  {
   "cell_type": "code",
   "execution_count": null,
   "metadata": {},
   "outputs": [
    {
     "data": {
      "text/html": [
       "<div>\n",
       "<style scoped>\n",
       "    .dataframe tbody tr th:only-of-type {\n",
       "        vertical-align: middle;\n",
       "    }\n",
       "\n",
       "    .dataframe tbody tr th {\n",
       "        vertical-align: top;\n",
       "    }\n",
       "\n",
       "    .dataframe thead th {\n",
       "        text-align: right;\n",
       "    }\n",
       "</style>\n",
       "<table border=\"1\" class=\"dataframe\">\n",
       "  <thead>\n",
       "    <tr style=\"text-align: right;\">\n",
       "      <th></th>\n",
       "      <th>text</th>\n",
       "      <th>gender</th>\n",
       "      <th>len_text</th>\n",
       "    </tr>\n",
       "  </thead>\n",
       "  <tbody>\n",
       "    <tr>\n",
       "      <th>0</th>\n",
       "      <td>danielle frenkel is a high jumper born in israel</td>\n",
       "      <td>female</td>\n",
       "      <td>0</td>\n",
       "    </tr>\n",
       "    <tr>\n",
       "      <th>1</th>\n",
       "      <td>tania mihailuk is a politician who was born in...</td>\n",
       "      <td>female</td>\n",
       "      <td>0</td>\n",
       "    </tr>\n",
       "    <tr>\n",
       "      <th>2</th>\n",
       "      <td>juliet taylor is a woman who works as a castin...</td>\n",
       "      <td>female</td>\n",
       "      <td>0</td>\n",
       "    </tr>\n",
       "    <tr>\n",
       "      <th>3</th>\n",
       "      <td>margaret caroline rudd was born in britain. sh...</td>\n",
       "      <td>female</td>\n",
       "      <td>0</td>\n",
       "    </tr>\n",
       "    <tr>\n",
       "      <th>4</th>\n",
       "      <td>retta scott was an american artist who died in...</td>\n",
       "      <td>female</td>\n",
       "      <td>0</td>\n",
       "    </tr>\n",
       "  </tbody>\n",
       "</table>\n",
       "</div>"
      ],
      "text/plain": [
       "                                                text  gender  len_text\n",
       "0   danielle frenkel is a high jumper born in israel  female         0\n",
       "1  tania mihailuk is a politician who was born in...  female         0\n",
       "2  juliet taylor is a woman who works as a castin...  female         0\n",
       "3  margaret caroline rudd was born in britain. sh...  female         0\n",
       "4  retta scott was an american artist who died in...  female         0"
      ]
     },
     "metadata": {},
     "output_type": "display_data"
    }
   ],
   "source": [
    "unified_data['len_text'] = 0\n",
    "\n",
    "unified_data.head()"
   ]
  },
  {
   "cell_type": "code",
   "execution_count": null,
   "metadata": {},
   "outputs": [
    {
     "data": {
      "text/plain": [
       "8914"
      ]
     },
     "metadata": {},
     "output_type": "display_data"
    }
   ],
   "source": [
    "len(unified_data)"
   ]
  },
  {
   "cell_type": "code",
   "execution_count": null,
   "metadata": {},
   "outputs": [],
   "source": [
    "#inefficient loop takes too long\n",
    "#for row in range(0, len(unified_data)):\n",
    "    #unified_data['len_text'][row] = len(unified_data['text'][row])\n",
    "    \n",
    "unified_data['len_text'] = unified_data['text'].str.len()"
   ]
  },
  {
   "cell_type": "code",
   "execution_count": null,
   "metadata": {},
   "outputs": [
    {
     "data": {
      "text/plain": [
       "0    48\n",
       "1    56\n",
       "2    56\n",
       "3    78\n",
       "4    51\n",
       "Name: len_text, dtype: int64"
      ]
     },
     "metadata": {},
     "output_type": "display_data"
    }
   ],
   "source": [
    "unified_data['len_text'].head()"
   ]
  },
  {
   "cell_type": "code",
   "execution_count": null,
   "metadata": {},
   "outputs": [
    {
     "data": {
      "text/html": [
       "<div>\n",
       "<style scoped>\n",
       "    .dataframe tbody tr th:only-of-type {\n",
       "        vertical-align: middle;\n",
       "    }\n",
       "\n",
       "    .dataframe tbody tr th {\n",
       "        vertical-align: top;\n",
       "    }\n",
       "\n",
       "    .dataframe thead th {\n",
       "        text-align: right;\n",
       "    }\n",
       "</style>\n",
       "<table border=\"1\" class=\"dataframe\">\n",
       "  <thead>\n",
       "    <tr style=\"text-align: right;\">\n",
       "      <th></th>\n",
       "      <th>text</th>\n",
       "      <th>gender</th>\n",
       "      <th>len_text</th>\n",
       "    </tr>\n",
       "  </thead>\n",
       "  <tbody>\n",
       "    <tr>\n",
       "      <th>0</th>\n",
       "      <td>danielle frenkel is a high jumper born in israel</td>\n",
       "      <td>female</td>\n",
       "      <td>48</td>\n",
       "    </tr>\n",
       "    <tr>\n",
       "      <th>1</th>\n",
       "      <td>tania mihailuk is a politician who was born in...</td>\n",
       "      <td>female</td>\n",
       "      <td>56</td>\n",
       "    </tr>\n",
       "    <tr>\n",
       "      <th>2</th>\n",
       "      <td>juliet taylor is a woman who works as a castin...</td>\n",
       "      <td>female</td>\n",
       "      <td>56</td>\n",
       "    </tr>\n",
       "  </tbody>\n",
       "</table>\n",
       "</div>"
      ],
      "text/plain": [
       "                                                text  gender  len_text\n",
       "0   danielle frenkel is a high jumper born in israel  female        48\n",
       "1  tania mihailuk is a politician who was born in...  female        56\n",
       "2  juliet taylor is a woman who works as a castin...  female        56"
      ]
     },
     "metadata": {},
     "output_type": "display_data"
    }
   ],
   "source": [
    "unified_data.head(3)"
   ]
  },
  {
   "cell_type": "code",
   "execution_count": null,
   "metadata": {},
   "outputs": [
    {
     "data": {
      "text/html": [
       "<div>\n",
       "<style scoped>\n",
       "    .dataframe tbody tr th:only-of-type {\n",
       "        vertical-align: middle;\n",
       "    }\n",
       "\n",
       "    .dataframe tbody tr th {\n",
       "        vertical-align: top;\n",
       "    }\n",
       "\n",
       "    .dataframe thead th {\n",
       "        text-align: right;\n",
       "    }\n",
       "</style>\n",
       "<table border=\"1\" class=\"dataframe\">\n",
       "  <thead>\n",
       "    <tr style=\"text-align: right;\">\n",
       "      <th></th>\n",
       "      <th>text</th>\n",
       "      <th>gender</th>\n",
       "      <th>len_text</th>\n",
       "    </tr>\n",
       "  </thead>\n",
       "  <tbody>\n",
       "    <tr>\n",
       "      <th>8911</th>\n",
       "      <td>john born in the great city of quebec and beca...</td>\n",
       "      <td>male</td>\n",
       "      <td>70</td>\n",
       "    </tr>\n",
       "    <tr>\n",
       "      <th>8912</th>\n",
       "      <td>spending the longest time in prison, li wangya...</td>\n",
       "      <td>male</td>\n",
       "      <td>98</td>\n",
       "    </tr>\n",
       "    <tr>\n",
       "      <th>8913</th>\n",
       "      <td>thank you so much for letting me meet the trac...</td>\n",
       "      <td>male</td>\n",
       "      <td>66</td>\n",
       "    </tr>\n",
       "  </tbody>\n",
       "</table>\n",
       "</div>"
      ],
      "text/plain": [
       "                                                   text gender  len_text\n",
       "8911  john born in the great city of quebec and beca...   male        70\n",
       "8912  spending the longest time in prison, li wangya...   male        98\n",
       "8913  thank you so much for letting me meet the trac...   male        66"
      ]
     },
     "metadata": {},
     "output_type": "display_data"
    }
   ],
   "source": [
    "unified_data.tail(3)"
   ]
  },
  {
   "cell_type": "code",
   "execution_count": null,
   "metadata": {},
   "outputs": [
    {
     "data": {
      "text/html": [
       "<div>\n",
       "<style scoped>\n",
       "    .dataframe tbody tr th:only-of-type {\n",
       "        vertical-align: middle;\n",
       "    }\n",
       "\n",
       "    .dataframe tbody tr th {\n",
       "        vertical-align: top;\n",
       "    }\n",
       "\n",
       "    .dataframe thead th {\n",
       "        text-align: right;\n",
       "    }\n",
       "</style>\n",
       "<table border=\"1\" class=\"dataframe\">\n",
       "  <thead>\n",
       "    <tr style=\"text-align: right;\">\n",
       "      <th></th>\n",
       "      <th>text</th>\n",
       "      <th>gender</th>\n",
       "      <th>len_text</th>\n",
       "    </tr>\n",
       "  </thead>\n",
       "  <tbody>\n",
       "    <tr>\n",
       "      <th>0</th>\n",
       "      <td>danielle frenkel is a high jumper born in israel</td>\n",
       "      <td>female</td>\n",
       "      <td>48</td>\n",
       "    </tr>\n",
       "    <tr>\n",
       "      <th>1</th>\n",
       "      <td>tania mihailuk is a politician who was born in...</td>\n",
       "      <td>female</td>\n",
       "      <td>56</td>\n",
       "    </tr>\n",
       "    <tr>\n",
       "      <th>2</th>\n",
       "      <td>juliet taylor is a woman who works as a castin...</td>\n",
       "      <td>female</td>\n",
       "      <td>56</td>\n",
       "    </tr>\n",
       "    <tr>\n",
       "      <th>3</th>\n",
       "      <td>margaret caroline rudd was born in britain. sh...</td>\n",
       "      <td>female</td>\n",
       "      <td>78</td>\n",
       "    </tr>\n",
       "    <tr>\n",
       "      <th>4</th>\n",
       "      <td>retta scott was an american artist who died in...</td>\n",
       "      <td>female</td>\n",
       "      <td>51</td>\n",
       "    </tr>\n",
       "    <tr>\n",
       "      <th>...</th>\n",
       "      <td>...</td>\n",
       "      <td>...</td>\n",
       "      <td>...</td>\n",
       "    </tr>\n",
       "    <tr>\n",
       "      <th>195</th>\n",
       "      <td>steliana nistor was a key member of the romani...</td>\n",
       "      <td>female</td>\n",
       "      <td>108</td>\n",
       "    </tr>\n",
       "    <tr>\n",
       "      <th>196</th>\n",
       "      <td>it's so interesting to read about tziporah hel...</td>\n",
       "      <td>female</td>\n",
       "      <td>113</td>\n",
       "    </tr>\n",
       "    <tr>\n",
       "      <th>197</th>\n",
       "      <td>i am very involved in the cycling world, and l...</td>\n",
       "      <td>female</td>\n",
       "      <td>92</td>\n",
       "    </tr>\n",
       "    <tr>\n",
       "      <th>198</th>\n",
       "      <td>gina wilson was born in australia.</td>\n",
       "      <td>female</td>\n",
       "      <td>34</td>\n",
       "    </tr>\n",
       "    <tr>\n",
       "      <th>199</th>\n",
       "      <td>nothing brightens my day like watching serra y...</td>\n",
       "      <td>female</td>\n",
       "      <td>96</td>\n",
       "    </tr>\n",
       "  </tbody>\n",
       "</table>\n",
       "<p>200 rows × 3 columns</p>\n",
       "</div>"
      ],
      "text/plain": [
       "                                                  text  gender  len_text\n",
       "0     danielle frenkel is a high jumper born in israel  female        48\n",
       "1    tania mihailuk is a politician who was born in...  female        56\n",
       "2    juliet taylor is a woman who works as a castin...  female        56\n",
       "3    margaret caroline rudd was born in britain. sh...  female        78\n",
       "4    retta scott was an american artist who died in...  female        51\n",
       "..                                                 ...     ...       ...\n",
       "195  steliana nistor was a key member of the romani...  female       108\n",
       "196  it's so interesting to read about tziporah hel...  female       113\n",
       "197  i am very involved in the cycling world, and l...  female        92\n",
       "198                 gina wilson was born in australia.  female        34\n",
       "199  nothing brightens my day like watching serra y...  female        96\n",
       "\n",
       "[200 rows x 3 columns]"
      ]
     },
     "metadata": {},
     "output_type": "display_data"
    }
   ],
   "source": [
    "unified_data.head(200)"
   ]
  },
  {
   "cell_type": "code",
   "execution_count": null,
   "metadata": {},
   "outputs": [
    {
     "data": {
      "text/plain": [
       "81     139\n",
       "86     135\n",
       "84     133\n",
       "78     132\n",
       "91     131\n",
       "      ... \n",
       "162      1\n",
       "17       1\n",
       "13       1\n",
       "174      1\n",
       "177      1\n",
       "Name: len_text, Length: 161, dtype: int64"
      ]
     },
     "metadata": {},
     "output_type": "display_data"
    }
   ],
   "source": [
    "unified_data['len_text'].value_counts()"
   ]
  },
  {
   "cell_type": "code",
   "execution_count": null,
   "metadata": {},
   "outputs": [
    {
     "data": {
      "image/png": "[encoded data removed]",
      "text/plain": [
       "<Figure size 720x360 with 1 Axes>"
      ]
     },
     "metadata": {},
     "output_type": "display_data"
    }
   ],
   "source": [
    "fig = plt.figure(figsize = (10, 5))\n",
    " \n",
    "# creating the bar plot\n",
    "plt.hist(unified_data['len_text'], color ='blue')\n",
    "#plt.tick_params(axis='x', which='both', bottom=False, top=False, labelbottom=False)\n",
    "plt.title(\"Distribution of character lengths of the texts\")\n",
    "plt.show()"
   ]
  },
  {
   "cell_type": "markdown",
   "metadata": {},
   "source": [
    "### <font color='red'>AI003 - Preprocess the Text and Create Text Embeddings</font>"
   ]
  },
  {
   "cell_type": "code",
   "execution_count": null,
   "metadata": {},
   "outputs": [],
   "source": [
    "#test 'train_test_split'\n",
    "X = unified_data['text']\n",
    "y = unified_data['gender']\n",
    "\n",
    "X_train, X_test, y_train, y_test = train_test_split(X, y, random_state = 0, test_size = 0.2, stratify = y)   #'stratify' argument ensures same class proportions for each split"
   ]
  },
  {
   "cell_type": "markdown",
   "metadata": {},
   "source": [
    "https://towardsdatascience.com/multi-class-text-classification-with-scikit-learn-12f1e60e0a9f"
   ]
  },
  {
   "cell_type": "code",
   "execution_count": null,
   "metadata": {},
   "outputs": [
    {
     "name": "stdout",
     "output_type": "stream",
     "text": [
      "                                                   text gender  len_text  \\\n",
      "4457  holy moly! josh brown guest starred in the sho...   male        99   \n",
      "4458  jim colver has been serving the residents of a...   male        74   \n",
      "4459  born in cleveland, ford was luckily taken by t...   male       104   \n",
      "\n",
      "      gender_id  \n",
      "4457          0  \n",
      "4458          0  \n",
      "4459          0  \n",
      "                                                text  gender  len_text  \\\n",
      "0   danielle frenkel is a high jumper born in israel  female        48   \n",
      "1  tania mihailuk is a politician who was born in...  female        56   \n",
      "2  juliet taylor is a woman who works as a castin...  female        56   \n",
      "\n",
      "   gender_id  \n",
      "0          1  \n",
      "1          1  \n",
      "2          1  \n"
     ]
    }
   ],
   "source": [
    "#convert two classes to new binary id column\n",
    "unified_data['gender_id'] = unified_data['gender']\n",
    "unified_data['gender_id'].replace(['male', 'female'], [0, 1], inplace = True)\n",
    "print(unified_data[unified_data['gender'] == 'male'].head(3))\n",
    "print(unified_data[unified_data['gender'] == 'female'].head(3))"
   ]
  },
  {
   "cell_type": "code",
   "execution_count": null,
   "metadata": {},
   "outputs": [
    {
     "name": "stdout",
     "output_type": "stream",
     "text": [
      "['than', 'will', 'off', 'itself', 'one', 'namely', 'several', 'our', 'from', 'myself', 'whereafter', 'alone', 'everywhere', 'about', 'whereby', 'against', 'fifteen', 'being', 'already', 'himself', 'seemed', 'any', 'together', 'are', 'bill', 'yourself', 'afterwards', 'even', 'since', 'mostly', 'have', 'yours', 'hereafter', 'de', 'find', 'me', 'also', 'his', 'towards', 'thick', 'seem', 'someone', 'everything', 'or', 'co', 'perhaps', 'mine', 'always', 'he', 'ten', 'your', 'has', 'there', 'do', 'ourselves', 'whither', 'thereby', 'herself', 'next', 'describe', 'among', 'whatever', 'couldnt', 'rather', 'indeed', 'four', 'i', 'again', 'keep', 'still', 'we', 'yet', 'top', 'call', 'done', 'whom', 'an', 'latterly', 'each', 'as', 'ours', 'anywhere', 'twenty', 'not', 'out', 'before', 'own', 'put', 'five', 'must', 'other', 'eg', 'themselves', 'nobody', 'never', 'it', 'take', 'what', 'con', 'after', 'can', 'you', 'nothing', 'meanwhile', 'in', 'three', 'twelve', 'etc', 'eight', 'empty', 'toward', 'less', 'neither', 'see', 'thin', 'onto', 'between', 'becoming', 'why', 'thereafter', 'noone', 'hundred', 'become', 'these', 'then', 'two', 'none', 'that', 'therein', 'forty', 'un', 'via', 'but', 'may', 'hers', 'others', 'therefore', 'to', 'anyway', 'hence', 'would', 'former', 'which', 'became', 'no', 'where', 'so', 'down', 'and', 'serious', 'inc', 'my', 'fill', 'hereby', 'until', 'formerly', 'give', 'side', 'beyond', 'though', 'with', 'very', 'last', 'cant', 'who', 'is', 'wherever', 'up', 'please', 'fifty', 'beforehand', 'cannot', 'her', 'however', 'either', 'upon', 'its', 'whole', 'too', 'same', 'beside', 'amongst', 'bottom', 'they', 'some', 'something', 'whose', 'back', 'detail', 'else', 'eleven', 'move', 'am', 'across', 'mill', 'because', 'throughout', 'whether', 'more', 'besides', 'us', 'anyone', 'seems', 'ie', 'him', 'made', 'around', 'be', 'otherwise', 're', 'six', 'every', 'yourselves', 'their', 'while', 'of', 'least', 'along', 'due', 'first', 'becomes', 'thereupon', 'front', 'nowhere', 'latter', 'nevertheless', 'through', 'amount', 'a', 'nine', 'once', 'should', 'the', 'whereas', 'although', 'get', 'seeming', 'thru', 'this', 'herein', 'everyone', 'for', 'full', 'enough', 'could', 'might', 'how', 'at', 'nor', 'sometimes', 'almost', 'when', 'cry', 'whenever', 'been', 'system', 'whoever', 'per', 'go', 'wherein', 'found', 'name', 'well', 'them', 'elsewhere', 'if', 'sixty', 'were', 'all', 'over', 'most', 'now', 'behind', 'part', 'third', 'ltd', 'another', 'fire', 'much', 'somehow', 'under', 'during', 'whereupon', 'anyhow', 'by', 'further', 'into', 'except', 'interest', 'within', 'without', 'had', 'she', 'thence', 'here', 'only', 'anything', 'on', 'ever', 'often', 'sincere', 'few', 'such', 'sometime', 'amoungst', 'thus', 'show', 'many', 'whence', 'hereupon', 'both', 'somewhere', 'above', 'below', 'was', 'hasnt', 'those', 'moreover']\n",
      "318\n",
      "----------------------------------------------------------------------------------------------------\n",
      "['than', 'will', 'off', 'itself', 'one', 'namely', 'several', 'our', 'from', 'myself', 'whereafter', 'alone', 'everywhere', 'about', 'whereby', 'against', 'fifteen', 'being', 'already', 'seemed', 'any', 'together', 'are', 'bill', 'yourself', 'afterwards', 'even', 'since', 'mostly', 'have', 'yours', 'hereafter', 'de', 'find', 'me', 'also', 'towards', 'thick', 'seem', 'someone', 'everything', 'or', 'co', 'perhaps', 'mine', 'always', 'ten', 'your', 'has', 'there', 'do', 'ourselves', 'whither', 'thereby', 'next', 'describe', 'among', 'whatever', 'couldnt', 'rather', 'indeed', 'four', 'i', 'again', 'keep', 'still', 'we', 'yet', 'top', 'call', 'done', 'whom', 'an', 'latterly', 'each', 'as', 'ours', 'anywhere', 'twenty', 'not', 'out', 'before', 'own', 'put', 'five', 'must', 'other', 'eg', 'themselves', 'nobody', 'never', 'it', 'take', 'what', 'con', 'after', 'can', 'you', 'nothing', 'meanwhile', 'in', 'three', 'twelve', 'etc', 'eight', 'empty', 'toward', 'less', 'neither', 'see', 'thin', 'onto', 'between', 'becoming', 'why', 'thereafter', 'noone', 'hundred', 'become', 'these', 'then', 'two', 'none', 'that', 'therein', 'forty', 'un', 'via', 'but', 'may', 'others', 'therefore', 'to', 'anyway', 'hence', 'would', 'former', 'which', 'became', 'no', 'where', 'so', 'down', 'and', 'serious', 'inc', 'my', 'fill', 'hereby', 'until', 'formerly', 'give', 'side', 'beyond', 'though', 'with', 'very', 'last', 'cant', 'who', 'is', 'wherever', 'up', 'please', 'fifty', 'beforehand', 'cannot', 'however', 'either', 'upon', 'its', 'whole', 'too', 'same', 'beside', 'amongst', 'bottom', 'they', 'some', 'something', 'whose', 'back', 'detail', 'else', 'eleven', 'move', 'am', 'across', 'mill', 'because', 'throughout', 'whether', 'more', 'besides', 'us', 'anyone', 'seems', 'ie', 'made', 'around', 'be', 'otherwise', 're', 'six', 'every', 'yourselves', 'their', 'while', 'of', 'least', 'along', 'due', 'first', 'becomes', 'thereupon', 'front', 'nowhere', 'latter', 'nevertheless', 'through', 'amount', 'a', 'nine', 'once', 'should', 'the', 'whereas', 'although', 'get', 'seeming', 'thru', 'this', 'herein', 'everyone', 'for', 'full', 'enough', 'could', 'might', 'how', 'at', 'nor', 'sometimes', 'almost', 'when', 'cry', 'whenever', 'been', 'system', 'whoever', 'per', 'go', 'wherein', 'found', 'name', 'well', 'them', 'elsewhere', 'if', 'sixty', 'were', 'all', 'over', 'most', 'now', 'behind', 'part', 'third', 'ltd', 'another', 'fire', 'much', 'somehow', 'under', 'during', 'whereupon', 'anyhow', 'by', 'further', 'into', 'except', 'interest', 'within', 'without', 'had', 'thence', 'here', 'only', 'anything', 'on', 'ever', 'often', 'sincere', 'few', 'such', 'sometime', 'amoungst', 'thus', 'show', 'many', 'whence', 'hereupon', 'both', 'somewhere', 'above', 'below', 'was', 'hasnt', 'those', 'moreover']\n",
      "310\n"
     ]
    },
    {
     "data": {
      "text/plain": [
       "frozenset"
      ]
     },
     "metadata": {},
     "output_type": "display_data"
    }
   ],
   "source": [
    "#import sklearn stop words\n",
    "from sklearn.feature_extraction.text import ENGLISH_STOP_WORDS\n",
    "\n",
    "stop_words = list(ENGLISH_STOP_WORDS)\n",
    "print(stop_words)\n",
    "print(len(stop_words))\n",
    "my_stop_words = stop_words.copy()\n",
    "\n",
    "#to add stop words, e.g.\n",
    "#my_stop_words = text.ENGLISH_STOP_WORDS.union([\"book\"])\n",
    "\n",
    "word_remove = ['he', 'she', 'him', 'her', 'hers', 'his', 'himself', 'herself']\n",
    "for i in my_stop_words:\n",
    "    if i in word_remove:\n",
    "        my_stop_words.remove(i)\n",
    "\n",
    "print('-'*100)\n",
    "print(my_stop_words)\n",
    "print(len(my_stop_words))\n",
    "\n",
    "my_stop_words = frozenset(my_stop_words)\n",
    "type(my_stop_words)"
   ]
  },
  {
   "cell_type": "code",
   "execution_count": null,
   "metadata": {},
   "outputs": [
    {
     "name": "stdout",
     "output_type": "stream",
     "text": [
      "no, not present in stop words list\n",
      "no, not present in stop words list\n",
      "no, not present in stop words list\n",
      "no, not present in stop words list\n"
     ]
    }
   ],
   "source": [
    "def stop_words_search(string):\n",
    "        if string in stop_words:\n",
    "            print('yes, present in stop words list')\n",
    "        else:\n",
    "            print('no, not present in stop words list')\n",
    "            \n",
    "stop_words_search('man')\n",
    "stop_words_search('woman')\n",
    "stop_words_search('girl')\n",
    "stop_words_search('boy')"
   ]
  },
  {
   "cell_type": "code",
   "execution_count": null,
   "metadata": {},
   "outputs": [
    {
     "data": {
      "text/html": [
       "<div>\n",
       "<style scoped>\n",
       "    .dataframe tbody tr th:only-of-type {\n",
       "        vertical-align: middle;\n",
       "    }\n",
       "\n",
       "    .dataframe tbody tr th {\n",
       "        vertical-align: top;\n",
       "    }\n",
       "\n",
       "    .dataframe thead th {\n",
       "        text-align: right;\n",
       "    }\n",
       "</style>\n",
       "<table border=\"1\" class=\"dataframe\">\n",
       "  <thead>\n",
       "    <tr style=\"text-align: right;\">\n",
       "      <th></th>\n",
       "      <th>text</th>\n",
       "      <th>gender</th>\n",
       "      <th>len_text</th>\n",
       "      <th>gender_id</th>\n",
       "    </tr>\n",
       "  </thead>\n",
       "  <tbody>\n",
       "    <tr>\n",
       "      <th>0</th>\n",
       "      <td>danielle frenkel is a high jumper born in israel</td>\n",
       "      <td>female</td>\n",
       "      <td>48</td>\n",
       "      <td>1</td>\n",
       "    </tr>\n",
       "    <tr>\n",
       "      <th>1</th>\n",
       "      <td>tania mihailuk is a politician who was born in...</td>\n",
       "      <td>female</td>\n",
       "      <td>56</td>\n",
       "      <td>1</td>\n",
       "    </tr>\n",
       "    <tr>\n",
       "      <th>2</th>\n",
       "      <td>juliet taylor is a woman who works as a castin...</td>\n",
       "      <td>female</td>\n",
       "      <td>56</td>\n",
       "      <td>1</td>\n",
       "    </tr>\n",
       "    <tr>\n",
       "      <th>3</th>\n",
       "      <td>margaret caroline rudd was born in britain. sh...</td>\n",
       "      <td>female</td>\n",
       "      <td>78</td>\n",
       "      <td>1</td>\n",
       "    </tr>\n",
       "    <tr>\n",
       "      <th>4</th>\n",
       "      <td>retta scott was an american artist who died in...</td>\n",
       "      <td>female</td>\n",
       "      <td>51</td>\n",
       "      <td>1</td>\n",
       "    </tr>\n",
       "  </tbody>\n",
       "</table>\n",
       "</div>"
      ],
      "text/plain": [
       "                                                text  gender  len_text  \\\n",
       "0   danielle frenkel is a high jumper born in israel  female        48   \n",
       "1  tania mihailuk is a politician who was born in...  female        56   \n",
       "2  juliet taylor is a woman who works as a castin...  female        56   \n",
       "3  margaret caroline rudd was born in britain. sh...  female        78   \n",
       "4  retta scott was an american artist who died in...  female        51   \n",
       "\n",
       "   gender_id  \n",
       "0          1  \n",
       "1          1  \n",
       "2          1  \n",
       "3          1  \n",
       "4          1  "
      ]
     },
     "metadata": {},
     "output_type": "display_data"
    }
   ],
   "source": [
    "unified_data.head()"
   ]
  },
  {
   "cell_type": "code",
   "execution_count": null,
   "metadata": {},
   "outputs": [
    {
     "data": {
      "text/plain": [
       "pandas.core.series.Series"
      ]
     },
     "metadata": {},
     "output_type": "display_data"
    }
   ],
   "source": [
    "type(unified_data['text'])"
   ]
  },
  {
   "cell_type": "code",
   "execution_count": null,
   "metadata": {},
   "outputs": [
    {
     "name": "stderr",
     "output_type": "stream",
     "text": [
      "[nltk_data] Error loading punkt: <urlopen error [SSL:\n",
      "[nltk_data]     CERTIFICATE_VERIFY_FAILED] certificate verify failed:\n",
      "[nltk_data]     unable to get local issuer certificate (_ssl.c:997)>\n",
      "[nltk_data] Error loading wordnet: <urlopen error [SSL:\n",
      "[nltk_data]     CERTIFICATE_VERIFY_FAILED] certificate verify failed:\n",
      "[nltk_data]     unable to get local issuer certificate (_ssl.c:997)>\n",
      "[nltk_data] Error loading omw-1.4: <urlopen error [SSL:\n",
      "[nltk_data]     CERTIFICATE_VERIFY_FAILED] certificate verify failed:\n",
      "[nltk_data]     unable to get local issuer certificate (_ssl.c:997)>\n"
     ]
    },
    {
     "data": {
      "text/plain": [
       "False"
      ]
     },
     "metadata": {},
     "output_type": "display_data"
    }
   ],
   "source": [
    "import nltk\n",
    "#https://www.nltk.org/data.html   instructions for manual download\n",
    "#https://www.nltk.org/nltk_data/\n",
    "#SLL cert error so need to download manually from above website then move into relevant subfolder of /usr/local/share/nltk_data\n",
    "nltk.download('punkt')\n",
    "nltk.download('wordnet')\n",
    "nltk.download('omw-1.4')"
   ]
  },
  {
   "cell_type": "code",
   "execution_count": null,
   "metadata": {},
   "outputs": [
    {
     "name": "stdout",
     "output_type": "stream",
     "text": [
      "BEFORE stopwords filter\n",
      " 0    [danielle, frenkel, is, a, high, jumper, born,...\n",
      "1    [tania, mihailuk, is, a, politician, who, was,...\n",
      "2    [juliet, taylor, is, a, woman, who, works, as,...\n",
      "3    [margaret, caroline, rudd, was, born, in, brit...\n",
      "4    [retta, scott, was, an, american, artist, who,...\n",
      "Name: text_token, dtype: object\n",
      "AFTER stopwords filter\n",
      " 0      [danielle, frenkel, high, jumper, born, israel]\n",
      "1       [tania, mihailuk, politician, born, australia]\n",
      "2    [juliet, taylor, woman, works, casting, director]\n",
      "3    [margaret, caroline, rudd, born, britain, she,...\n",
      "4               [retta, scott, american, artist, died]\n",
      "Name: text_token, dtype: object\n"
     ]
    },
    {
     "data": {
      "text/plain": [
       "FreqDist({'her': 950, 'she': 704, 'his': 606, 'he': 582, 'born': 555, 'american': 470, 'great': 388, 'like': 351, 'known': 299, 'amazing': 281, ...})"
      ]
     },
     "metadata": {},
     "output_type": "display_data"
    }
   ],
   "source": [
    "#https://courses.cs.duke.edu/spring14/compsci290/assignments/lab02.html\n",
    "#https://www.kirenz.com/post/2021-12-11-text-mining-and-sentiment-analysis-with-nltk-and-pandas-in-python/text-mining-and-sentiment-analysis-with-nltk-and-pandas-in-python/\n",
    "\n",
    "from nltk.tokenize import word_tokenize   #requires nltk.download('punkt') but SSL cert error\n",
    "from nltk.tokenize import TreebankWordTokenizer   #equivalent to word_tokenize just doesn't require a download\n",
    "from nltk.tokenize import RegexpTokenizer\n",
    "from nltk.probability import FreqDist\n",
    "\n",
    "#remove punctuation from texts\n",
    "#unified_data['text'] = unified_data['text'].str.replace(r'[^\\w\\s]+', '')\n",
    "\n",
    "#regex here already removes punctuation\n",
    "#regex here includes tokens that have at least one letter, removing numbers from consideration (can be used in token_pattern argument too)\n",
    "regexp = RegexpTokenizer(u'(?ui)\\\\b\\\\w*[a-z]+\\\\w*\\\\b')\n",
    "\n",
    "unified_data['text_token']=unified_data['text'].apply(regexp.tokenize)\n",
    "\n",
    "#count = Counter(tokens)\n",
    "#print(count.most_common(10))\n",
    "\n",
    "print('BEFORE stopwords filter\\n', unified_data['text_token'].head())\n",
    "#remove stopwords\n",
    "unified_data['text_token'] = unified_data['text_token'].apply(lambda x: [item for item in x if item not in my_stop_words])\n",
    "print('AFTER stopwords filter\\n', unified_data['text_token'].head())\n",
    "\n",
    "#keep only words longer than 1 characters\n",
    "unified_data['text_string'] = unified_data['text_token'].apply(lambda x: ' '.join([item for item in x if len(item)>1]))\n",
    "\n",
    "#create list of all words\n",
    "all_words = ' '.join([word for word in unified_data['text_string']])\n",
    "\n",
    "#tokenize all_words\n",
    "#tokenizer = TreebankWordTokenizer()\n",
    "#tokenized_words = tokenizer.tokenize(all_words)\n",
    "tokenized_words = word_tokenize(all_words)\n",
    "\n",
    "#create a frequency distribution which records the number of times each word has occurred:\n",
    "fdist = FreqDist(tokenized_words)\n",
    "fdist"
   ]
  },
  {
   "cell_type": "code",
   "execution_count": null,
   "metadata": {},
   "outputs": [
    {
     "data": {
      "text/plain": [
       "6"
      ]
     },
     "metadata": {},
     "output_type": "display_data"
    }
   ],
   "source": [
    "#search specific words\n",
    "fdist[\"americans\"]"
   ]
  },
  {
   "cell_type": "code",
   "execution_count": null,
   "metadata": {},
   "outputs": [
    {
     "data": {
      "text/plain": [
       "[('her', 950),\n",
       " ('she', 704),\n",
       " ('his', 606),\n",
       " ('he', 582),\n",
       " ('born', 555),\n",
       " ('american', 470),\n",
       " ('great', 388),\n",
       " ('like', 351),\n",
       " ('known', 299),\n",
       " ('amazing', 281)]"
      ]
     },
     "metadata": {},
     "output_type": "display_data"
    }
   ],
   "source": [
    "fdist.most_common(10)"
   ]
  },
  {
   "cell_type": "code",
   "execution_count": null,
   "metadata": {},
   "outputs": [
    {
     "name": "stdout",
     "output_type": "stream",
     "text": [
      "     her      she      his       he     born american    great     like    known  amazing  actress     work   player     love     best \n",
      "     950      704      606      582      555      470      388      351      299      281      272      263      257      247      245 \n"
     ]
    }
   ],
   "source": [
    "fdist.tabulate(15)"
   ]
  },
  {
   "cell_type": "code",
   "execution_count": null,
   "metadata": {},
   "outputs": [
    {
     "data": {
      "text/plain": [
       "<AxesSubplot:>"
      ]
     },
     "metadata": {},
     "output_type": "display_data"
    },
    {
     "data": {
      "image/png": "[encoded data removed]",
      "text/plain": [
       "<Figure size 432x288 with 1 Axes>"
      ]
     },
     "metadata": {},
     "output_type": "display_data"
    }
   ],
   "source": [
    "# Obtain top 10 words\n",
    "n = 20\n",
    "top_n = fdist.most_common(n)\n",
    "\n",
    "# Create pandas series to make plotting easier\n",
    "fdist_pseries = pd.Series(dict(top_n))\n",
    "\n",
    "import seaborn as sns\n",
    "sns.set_theme(style=\"ticks\")\n",
    "\n",
    "sns.barplot(y=fdist_pseries.index, x=fdist_pseries.values, color='blue')"
   ]
  },
  {
   "cell_type": "code",
   "execution_count": null,
   "metadata": {},
   "outputs": [
    {
     "data": {
      "image/png": "[encoded data removed]",
      "text/plain": [
       "<Figure size 720x288 with 1 Axes>"
      ]
     },
     "metadata": {},
     "output_type": "display_data"
    },
    {
     "data": {
      "text/plain": [
       "<AxesSubplot:title={'center':'Word Counts'}, xlabel='Samples', ylabel='Counts'>"
      ]
     },
     "metadata": {},
     "output_type": "display_data"
    }
   ],
   "source": [
    "#plot top 50\n",
    "from matplotlib.pyplot import figure\n",
    "figure(figsize=(10, 4))\n",
    "fdist.plot(50, title = 'Word Counts')"
   ]
  },
  {
   "cell_type": "code",
   "execution_count": null,
   "metadata": {},
   "outputs": [
    {
     "data": {
      "application/vnd.plotly.v1+json": {
       "config": {
        "plotlyServerURL": "https://plot.ly"
       },
       "data": [
        {
         "alignmentgroup": "True",
         "hovertemplate": "x=%{x}<br>y=%{y}<extra></extra>",
         "legendgroup": "",
         "marker": {
          "color": "#636efa",
          "pattern": {
           "shape": ""
          }
         },
         "name": "",
         "offsetgroup": "",
         "orientation": "h",
         "showlegend": false,
         "textposition": "auto",
         "type": "bar",
         "x": [
          950,
          704,
          606,
          582,
          555,
          470,
          388,
          351,
          299,
          281,
          272,
          263,
          257,
          247,
          245,
          226,
          217,
          207,
          200,
          200
         ],
         "xaxis": "x",
         "y": [
          "her",
          "she",
          "his",
          "he",
          "born",
          "american",
          "great",
          "like",
          "known",
          "amazing",
          "actress",
          "work",
          "player",
          "love",
          "best",
          "world",
          "time",
          "know",
          "played",
          "football"
         ],
         "yaxis": "y"
        }
       ],
       "layout": {
        "barmode": "stack",
        "legend": {
         "tracegroupgap": 0
        },
        "margin": {
         "t": 60
        },
        "template": {
         "data": {
          "bar": [
           {
            "error_x": {
             "color": "#2a3f5f"
            },
            "error_y": {
             "color": "#2a3f5f"
            },
            "marker": {
             "line": {
              "color": "#E5ECF6",
              "width": 0.5
             },
             "pattern": {
              "fillmode": "overlay",
              "size": 10,
              "solidity": 0.2
             }
            },
            "type": "bar"
           }
          ],
          "barpolar": [
           {
            "marker": {
             "line": {
              "color": "#E5ECF6",
              "width": 0.5
             },
             "pattern": {
              "fillmode": "overlay",
              "size": 10,
              "solidity": 0.2
             }
            },
            "type": "barpolar"
           }
          ],
          "carpet": [
           {
            "aaxis": {
             "endlinecolor": "#2a3f5f",
             "gridcolor": "white",
             "linecolor": "white",
             "minorgridcolor": "white",
             "startlinecolor": "#2a3f5f"
            },
            "baxis": {
             "endlinecolor": "#2a3f5f",
             "gridcolor": "white",
             "linecolor": "white",
             "minorgridcolor": "white",
             "startlinecolor": "#2a3f5f"
            },
            "type": "carpet"
           }
          ],
          "choropleth": [
           {
            "colorbar": {
             "outlinewidth": 0,
             "ticks": ""
            },
            "type": "choropleth"
           }
          ],
          "contour": [
           {
            "colorbar": {
             "outlinewidth": 0,
             "ticks": ""
            },
            "colorscale": [
             [
              0,
              "#0d0887"
             ],
             [
              0.1111111111111111,
              "#46039f"
             ],
             [
              0.2222222222222222,
              "#7201a8"
             ],
             [
              0.3333333333333333,
              "#9c179e"
             ],
             [
              0.4444444444444444,
              "#bd3786"
             ],
             [
              0.5555555555555556,
              "#d8576b"
             ],
             [
              0.6666666666666666,
              "#ed7953"
             ],
             [
              0.7777777777777778,
              "#fb9f3a"
             ],
             [
              0.8888888888888888,
              "#fdca26"
             ],
             [
              1,
              "#f0f921"
             ]
            ],
            "type": "contour"
           }
          ],
          "contourcarpet": [
           {
            "colorbar": {
             "outlinewidth": 0,
             "ticks": ""
            },
            "type": "contourcarpet"
           }
          ],
          "heatmap": [
           {
            "colorbar": {
             "outlinewidth": 0,
             "ticks": ""
            },
            "colorscale": [
             [
              0,
              "#0d0887"
             ],
             [
              0.1111111111111111,
              "#46039f"
             ],
             [
              0.2222222222222222,
              "#7201a8"
             ],
             [
              0.3333333333333333,
              "#9c179e"
             ],
             [
              0.4444444444444444,
              "#bd3786"
             ],
             [
              0.5555555555555556,
              "#d8576b"
             ],
             [
              0.6666666666666666,
              "#ed7953"
             ],
             [
              0.7777777777777778,
              "#fb9f3a"
             ],
             [
              0.8888888888888888,
              "#fdca26"
             ],
             [
              1,
              "#f0f921"
             ]
            ],
            "type": "heatmap"
           }
          ],
          "heatmapgl": [
           {
            "colorbar": {
             "outlinewidth": 0,
             "ticks": ""
            },
            "colorscale": [
             [
              0,
              "#0d0887"
             ],
             [
              0.1111111111111111,
              "#46039f"
             ],
             [
              0.2222222222222222,
              "#7201a8"
             ],
             [
              0.3333333333333333,
              "#9c179e"
             ],
             [
              0.4444444444444444,
              "#bd3786"
             ],
             [
              0.5555555555555556,
              "#d8576b"
             ],
             [
              0.6666666666666666,
              "#ed7953"
             ],
             [
              0.7777777777777778,
              "#fb9f3a"
             ],
             [
              0.8888888888888888,
              "#fdca26"
             ],
             [
              1,
              "#f0f921"
             ]
            ],
            "type": "heatmapgl"
           }
          ],
          "histogram": [
           {
            "marker": {
             "pattern": {
              "fillmode": "overlay",
              "size": 10,
              "solidity": 0.2
             }
            },
            "type": "histogram"
           }
          ],
          "histogram2d": [
           {
            "colorbar": {
             "outlinewidth": 0,
             "ticks": ""
            },
            "colorscale": [
             [
              0,
              "#0d0887"
             ],
             [
              0.1111111111111111,
              "#46039f"
             ],
             [
              0.2222222222222222,
              "#7201a8"
             ],
             [
              0.3333333333333333,
              "#9c179e"
             ],
             [
              0.4444444444444444,
              "#bd3786"
             ],
             [
              0.5555555555555556,
              "#d8576b"
             ],
             [
              0.6666666666666666,
              "#ed7953"
             ],
             [
              0.7777777777777778,
              "#fb9f3a"
             ],
             [
              0.8888888888888888,
              "#fdca26"
             ],
             [
              1,
              "#f0f921"
             ]
            ],
            "type": "histogram2d"
           }
          ],
          "histogram2dcontour": [
           {
            "colorbar": {
             "outlinewidth": 0,
             "ticks": ""
            },
            "colorscale": [
             [
              0,
              "#0d0887"
             ],
             [
              0.1111111111111111,
              "#46039f"
             ],
             [
              0.2222222222222222,
              "#7201a8"
             ],
             [
              0.3333333333333333,
              "#9c179e"
             ],
             [
              0.4444444444444444,
              "#bd3786"
             ],
             [
              0.5555555555555556,
              "#d8576b"
             ],
             [
              0.6666666666666666,
              "#ed7953"
             ],
             [
              0.7777777777777778,
              "#fb9f3a"
             ],
             [
              0.8888888888888888,
              "#fdca26"
             ],
             [
              1,
              "#f0f921"
             ]
            ],
            "type": "histogram2dcontour"
           }
          ],
          "mesh3d": [
           {
            "colorbar": {
             "outlinewidth": 0,
             "ticks": ""
            },
            "type": "mesh3d"
           }
          ],
          "parcoords": [
           {
            "line": {
             "colorbar": {
              "outlinewidth": 0,
              "ticks": ""
             }
            },
            "type": "parcoords"
           }
          ],
          "pie": [
           {
            "automargin": true,
            "type": "pie"
           }
          ],
          "scatter": [
           {
            "fillpattern": {
             "fillmode": "overlay",
             "size": 10,
             "solidity": 0.2
            },
            "type": "scatter"
           }
          ],
          "scatter3d": [
           {
            "line": {
             "colorbar": {
              "outlinewidth": 0,
              "ticks": ""
             }
            },
            "marker": {
             "colorbar": {
              "outlinewidth": 0,
              "ticks": ""
             }
            },
            "type": "scatter3d"
           }
          ],
          "scattercarpet": [
           {
            "marker": {
             "colorbar": {
              "outlinewidth": 0,
              "ticks": ""
             }
            },
            "type": "scattercarpet"
           }
          ],
          "scattergeo": [
           {
            "marker": {
             "colorbar": {
              "outlinewidth": 0,
              "ticks": ""
             }
            },
            "type": "scattergeo"
           }
          ],
          "scattergl": [
           {
            "marker": {
             "colorbar": {
              "outlinewidth": 0,
              "ticks": ""
             }
            },
            "type": "scattergl"
           }
          ],
          "scattermapbox": [
           {
            "marker": {
             "colorbar": {
              "outlinewidth": 0,
              "ticks": ""
             }
            },
            "type": "scattermapbox"
           }
          ],
          "scatterpolar": [
           {
            "marker": {
             "colorbar": {
              "outlinewidth": 0,
              "ticks": ""
             }
            },
            "type": "scatterpolar"
           }
          ],
          "scatterpolargl": [
           {
            "marker": {
             "colorbar": {
              "outlinewidth": 0,
              "ticks": ""
             }
            },
            "type": "scatterpolargl"
           }
          ],
          "scatterternary": [
           {
            "marker": {
             "colorbar": {
              "outlinewidth": 0,
              "ticks": ""
             }
            },
            "type": "scatterternary"
           }
          ],
          "surface": [
           {
            "colorbar": {
             "outlinewidth": 0,
             "ticks": ""
            },
            "colorscale": [
             [
              0,
              "#0d0887"
             ],
             [
              0.1111111111111111,
              "#46039f"
             ],
             [
              0.2222222222222222,
              "#7201a8"
             ],
             [
              0.3333333333333333,
              "#9c179e"
             ],
             [
              0.4444444444444444,
              "#bd3786"
             ],
             [
              0.5555555555555556,
              "#d8576b"
             ],
             [
              0.6666666666666666,
              "#ed7953"
             ],
             [
              0.7777777777777778,
              "#fb9f3a"
             ],
             [
              0.8888888888888888,
              "#fdca26"
             ],
             [
              1,
              "#f0f921"
             ]
            ],
            "type": "surface"
           }
          ],
          "table": [
           {
            "cells": {
             "fill": {
              "color": "#EBF0F8"
             },
             "line": {
              "color": "white"
             }
            },
            "header": {
             "fill": {
              "color": "#C8D4E3"
             },
             "line": {
              "color": "white"
             }
            },
            "type": "table"
           }
          ]
         },
         "layout": {
          "annotationdefaults": {
           "arrowcolor": "#2a3f5f",
           "arrowhead": 0,
           "arrowwidth": 1
          },
          "autotypenumbers": "strict",
          "coloraxis": {
           "colorbar": {
            "outlinewidth": 0,
            "ticks": ""
           }
          },
          "colorscale": {
           "diverging": [
            [
             0,
             "#8e0152"
            ],
            [
             0.1,
             "#c51b7d"
            ],
            [
             0.2,
             "#de77ae"
            ],
            [
             0.3,
             "#f1b6da"
            ],
            [
             0.4,
             "#fde0ef"
            ],
            [
             0.5,
             "#f7f7f7"
            ],
            [
             0.6,
             "#e6f5d0"
            ],
            [
             0.7,
             "#b8e186"
            ],
            [
             0.8,
             "#7fbc41"
            ],
            [
             0.9,
             "#4d9221"
            ],
            [
             1,
             "#276419"
            ]
           ],
           "sequential": [
            [
             0,
             "#0d0887"
            ],
            [
             0.1111111111111111,
             "#46039f"
            ],
            [
             0.2222222222222222,
             "#7201a8"
            ],
            [
             0.3333333333333333,
             "#9c179e"
            ],
            [
             0.4444444444444444,
             "#bd3786"
            ],
            [
             0.5555555555555556,
             "#d8576b"
            ],
            [
             0.6666666666666666,
             "#ed7953"
            ],
            [
             0.7777777777777778,
             "#fb9f3a"
            ],
            [
             0.8888888888888888,
             "#fdca26"
            ],
            [
             1,
             "#f0f921"
            ]
           ],
           "sequentialminus": [
            [
             0,
             "#0d0887"
            ],
            [
             0.1111111111111111,
             "#46039f"
            ],
            [
             0.2222222222222222,
             "#7201a8"
            ],
            [
             0.3333333333333333,
             "#9c179e"
            ],
            [
             0.4444444444444444,
             "#bd3786"
            ],
            [
             0.5555555555555556,
             "#d8576b"
            ],
            [
             0.6666666666666666,
             "#ed7953"
            ],
            [
             0.7777777777777778,
             "#fb9f3a"
            ],
            [
             0.8888888888888888,
             "#fdca26"
            ],
            [
             1,
             "#f0f921"
            ]
           ]
          },
          "colorway": [
           "#636efa",
           "#EF553B",
           "#00cc96",
           "#ab63fa",
           "#FFA15A",
           "#19d3f3",
           "#FF6692",
           "#B6E880",
           "#FF97FF",
           "#FECB52"
          ],
          "font": {
           "color": "#2a3f5f"
          },
          "geo": {
           "bgcolor": "white",
           "lakecolor": "white",
           "landcolor": "#E5ECF6",
           "showlakes": true,
           "showland": true,
           "subunitcolor": "white"
          },
          "hoverlabel": {
           "align": "left"
          },
          "hovermode": "closest",
          "mapbox": {
           "style": "light"
          },
          "paper_bgcolor": "white",
          "plot_bgcolor": "#E5ECF6",
          "polar": {
           "angularaxis": {
            "gridcolor": "white",
            "linecolor": "white",
            "ticks": ""
           },
           "bgcolor": "#E5ECF6",
           "radialaxis": {
            "gridcolor": "white",
            "linecolor": "white",
            "ticks": ""
           }
          },
          "scene": {
           "xaxis": {
            "backgroundcolor": "#E5ECF6",
            "gridcolor": "white",
            "gridwidth": 2,
            "linecolor": "white",
            "showbackground": true,
            "ticks": "",
            "zerolinecolor": "white"
           },
           "yaxis": {
            "backgroundcolor": "#E5ECF6",
            "gridcolor": "white",
            "gridwidth": 2,
            "linecolor": "white",
            "showbackground": true,
            "ticks": "",
            "zerolinecolor": "white"
           },
           "zaxis": {
            "backgroundcolor": "#E5ECF6",
            "gridcolor": "white",
            "gridwidth": 2,
            "linecolor": "white",
            "showbackground": true,
            "ticks": "",
            "zerolinecolor": "white"
           }
          },
          "shapedefaults": {
           "line": {
            "color": "#2a3f5f"
           }
          },
          "ternary": {
           "aaxis": {
            "gridcolor": "white",
            "linecolor": "white",
            "ticks": ""
           },
           "baxis": {
            "gridcolor": "white",
            "linecolor": "white",
            "ticks": ""
           },
           "bgcolor": "#E5ECF6",
           "caxis": {
            "gridcolor": "white",
            "linecolor": "white",
            "ticks": ""
           }
          },
          "title": {
           "x": 0.05
          },
          "xaxis": {
           "automargin": true,
           "gridcolor": "white",
           "linecolor": "white",
           "ticks": "",
           "title": {
            "standoff": 15
           },
           "zerolinecolor": "white",
           "zerolinewidth": 2
          },
          "yaxis": {
           "automargin": true,
           "gridcolor": "white",
           "linecolor": "white",
           "ticks": "",
           "title": {
            "standoff": 15
           },
           "zerolinecolor": "white",
           "zerolinewidth": 2
          }
         }
        },
        "xaxis": {
         "anchor": "y",
         "domain": [
          0,
          1
         ],
         "title": {
          "text": "x"
         }
        },
        "yaxis": {
         "anchor": "x",
         "categoryorder": "total ascending",
         "domain": [
          0,
          1
         ],
         "title": {
          "text": "y"
         }
        }
       }
      }
     },
     "metadata": {},
     "output_type": "display_data"
    }
   ],
   "source": [
    "import plotly.express as px\n",
    "\n",
    "fig = px.bar(y=fdist_pseries.index, x=fdist_pseries.values)\n",
    "\n",
    "# sort values\n",
    "fig.update_layout(barmode='stack', yaxis={'categoryorder':'total ascending'})\n",
    "\n",
    "# show plot\n",
    "fig.show()"
   ]
  },
  {
   "cell_type": "code",
   "execution_count": null,
   "metadata": {},
   "outputs": [],
   "source": [
    "#Now we can use our fdist dictionary to drop words which occur less than a certain amount of times (usually we use a value of 3 or 4)\n",
    "#argument in Tfidfvectorizer that does the same\n",
    "unified_data['text_string_fdist'] = unified_data['text_token'].apply(lambda x: ' '.join([item for item in x if fdist[item] >= 3 ]))"
   ]
  },
  {
   "cell_type": "markdown",
   "metadata": {},
   "source": [
    "Stemming just removes or stems the last few characters of a word, often leading to incorrect meanings and spelling. Lemmatization considers the context and converts the word to its meaningful base form"
   ]
  },
  {
   "cell_type": "code",
   "execution_count": null,
   "metadata": {},
   "outputs": [
    {
     "name": "stdout",
     "output_type": "stream",
     "text": [
      "True     8911\n",
      "False       3\n",
      "Name: is_equal, dtype: int64\n"
     ]
    }
   ],
   "source": [
    "from nltk.stem import WordNetLemmatizer\n",
    "\n",
    "wordnet_lem = WordNetLemmatizer()\n",
    "\n",
    "unified_data['text_string_lem'] = unified_data['text_string_fdist'].apply(wordnet_lem.lemmatize)\n",
    "\n",
    "#sometimes no words to lemmatize so can compare two columns to verify\n",
    "#check if the columns are equal\n",
    "unified_data['is_equal']=(unified_data['text_string_fdist']==unified_data['text_string_lem'])\n",
    "print(unified_data.is_equal.value_counts())"
   ]
  },
  {
   "cell_type": "code",
   "execution_count": null,
   "metadata": {},
   "outputs": [
    {
     "data": {
      "text/html": [
       "<div>\n",
       "<style scoped>\n",
       "    .dataframe tbody tr th:only-of-type {\n",
       "        vertical-align: middle;\n",
       "    }\n",
       "\n",
       "    .dataframe tbody tr th {\n",
       "        vertical-align: top;\n",
       "    }\n",
       "\n",
       "    .dataframe thead th {\n",
       "        text-align: right;\n",
       "    }\n",
       "</style>\n",
       "<table border=\"1\" class=\"dataframe\">\n",
       "  <thead>\n",
       "    <tr style=\"text-align: right;\">\n",
       "      <th></th>\n",
       "      <th>text</th>\n",
       "      <th>gender</th>\n",
       "      <th>len_text</th>\n",
       "      <th>gender_id</th>\n",
       "      <th>text_token</th>\n",
       "      <th>text_string</th>\n",
       "      <th>text_string_fdist</th>\n",
       "      <th>text_string_lem</th>\n",
       "      <th>is_equal</th>\n",
       "    </tr>\n",
       "  </thead>\n",
       "  <tbody>\n",
       "    <tr>\n",
       "      <th>0</th>\n",
       "      <td>danielle frenkel is a high jumper born in israel</td>\n",
       "      <td>female</td>\n",
       "      <td>48</td>\n",
       "      <td>1</td>\n",
       "      <td>[danielle, frenkel, high, jumper, born, israel]</td>\n",
       "      <td>danielle frenkel high jumper born israel</td>\n",
       "      <td>danielle high born israel</td>\n",
       "      <td>danielle high born israel</td>\n",
       "      <td>True</td>\n",
       "    </tr>\n",
       "    <tr>\n",
       "      <th>1</th>\n",
       "      <td>tania mihailuk is a politician who was born in...</td>\n",
       "      <td>female</td>\n",
       "      <td>56</td>\n",
       "      <td>1</td>\n",
       "      <td>[tania, mihailuk, politician, born, australia]</td>\n",
       "      <td>tania mihailuk politician born australia</td>\n",
       "      <td>politician born australia</td>\n",
       "      <td>politician born australia</td>\n",
       "      <td>True</td>\n",
       "    </tr>\n",
       "    <tr>\n",
       "      <th>2</th>\n",
       "      <td>juliet taylor is a woman who works as a castin...</td>\n",
       "      <td>female</td>\n",
       "      <td>56</td>\n",
       "      <td>1</td>\n",
       "      <td>[juliet, taylor, woman, works, casting, director]</td>\n",
       "      <td>juliet taylor woman works casting director</td>\n",
       "      <td>juliet taylor woman works casting director</td>\n",
       "      <td>juliet taylor woman works casting director</td>\n",
       "      <td>True</td>\n",
       "    </tr>\n",
       "    <tr>\n",
       "      <th>3</th>\n",
       "      <td>margaret caroline rudd was born in britain. sh...</td>\n",
       "      <td>female</td>\n",
       "      <td>78</td>\n",
       "      <td>1</td>\n",
       "      <td>[margaret, caroline, rudd, born, britain, she,...</td>\n",
       "      <td>margaret caroline rudd born britain she notori...</td>\n",
       "      <td>margaret caroline born britain she notorious f...</td>\n",
       "      <td>margaret caroline born britain she notorious f...</td>\n",
       "      <td>True</td>\n",
       "    </tr>\n",
       "    <tr>\n",
       "      <th>4</th>\n",
       "      <td>retta scott was an american artist who died in...</td>\n",
       "      <td>female</td>\n",
       "      <td>51</td>\n",
       "      <td>1</td>\n",
       "      <td>[retta, scott, american, artist, died]</td>\n",
       "      <td>retta scott american artist died</td>\n",
       "      <td>scott american artist died</td>\n",
       "      <td>scott american artist died</td>\n",
       "      <td>True</td>\n",
       "    </tr>\n",
       "  </tbody>\n",
       "</table>\n",
       "</div>"
      ],
      "text/plain": [
       "                                                text  gender  len_text  \\\n",
       "0   danielle frenkel is a high jumper born in israel  female        48   \n",
       "1  tania mihailuk is a politician who was born in...  female        56   \n",
       "2  juliet taylor is a woman who works as a castin...  female        56   \n",
       "3  margaret caroline rudd was born in britain. sh...  female        78   \n",
       "4  retta scott was an american artist who died in...  female        51   \n",
       "\n",
       "   gender_id                                         text_token  \\\n",
       "0          1    [danielle, frenkel, high, jumper, born, israel]   \n",
       "1          1     [tania, mihailuk, politician, born, australia]   \n",
       "2          1  [juliet, taylor, woman, works, casting, director]   \n",
       "3          1  [margaret, caroline, rudd, born, britain, she,...   \n",
       "4          1             [retta, scott, american, artist, died]   \n",
       "\n",
       "                                         text_string  \\\n",
       "0           danielle frenkel high jumper born israel   \n",
       "1           tania mihailuk politician born australia   \n",
       "2         juliet taylor woman works casting director   \n",
       "3  margaret caroline rudd born britain she notori...   \n",
       "4                   retta scott american artist died   \n",
       "\n",
       "                                   text_string_fdist  \\\n",
       "0                          danielle high born israel   \n",
       "1                          politician born australia   \n",
       "2         juliet taylor woman works casting director   \n",
       "3  margaret caroline born britain she notorious f...   \n",
       "4                         scott american artist died   \n",
       "\n",
       "                                     text_string_lem  is_equal  \n",
       "0                          danielle high born israel      True  \n",
       "1                          politician born australia      True  \n",
       "2         juliet taylor woman works casting director      True  \n",
       "3  margaret caroline born britain she notorious f...      True  \n",
       "4                         scott american artist died      True  "
      ]
     },
     "metadata": {},
     "output_type": "display_data"
    }
   ],
   "source": [
    "unified_data.head()"
   ]
  },
  {
   "cell_type": "code",
   "execution_count": null,
   "metadata": {},
   "outputs": [
    {
     "data": {
      "text/plain": [
       "'danielle high born israel politician born australia juliet taylor woman works casting director margaret caroline born britain she notorious female scott american artist died mary barker fantasy illustrator flowers worked malay activist fought hard women children rights singapore feel gratitude evelyn she helped women land army world war ii paved way peace born february austria actress amy thomson hard science fiction writing feminist pamela scored her best bowling figure women cricket world cup eileen somewhat popular actress tv personality having appeared love novel bloody jack amazing story girl london man love dr moira marvel comics know comes polish born charles work wall history successful african american history consider his greatest achievement great reality television series graced air starting june mary years old her skin used judge her love watching teen miss usa pageants colorful ellis amazing women she women proud julie katherine british legal scholar academic administrato'"
      ]
     },
     "metadata": {},
     "output_type": "display_data"
    }
   ],
   "source": [
    "#prep for word cloud\n",
    "all_words_lem = ' '.join([word for word in unified_data['text_string_lem']])\n",
    "all_words_lem[0:1000]"
   ]
  },
  {
   "cell_type": "code",
   "execution_count": null,
   "metadata": {},
   "outputs": [
    {
     "data": {
      "image/png": "[encoded data removed]",
      "text/plain": [
       "<Figure size 936x504 with 1 Axes>"
      ]
     },
     "metadata": {},
     "output_type": "display_data"
    }
   ],
   "source": [
    "%matplotlib inline\n",
    "\n",
    "#word cloud using frequencies to infer word sizing\n",
    "#convert FreqDict object to dictionary\n",
    "fdist_dict = dict(fdist)\n",
    "\n",
    "import matplotlib.pyplot as plt\n",
    "from wordcloud import WordCloud\n",
    "\n",
    "wordcloud = WordCloud()\n",
    "wordcloud.generate_from_frequencies(frequencies=fdist_dict)\n",
    "plt.figure(figsize=(13, 7))\n",
    "plt.imshow(wordcloud, interpolation=\"bilinear\")\n",
    "plt.axis(\"off\")\n",
    "plt.show()"
   ]
  },
  {
   "cell_type": "code",
   "execution_count": null,
   "metadata": {},
   "outputs": [
    {
     "data": {
      "text/html": [
       "<div>\n",
       "<style scoped>\n",
       "    .dataframe tbody tr th:only-of-type {\n",
       "        vertical-align: middle;\n",
       "    }\n",
       "\n",
       "    .dataframe tbody tr th {\n",
       "        vertical-align: top;\n",
       "    }\n",
       "\n",
       "    .dataframe thead th {\n",
       "        text-align: right;\n",
       "    }\n",
       "</style>\n",
       "<table border=\"1\" class=\"dataframe\">\n",
       "  <thead>\n",
       "    <tr style=\"text-align: right;\">\n",
       "      <th></th>\n",
       "      <th>text_string_lem</th>\n",
       "      <th>gender_id</th>\n",
       "      <th>gender</th>\n",
       "    </tr>\n",
       "  </thead>\n",
       "  <tbody>\n",
       "    <tr>\n",
       "      <th>0</th>\n",
       "      <td>danielle high born israel</td>\n",
       "      <td>1</td>\n",
       "      <td>female</td>\n",
       "    </tr>\n",
       "    <tr>\n",
       "      <th>1</th>\n",
       "      <td>politician born australia</td>\n",
       "      <td>1</td>\n",
       "      <td>female</td>\n",
       "    </tr>\n",
       "    <tr>\n",
       "      <th>2</th>\n",
       "      <td>juliet taylor woman works casting director</td>\n",
       "      <td>1</td>\n",
       "      <td>female</td>\n",
       "    </tr>\n",
       "  </tbody>\n",
       "</table>\n",
       "</div>"
      ],
      "text/plain": [
       "                              text_string_lem  gender_id  gender\n",
       "0                   danielle high born israel          1  female\n",
       "1                   politician born australia          1  female\n",
       "2  juliet taylor woman works casting director          1  female"
      ]
     },
     "metadata": {},
     "output_type": "display_data"
    }
   ],
   "source": [
    "unified_data = unified_data[['text_string_lem', 'gender_id', 'gender']]\n",
    "unified_data.head(3)"
   ]
  },
  {
   "cell_type": "code",
   "execution_count": null,
   "metadata": {},
   "outputs": [
    {
     "name": "stdout",
     "output_type": "stream",
     "text": [
      "percentage data that is TRAIN: 80.0\n",
      "percentage data that is TEST: 20.0\n"
     ]
    }
   ],
   "source": [
    "from sklearn.feature_extraction.text import CountVectorizer\n",
    "from sklearn.feature_extraction.text import TfidfVectorizer\n",
    "\n",
    "\n",
    "\n",
    "#https://scikit-learn.org/stable/modules/generated/sklearn.feature_extraction.text.CountVectorizer.html\n",
    "#cv = CountVectorizer()\n",
    "\n",
    "#https://scikit-learn.org/stable/modules/generated/sklearn.feature_extraction.text.TfidfVectorizer.html\n",
    "tfidf = TfidfVectorizer(max_features = 10000, \n",
    "                        max_df=0.5, \n",
    "                        encoding='utf-8', \n",
    "                        ngram_range=(1, 3), \n",
    "                        stop_words=None,   #already done above\n",
    "                        lowercase = True,   #already done above\n",
    "                        token_pattern = u'(?ui)\\\\b\\\\w*[a-z]+\\\\w*\\\\b',   #same as before\n",
    "                        use_idf = True)\n",
    "\n",
    "#X = cv.fit_transform(unified_data['text_string_lem']).toarray()\n",
    "X = tfidf.fit_transform(unified_data['text_string_lem']).toarray()\n",
    "y = unified_data['gender_id']\n",
    "\n",
    "#stratify = y should only be used for imbalanced classes but this has already been corrected so no need but wil artificially improve especialy if one class more easy to classify than another\n",
    "X_train, X_test, y_train, y_test = train_test_split(X, y, random_state = 0, test_size = 0.2) \n",
    "\n",
    "print('percentage data that is TRAIN:', round((len(X_train)/len(unified_data))*100, 2))\n",
    "print('percentage data that is TEST:', round((len(X_test)/len(unified_data))*100, 2))"
   ]
  },
  {
   "cell_type": "code",
   "execution_count": null,
   "metadata": {},
   "outputs": [
    {
     "data": {
      "text/plain": [
       "array([[0., 0., 0., ..., 0., 0., 0.],\n",
       "       [0., 0., 0., ..., 0., 0., 0.],\n",
       "       [0., 0., 0., ..., 0., 0., 0.],\n",
       "       [0., 0., 0., ..., 0., 0., 0.]])"
      ]
     },
     "metadata": {},
     "output_type": "display_data"
    }
   ],
   "source": [
    "#text transformed via TfidVectorizer function to matrix of numbers that model will understand\n",
    "X[0:4]"
   ]
  },
  {
   "cell_type": "code",
   "execution_count": null,
   "metadata": {},
   "outputs": [
    {
     "name": "stdout",
     "output_type": "stream",
     "text": [
      "['11th' '13th' '15th' ... 'zoey' 'zone' 'zoo']\n",
      "--------------------------------------------------\n",
      "Number of features extracted: 10000\n"
     ]
    }
   ],
   "source": [
    "#feature_names = cv.get_feature_names_out()\n",
    "feature_names = tfidf.get_feature_names_out()\n",
    "print(feature_names)\n",
    "print('-'*50)\n",
    "print('Number of features extracted:', len(feature_names))"
   ]
  },
  {
   "cell_type": "markdown",
   "metadata": {},
   "source": [
    "### <font color='red'>AI004 - Explore Two Appropriate Models and Train</font>"
   ]
  },
  {
   "cell_type": "markdown",
   "metadata": {},
   "source": [
    "XGBClassifier(base_score=0.5, booster='gbtree', colsample_bylevel=1,\n",
    "       colsample_bynode=1, colsample_bytree=1, gamma=0, learning_rate=0.1,\n",
    "       max_delta_step=0, max_depth=3, min_child_weight=1, missing=None,\n",
    "       n_estimators=100, n_jobs=1, nthread=None,\n",
    "       objective='multi:softprob', random_state=0, reg_alpha=0,\n",
    "       reg_lambda=1, scale_pos_weight=1, seed=None, silent=None,\n",
    "       subsample=1, verbosity=1) "
   ]
  },
  {
   "cell_type": "code",
   "execution_count": null,
   "metadata": {},
   "outputs": [],
   "source": [
    "import xgboost as xgb\n",
    "from xgboost import XGBClassifier\n",
    "\n",
    "#define model\n",
    "#https://xgboost.readthedocs.io/en/stable/parameter.html\n",
    "#control imbalanced classes with 'scale_pos_weights' (default = 1) but use quick formula sum(negative instances) / sum(positive instances)\n",
    "model = XGBClassifier(n_estimators = 100, max_depth = 5, random_state = 0, verbosity = 1, learning_rate = 0.3, objective = 'binary:logistic', n_jobs = 4)\n",
    "\n",
    "#grid search\n",
    "#https://machinelearningmastery.com/tune-learning-rate-for-gradient-boosting-with-xgboost-in-python/\n",
    "#https://machinelearningmastery.com/xgboost-for-imbalanced-classification/\n",
    "#https://machinelearningmastery.com/tune-number-size-decision-trees-xgboost-python/"
   ]
  },
  {
   "cell_type": "code",
   "execution_count": null,
   "metadata": {},
   "outputs": [
    {
     "data": {
      "text/plain": [
       "['accuracy',\n",
       " 'adjusted_mutual_info_score',\n",
       " 'adjusted_rand_score',\n",
       " 'average_precision',\n",
       " 'balanced_accuracy',\n",
       " 'completeness_score',\n",
       " 'explained_variance',\n",
       " 'f1',\n",
       " 'f1_macro',\n",
       " 'f1_micro',\n",
       " 'f1_samples',\n",
       " 'f1_weighted',\n",
       " 'fowlkes_mallows_score',\n",
       " 'homogeneity_score',\n",
       " 'jaccard',\n",
       " 'jaccard_macro',\n",
       " 'jaccard_micro',\n",
       " 'jaccard_samples',\n",
       " 'jaccard_weighted',\n",
       " 'matthews_corrcoef',\n",
       " 'max_error',\n",
       " 'mutual_info_score',\n",
       " 'neg_brier_score',\n",
       " 'neg_log_loss',\n",
       " 'neg_mean_absolute_error',\n",
       " 'neg_mean_absolute_percentage_error',\n",
       " 'neg_mean_gamma_deviance',\n",
       " 'neg_mean_poisson_deviance',\n",
       " 'neg_mean_squared_error',\n",
       " 'neg_mean_squared_log_error',\n",
       " 'neg_median_absolute_error',\n",
       " 'neg_root_mean_squared_error',\n",
       " 'normalized_mutual_info_score',\n",
       " 'precision',\n",
       " 'precision_macro',\n",
       " 'precision_micro',\n",
       " 'precision_samples',\n",
       " 'precision_weighted',\n",
       " 'r2',\n",
       " 'rand_score',\n",
       " 'recall',\n",
       " 'recall_macro',\n",
       " 'recall_micro',\n",
       " 'recall_samples',\n",
       " 'recall_weighted',\n",
       " 'roc_auc',\n",
       " 'roc_auc_ovo',\n",
       " 'roc_auc_ovo_weighted',\n",
       " 'roc_auc_ovr',\n",
       " 'roc_auc_ovr_weighted',\n",
       " 'top_k_accuracy',\n",
       " 'v_measure_score']"
      ]
     },
     "metadata": {},
     "output_type": "display_data"
    }
   ],
   "source": [
    "from sklearn.metrics import get_scorer_names\n",
    "\n",
    "get_scorer_names()"
   ]
  },
  {
   "cell_type": "code",
   "execution_count": null,
   "metadata": {},
   "outputs": [],
   "source": [
    "from sklearn.model_selection import cross_val_score\n",
    "from statistics import mean\n",
    "from sklearn.model_selection import GridSearchCV\n",
    "\n",
    "#https://machinelearningmastery.com/how-to-configure-k-fold-cross-validation/\n",
    "\n",
    "#Tour of Evaluation Metrics for Imbalanced Classification\n",
    "#https://machinelearningmastery.com/tour-of-evaluation-metrics-for-imbalanced-classification/\n",
    "\n",
    "k = 2\n",
    "\n",
    "def evaluate_model(cross_val):\n",
    "    #GRID SEARCH CODE\n",
    "    #-----\n",
    "    learning_rate = [0.3]\n",
    "    n_estimators = [100]\n",
    "    param_grid = dict(learning_rate=learning_rate, n_estimators=n_estimators)\n",
    "    grid_search = GridSearchCV(model, param_grid, scoring=\"accuracy\", cv=cross_val, n_jobs=-1, verbose = 0)\n",
    "    grid_result = grid_search.fit(X_train, y_train)\n",
    "    \n",
    "    #summarize performance\n",
    "    print(\"Best: %f using %s\" % (grid_result.best_score_, grid_result.best_params_))\n",
    "    means = grid_result.cv_results_['mean_test_score']\n",
    "    stds = grid_result.cv_results_['std_test_score']\n",
    "    params = grid_result.cv_results_['params']\n",
    "    \n",
    "    for mean, stdev, param in zip(means, stds, params):\n",
    "        print(\"%f (%f) with: %r\" % (mean, stdev, param))\n",
    "    #-----\n",
    "    \n",
    "    #NON-GRID SEARCH CODE - (uncomment all below)\n",
    "    #evaluate model\n",
    "    #n_jobs=-1 means using all processors\n",
    "    #scores = cross_val_score(model, X_train, y_train, scoring='accuracy', cv=cross_val, n_jobs=-1, verbose = 0)\n",
    "\n",
    "    #summarize performance\n",
    "    #print('Accuracy: %.3f' % mean(scores))\n",
    "\n",
    "    #return mean(scores), min(scores), max(scores)\n",
    "    \n",
    "#means, mins, maxs = list(), list(), list()"
   ]
  },
  {
   "cell_type": "markdown",
   "metadata": {},
   "source": [
    "https://towardsdatascience.com/pooled-roc-with-xgboost-and-plotly-553a8169680c#:~:text=To%20get%20a%20ROC%20curve,validation%20and%20got%20500%20results."
   ]
  },
  {
   "cell_type": "code",
   "execution_count": null,
   "metadata": {},
   "outputs": [
    {
     "data": {
      "application/vnd.jupyter.widget-view+json": {
       "model_id": "078fdf7d24e74094a19b9bc9ea750f83",
       "version_major": 2,
       "version_minor": 0
      },
      "text/plain": [
       "  0%|          | 0/2 [00:00<?, ?it/s]"
      ]
     },
     "metadata": {},
     "output_type": "display_data"
    }
   ],
   "source": [
    "from sklearn.model_selection import RepeatedStratifiedKFold\n",
    "from sklearn.model_selection import StratifiedKFold\n",
    "from sklearn.model_selection import KFold\n",
    "\n",
    "folds = range(1, k+1)\n",
    "\n",
    "for fold_num in tqdm(folds):\n",
    "\t#define test condition\n",
    "\t#cross_val = RepeatedStratifiedKFold(n_splits=k, n_repeats=2, random_state=0)\n",
    "\t#cross_val = StratifiedKFold(n_splits=k, random_state=0, shuffle=True)\n",
    "\tcross_val = KFold(n_splits=k, random_state=0, shuffle=True)\n",
    "\n",
    "\t#GRID SEARCH CODE\n",
    "\t#-----\n",
    "\tevaluate_model(cross_val)\n",
    "\tprint('> folds=%d' % (fold_num))\n",
    "\t#-----\n",
    "\n",
    "\t#NON-GRID SEARCH CODE - (uncomment all below)\n",
    "\t# evaluate k value\n",
    "\t#k_mean, k_min, k_max = evaluate_model(cross_val)\n",
    "\n",
    "\t# report performance\n",
    "\t#print('> folds=%d, accuracy=%.3f (%.3f,%.3f)' % (fold_num, k_mean, k_min, k_max))\n",
    "\n",
    "\t# store mean accuracy\n",
    "\t#means.append(k_mean)\n",
    "\n",
    "\t# store min and max relative to the mean\n",
    "\t#mins.append(k_mean - k_min)\n",
    "\t#maxs.append(k_max - k_mean)\n"
   ]
  },
  {
   "cell_type": "code",
   "execution_count": null,
   "metadata": {},
   "outputs": [],
   "source": [
    "#fit model to training data\n",
    "#https://xgboost.readthedocs.io/en/stable/parameter.html\n",
    "model.fit(X_train, y_train)\n",
    "\n",
    "#make predictions for test data\n",
    "y_pred = model.predict(X_test)\n",
    "y_pred = [round(value) for value in y_pred]"
   ]
  },
  {
   "cell_type": "markdown",
   "metadata": {},
   "source": [
    "### <font color='red'>AI005 - Create Evaluation Visualizations</font>"
   ]
  },
  {
   "cell_type": "code",
   "execution_count": null,
   "metadata": {},
   "outputs": [
    {
     "name": "stdout",
     "output_type": "stream",
     "text": [
      "Accuracy: 68.985%\n",
      "              precision    recall  f1-score   support\n",
      "\n",
      "      female       0.97      0.39      0.56       888\n",
      "        male       0.62      0.99      0.76       895\n",
      "\n",
      "    accuracy                           0.69      1783\n",
      "   macro avg       0.80      0.69      0.66      1783\n",
      "weighted avg       0.80      0.69      0.66      1783\n",
      "\n"
     ]
    },
    {
     "data": {
      "image/png": "[encoded data removed]",
      "text/plain": [
       "<Figure size 432x288 with 2 Axes>"
      ]
     },
     "metadata": {},
     "output_type": "display_data"
    },
    {
     "data": {
      "image/png": "[encoded data removed]",
      "text/plain": [
       "<Figure size 432x288 with 1 Axes>"
      ]
     },
     "metadata": {},
     "output_type": "display_data"
    }
   ],
   "source": [
    "# evaluate predictions\n",
    "from sklearn.metrics import classification_report, accuracy_score, f1_score\n",
    "from sklearn.metrics import confusion_matrix, ConfusionMatrixDisplay\n",
    "from sklearn.metrics import roc_auc_score, roc_curve, auc, plot_roc_curve, RocCurveDisplay\n",
    "\n",
    "y_test_alt = pd.Series(y_test)\n",
    "y_test_alt.replace(0, 'male', inplace = True)\n",
    "y_test_alt.replace(1, 'female', inplace = True)\n",
    "y_pred_alt = pd.Series(y_pred)\n",
    "y_pred_alt.replace(0, 'male', inplace = True)\n",
    "y_pred_alt.replace(1, 'female', inplace = True)\n",
    "\n",
    "accuracy = accuracy_score(y_test, y_pred)\n",
    "\n",
    "print('Accuracy: %.3f%%' % (accuracy * 100.0))\n",
    "\n",
    "print(classification_report(y_test_alt, y_pred_alt))\n",
    "ConfusionMatrixDisplay.from_predictions(y_test_alt, y_pred_alt)\n",
    "\n",
    "fpr, tpr, thresholds = roc_curve(y_test, y_pred)\n",
    "roc_auc = auc(fpr, tpr)\n",
    "display = RocCurveDisplay(fpr=fpr, tpr=tpr, roc_auc=roc_auc, estimator_name='XGBClassifier')\n",
    "display.plot()\n",
    "plt.show()"
   ]
  },
  {
   "cell_type": "markdown",
   "metadata": {},
   "source": [
    "##### <font color='red'>DOESN'T WORK THE BEST BECAUSE MORE PREPROCESSING REQUIRED BEFORE tfidf.transform</font>"
   ]
  },
  {
   "cell_type": "code",
   "execution_count": null,
   "metadata": {},
   "outputs": [
    {
     "name": "stdout",
     "output_type": "stream",
     "text": [
      "[0] male\n",
      "[0] male\n",
      "[0] male\n",
      "[1] female\n"
     ]
    }
   ],
   "source": [
    "#male = 0, female = 1\n",
    "\n",
    "test1 = model.predict(tfidf.transform([\"He was going to destroy the world\"]))\n",
    "test2 = model.predict(tfidf.transform([\"What's happening man, what you saying?\"]))\n",
    "test3 = model.predict(tfidf.transform([\"What's happening girl, what you saying?\"]))\n",
    "test4 = model.predict(tfidf.transform([\"What did she say?\"]))\n",
    "\n",
    "#remember to add test to list\n",
    "list_tests = [test1, test2, test3, test4]\n",
    "\n",
    "for i in list_tests:\n",
    "    if i == 0:\n",
    "        print(i, 'male')\n",
    "    elif i == 1:\n",
    "        print(i, 'female')\n",
    "    else:\n",
    "        print('erroneous result')\n"
   ]
  },
  {
   "cell_type": "code",
   "execution_count": null,
   "metadata": {},
   "outputs": [],
   "source": [
    "from sklearn.naive_bayes import MultinomialNB\n",
    "model = MultinomialNB(n_jobs = 4)"
   ]
  },
  {
   "cell_type": "code",
   "execution_count": null,
   "metadata": {},
   "outputs": [],
   "source": [
    "from sklearn.model_selection import cross_val_score\n",
    "from statistics import mean\n",
    "\n",
    "def evaluate_model(cross_val):\n",
    "    #evaluate model\n",
    "    #n_jobs=-1 means using all processors\n",
    "    scores = cross_val_score(model, X_train, y_train, scoring='accuracy', cv=cross_val, n_jobs=-1, verbose = 0)\n",
    "\n",
    "    #summarize performance\n",
    "    print('Accuracy: %.3f' % mean(scores))\n",
    "\n",
    "    return mean(scores), min(scores), max(scores)\n",
    "    \n",
    "means, mins, maxs = list(), list(), list()"
   ]
  },
  {
   "cell_type": "markdown",
   "metadata": {},
   "source": [
    "https://towardsdatascience.com/pooled-roc-with-xgboost-and-plotly-553a8169680c#:~:text=To%20get%20a%20ROC%20curve,validation%20and%20got%20500%20results."
   ]
  },
  {
   "cell_type": "code",
   "execution_count": null,
   "metadata": {},
   "outputs": [
    {
     "data": {
      "application/vnd.jupyter.widget-view+json": {
       "model_id": "5638a2878e294f948c29ea8fe51195cc",
       "version_major": 2,
       "version_minor": 0
      },
      "text/plain": [
       "  0%|          | 0/2 [00:00<?, ?it/s]"
      ]
     },
     "metadata": {},
     "output_type": "display_data"
    },
    {
     "name": "stdout",
     "output_type": "stream",
     "text": [
      "Best: 0.751789 using {'learning_rate': 0.3}\n",
      "0.656571 (0.004299) with: {'learning_rate': 0.001}\n",
      "0.673398 (0.000747) with: {'learning_rate': 0.01}\n",
      "0.732436 (0.002487) with: {'learning_rate': 0.1}\n",
      "0.746600 (0.003190) with: {'learning_rate': 0.2}\n",
      "0.751789 (0.003892) with: {'learning_rate': 0.3}\n",
      "Best: 0.751789 using {'learning_rate': 0.3}\n",
      "0.656571 (0.004299) with: {'learning_rate': 0.001}\n",
      "0.673398 (0.000747) with: {'learning_rate': 0.01}\n",
      "0.732436 (0.002487) with: {'learning_rate': 0.1}\n",
      "0.746600 (0.003190) with: {'learning_rate': 0.2}\n",
      "0.751789 (0.003892) with: {'learning_rate': 0.3}\n"
     ]
    }
   ],
   "source": [
    "from sklearn.model_selection import RepeatedStratifiedKFold\n",
    "from sklearn.model_selection import StratifiedKFold\n",
    "from sklearn.model_selection import KFold\n",
    "\n",
    "folds = range(1, k+1)\n",
    "\n",
    "for fold_num in tqdm(folds):\n",
    "\t#define test condition\n",
    "\tcross_val = KFold(n_splits=k, random_state=0, shuffle=True)\n",
    " \n",
    "\t# evaluate k value\n",
    "\tk_mean, k_min, k_max = evaluate_model(cross_val)\n",
    "\n",
    "\t# report performance\n",
    "\tprint('> folds=%d, accuracy=%.3f (%.3f,%.3f)' % (fold_num, k_mean, k_min, k_max))\n",
    "\n",
    "\t# store mean accuracy\n",
    "\tmeans.append(k_mean)\n",
    "\n",
    "\t# store min and max relative to the mean\n",
    "\tmins.append(k_mean - k_min)\n",
    "\tmaxs.append(k_max - k_mean)\n"
   ]
  },
  {
   "cell_type": "code",
   "execution_count": null,
   "metadata": {},
   "outputs": [],
   "source": [
    "#fit model to training data\n",
    "model.fit(X_train, y_train)\n",
    "\n",
    "#make predictions for test data\n",
    "y_pred = model.predict(X_test)\n",
    "y_pred = [round(value) for value in y_pred]"
   ]
  },
  {
   "cell_type": "code",
   "execution_count": null,
   "metadata": {},
   "outputs": [
    {
     "name": "stdout",
     "output_type": "stream",
     "text": [
      "Accuracy: 68.985%\n",
      "              precision    recall  f1-score   support\n",
      "\n",
      "      female       0.97      0.39      0.56       888\n",
      "        male       0.62      0.99      0.76       895\n",
      "\n",
      "    accuracy                           0.69      1783\n",
      "   macro avg       0.80      0.69      0.66      1783\n",
      "weighted avg       0.80      0.69      0.66      1783\n",
      "\n"
     ]
    },
    {
     "data": {
      "image/png": "[encoded data removed]",
      "text/plain": [
       "<Figure size 432x288 with 2 Axes>"
      ]
     },
     "metadata": {},
     "output_type": "display_data"
    },
    {
     "data": {
      "image/png": "[encoded data removed]",
      "text/plain": [
       "<Figure size 432x288 with 1 Axes>"
      ]
     },
     "metadata": {},
     "output_type": "display_data"
    }
   ],
   "source": [
    "# evaluate predictions\n",
    "from sklearn.metrics import classification_report, accuracy_score, f1_score\n",
    "from sklearn.metrics import confusion_matrix, ConfusionMatrixDisplay\n",
    "from sklearn.metrics import roc_auc_score, roc_curve, auc, plot_roc_curve, RocCurveDisplay\n",
    "\n",
    "y_test_alt = pd.Series(y_test)\n",
    "y_test_alt.replace(0, 'male', inplace = True)\n",
    "y_test_alt.replace(1, 'female', inplace = True)\n",
    "y_pred_alt = pd.Series(y_pred)\n",
    "y_pred_alt.replace(0, 'male', inplace = True)\n",
    "y_pred_alt.replace(1, 'female', inplace = True)\n",
    "\n",
    "accuracy = accuracy_score(y_test, y_pred)\n",
    "\n",
    "print('Accuracy: %.3f%%' % (accuracy * 100.0))\n",
    "\n",
    "print(classification_report(y_test_alt, y_pred_alt))\n",
    "ConfusionMatrixDisplay.from_predictions(y_test_alt, y_pred_alt)\n",
    "\n",
    "fpr, tpr, thresholds = roc_curve(y_test, y_pred)\n",
    "roc_auc = auc(fpr, tpr)\n",
    "display = RocCurveDisplay(fpr=fpr, tpr=tpr, roc_auc=roc_auc, estimator_name='XGBClassifier')\n",
    "display.plot()\n",
    "plt.show()"
   ]
  },
  {
   "cell_type": "markdown",
   "metadata": {},
   "source": [
    "##### <font color='red'>DOESN'T WORK THE BEST BECAUSE MORE PREPROCESSING REQUIRED BEFORE tfidf.transform</font>"
   ]
  },
  {
   "cell_type": "code",
   "execution_count": null,
   "metadata": {},
   "outputs": [
    {
     "name": "stdout",
     "output_type": "stream",
     "text": [
      "[0] male\n",
      "[0] male\n",
      "[0] male\n",
      "[1] female\n"
     ]
    }
   ],
   "source": [
    "#male = 0, female = 1\n",
    "\n",
    "test1 = model.predict(tfidf.transform([\"He was going to destroy the world\"]))\n",
    "test2 = model.predict(tfidf.transform([\"What's happening man, what you saying?\"]))\n",
    "test3 = model.predict(tfidf.transform([\"What's happening girl, what you saying?\"]))\n",
    "test4 = model.predict(tfidf.transform([\"What did she say?\"]))\n",
    "\n",
    "#remember to add test to list\n",
    "list_tests = [test1, test2, test3, test4]\n",
    "\n",
    "for i in list_tests:\n",
    "    if i == 0:\n",
    "        print(i, 'male')\n",
    "    elif i == 1:\n",
    "        print(i, 'female')\n",
    "    else:\n",
    "        print('erroneous result')\n"
   ]
  }
 ],
 "metadata": {
  "kernelspec": {
   "display_name": "Python 3.10.5 64-bit",
   "language": "python",
   "name": "python3"
  },
  "language_info": {
   "name": "python",
   "version": "3.10.5"
  },
  "orig_nbformat": 4,
  "vscode": {
   "interpreter": {
    "hash": "aee8b7b246df8f9039afb4144a1f6fd8d2ca17a180786b69acc140d282b71a49"
   }
  }
 },
 "nbformat": 4,
 "nbformat_minor": 2
}
