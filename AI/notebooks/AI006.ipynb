{
 "cells": [
  {
   "cell_type": "code",
   "execution_count": null,
   "metadata": {},
   "outputs": [],
   "source": [
    "import pandas as pd\n",
    "from sklearn.model_selection import train_test_split\n",
    "import numpy as np\n",
    "import plotly.express as px\n",
    "from tqdm.notebook import tqdm\n",
    "import matplotlib.pyplot as plt"
   ]
  },
  {
   "cell_type": "markdown",
   "metadata": {},
   "source": [
    "### <font color='red'>AI001 - Find Suitable Dataset</font>"
   ]
  },
  {
   "cell_type": "code",
   "execution_count": null,
   "metadata": {},
   "outputs": [],
   "source": [
    "%%capture\n",
    "\n",
    "from datasets import load_dataset\n",
    "help(load_dataset)\n",
    "\n",
    "mode = 'force_redownload'\n",
    "\n",
    "train_data = load_dataset('md_gender_bias', name = 'funpedia', split = 'train', download_mode = mode)\n",
    "test_data = load_dataset('md_gender_bias', name = 'funpedia', split = 'test', download_mode = mode)\n",
    "val_data = load_dataset('md_gender_bias', name = 'funpedia', split = 'validation', download_mode = mode)"
   ]
  },
  {
   "cell_type": "code",
   "execution_count": null,
   "metadata": {},
   "outputs": [
    {
     "name": "stdout",
     "output_type": "stream",
     "text": [
      "Dataset({\n",
      "    features: ['text', 'gender', 'title', 'persona'],\n",
      "    num_rows: 23897\n",
      "})\n",
      "Dataset({\n",
      "    features: ['text', 'gender', 'title', 'persona'],\n",
      "    num_rows: 2938\n",
      "})\n",
      "Dataset({\n",
      "    features: ['text', 'gender', 'title', 'persona'],\n",
      "    num_rows: 2984\n",
      "})\n"
     ]
    }
   ],
   "source": [
    "print(train_data)\n",
    "print(test_data)\n",
    "print(val_data)"
   ]
  },
  {
   "cell_type": "code",
   "execution_count": null,
   "metadata": {},
   "outputs": [],
   "source": [
    "train_data = pd.DataFrame(train_data)\n",
    "test_data = pd.DataFrame(test_data)\n",
    "val_data = pd.DataFrame(val_data)"
   ]
  },
  {
   "cell_type": "code",
   "execution_count": null,
   "metadata": {},
   "outputs": [
    {
     "name": "stdout",
     "output_type": "stream",
     "text": [
      "percentage data that is TRAIN: 80.14\n",
      "percentage data that is TEST: 9.85\n",
      "percentage data that is VALIDATION: 10.01\n"
     ]
    }
   ],
   "source": [
    "total_nrows = len(train_data) + len(test_data) + len(val_data)\n",
    "print('percentage data that is TRAIN:', round((len(train_data)/total_nrows)*100, 2))\n",
    "print('percentage data that is TEST:', round((len(test_data)/total_nrows)*100, 2))\n",
    "print('percentage data that is VALIDATION:', round((len(val_data)/total_nrows)*100, 2))"
   ]
  },
  {
   "cell_type": "markdown",
   "metadata": {},
   "source": [
    "#### Load data locally (if need be)"
   ]
  },
  {
   "cell_type": "code",
   "execution_count": null,
   "metadata": {},
   "outputs": [],
   "source": [
    "#data source: https://huggingface.co/datasets/md_gender_bias\n",
    "#train_data = pd.read_json('md_gender_bias/funpedia/train.jsonl', lines = True)\n",
    "#test_data = pd.read_json('md_gender_bias/funpedia/test.jsonl', lines = True)\n",
    "#val_data = pd.read_json('md_gender_bias/funpedia/valid.jsonl', lines = True)"
   ]
  },
  {
   "cell_type": "markdown",
   "metadata": {},
   "source": [
    "### <font color='red'>AI002 - EDA (Exploratory Data Analysis)</font>"
   ]
  },
  {
   "cell_type": "code",
   "execution_count": null,
   "metadata": {},
   "outputs": [
    {
     "data": {
      "text/html": [
       "<div>\n",
       "<style scoped>\n",
       "    .dataframe tbody tr th:only-of-type {\n",
       "        vertical-align: middle;\n",
       "    }\n",
       "\n",
       "    .dataframe tbody tr th {\n",
       "        vertical-align: top;\n",
       "    }\n",
       "\n",
       "    .dataframe thead th {\n",
       "        text-align: right;\n",
       "    }\n",
       "</style>\n",
       "<table border=\"1\" class=\"dataframe\">\n",
       "  <thead>\n",
       "    <tr style=\"text-align: right;\">\n",
       "      <th></th>\n",
       "      <th>text</th>\n",
       "      <th>gender</th>\n",
       "      <th>title</th>\n",
       "      <th>persona</th>\n",
       "    </tr>\n",
       "  </thead>\n",
       "  <tbody>\n",
       "    <tr>\n",
       "      <th>0</th>\n",
       "      <td>Max Landis is a comic book writer who wrote Ch...</td>\n",
       "      <td>male</td>\n",
       "      <td>Max Landis</td>\n",
       "      <td>Humorous</td>\n",
       "    </tr>\n",
       "    <tr>\n",
       "      <th>1</th>\n",
       "      <td>Félix stevens is a retired cuban sprinter who ...</td>\n",
       "      <td>male</td>\n",
       "      <td>Félix Stevens</td>\n",
       "      <td>Confident</td>\n",
       "    </tr>\n",
       "    <tr>\n",
       "      <th>2</th>\n",
       "      <td>Arthur Engelbert is a professor at the Univers...</td>\n",
       "      <td>male</td>\n",
       "      <td>Arthur Engelbert</td>\n",
       "      <td>Creative</td>\n",
       "    </tr>\n",
       "  </tbody>\n",
       "</table>\n",
       "</div>"
      ],
      "text/plain": [
       "                                                text gender             title  \\\n",
       "0  Max Landis is a comic book writer who wrote Ch...   male        Max Landis   \n",
       "1  Félix stevens is a retired cuban sprinter who ...   male     Félix Stevens   \n",
       "2  Arthur Engelbert is a professor at the Univers...   male  Arthur Engelbert   \n",
       "\n",
       "     persona  \n",
       "0   Humorous  \n",
       "1  Confident  \n",
       "2   Creative  "
      ]
     },
     "metadata": {},
     "output_type": "display_data"
    }
   ],
   "source": [
    "train_data.head(3)"
   ]
  },
  {
   "cell_type": "code",
   "execution_count": null,
   "metadata": {},
   "outputs": [
    {
     "data": {
      "text/html": [
       "<div>\n",
       "<style scoped>\n",
       "    .dataframe tbody tr th:only-of-type {\n",
       "        vertical-align: middle;\n",
       "    }\n",
       "\n",
       "    .dataframe tbody tr th {\n",
       "        vertical-align: top;\n",
       "    }\n",
       "\n",
       "    .dataframe thead th {\n",
       "        text-align: right;\n",
       "    }\n",
       "</style>\n",
       "<table border=\"1\" class=\"dataframe\">\n",
       "  <thead>\n",
       "    <tr style=\"text-align: right;\">\n",
       "      <th></th>\n",
       "      <th>text</th>\n",
       "      <th>gender</th>\n",
       "      <th>title</th>\n",
       "      <th>persona</th>\n",
       "    </tr>\n",
       "  </thead>\n",
       "  <tbody>\n",
       "    <tr>\n",
       "      <th>0</th>\n",
       "      <td>Hmmm yes Horacio Calcaterra is a sportsman tha...</td>\n",
       "      <td>male</td>\n",
       "      <td>Horacio Calcaterra</td>\n",
       "      <td>Articulate (Well-spoken, Expressive)</td>\n",
       "    </tr>\n",
       "    <tr>\n",
       "      <th>1</th>\n",
       "      <td>John A. Fallon kindly accepted his appointment...</td>\n",
       "      <td>male</td>\n",
       "      <td>John A. Fallon</td>\n",
       "      <td>Humble</td>\n",
       "    </tr>\n",
       "    <tr>\n",
       "      <th>2</th>\n",
       "      <td>Arthur Knight sadly passed as a result of part...</td>\n",
       "      <td>male</td>\n",
       "      <td>Arthur Gerald Knight</td>\n",
       "      <td>Peaceful</td>\n",
       "    </tr>\n",
       "  </tbody>\n",
       "</table>\n",
       "</div>"
      ],
      "text/plain": [
       "                                                text gender  \\\n",
       "0  Hmmm yes Horacio Calcaterra is a sportsman tha...   male   \n",
       "1  John A. Fallon kindly accepted his appointment...   male   \n",
       "2  Arthur Knight sadly passed as a result of part...   male   \n",
       "\n",
       "                  title                               persona  \n",
       "0    Horacio Calcaterra  Articulate (Well-spoken, Expressive)  \n",
       "1        John A. Fallon                                Humble  \n",
       "2  Arthur Gerald Knight                              Peaceful  "
      ]
     },
     "metadata": {},
     "output_type": "display_data"
    }
   ],
   "source": [
    "test_data.head(3)"
   ]
  },
  {
   "cell_type": "code",
   "execution_count": null,
   "metadata": {},
   "outputs": [
    {
     "data": {
      "text/html": [
       "<div>\n",
       "<style scoped>\n",
       "    .dataframe tbody tr th:only-of-type {\n",
       "        vertical-align: middle;\n",
       "    }\n",
       "\n",
       "    .dataframe tbody tr th {\n",
       "        vertical-align: top;\n",
       "    }\n",
       "\n",
       "    .dataframe thead th {\n",
       "        text-align: right;\n",
       "    }\n",
       "</style>\n",
       "<table border=\"1\" class=\"dataframe\">\n",
       "  <thead>\n",
       "    <tr style=\"text-align: right;\">\n",
       "      <th></th>\n",
       "      <th>text</th>\n",
       "      <th>gender</th>\n",
       "      <th>title</th>\n",
       "      <th>persona</th>\n",
       "    </tr>\n",
       "  </thead>\n",
       "  <tbody>\n",
       "    <tr>\n",
       "      <th>0</th>\n",
       "      <td>I wonder what went through Bill Tom Closs's mi...</td>\n",
       "      <td>male</td>\n",
       "      <td>Bill Closs</td>\n",
       "      <td>Deep</td>\n",
       "    </tr>\n",
       "    <tr>\n",
       "      <th>1</th>\n",
       "      <td>Gerald Rashard Everett is a football tight end...</td>\n",
       "      <td>male</td>\n",
       "      <td>Gerald Everett</td>\n",
       "      <td>Playful</td>\n",
       "    </tr>\n",
       "    <tr>\n",
       "      <th>2</th>\n",
       "      <td>The Nahoni Range is a mountan range that is lo...</td>\n",
       "      <td>male</td>\n",
       "      <td>Nahoni Range</td>\n",
       "      <td>Creative</td>\n",
       "    </tr>\n",
       "  </tbody>\n",
       "</table>\n",
       "</div>"
      ],
      "text/plain": [
       "                                                text gender           title  \\\n",
       "0  I wonder what went through Bill Tom Closs's mi...   male      Bill Closs   \n",
       "1  Gerald Rashard Everett is a football tight end...   male  Gerald Everett   \n",
       "2  The Nahoni Range is a mountan range that is lo...   male    Nahoni Range   \n",
       "\n",
       "    persona  \n",
       "0      Deep  \n",
       "1   Playful  \n",
       "2  Creative  "
      ]
     },
     "metadata": {},
     "output_type": "display_data"
    }
   ],
   "source": [
    "val_data.head(3)"
   ]
  },
  {
   "cell_type": "code",
   "execution_count": null,
   "metadata": {},
   "outputs": [
    {
     "data": {
      "text/html": [
       "<div>\n",
       "<style scoped>\n",
       "    .dataframe tbody tr th:only-of-type {\n",
       "        vertical-align: middle;\n",
       "    }\n",
       "\n",
       "    .dataframe tbody tr th {\n",
       "        vertical-align: top;\n",
       "    }\n",
       "\n",
       "    .dataframe thead th {\n",
       "        text-align: right;\n",
       "    }\n",
       "</style>\n",
       "<table border=\"1\" class=\"dataframe\">\n",
       "  <thead>\n",
       "    <tr style=\"text-align: right;\">\n",
       "      <th></th>\n",
       "      <th>text</th>\n",
       "      <th>gender</th>\n",
       "      <th>title</th>\n",
       "      <th>persona</th>\n",
       "    </tr>\n",
       "  </thead>\n",
       "  <tbody>\n",
       "    <tr>\n",
       "      <th>23882</th>\n",
       "      <td>Jesse Gress is an amazing rock guitarist!</td>\n",
       "      <td>male</td>\n",
       "      <td>Jesse Gress</td>\n",
       "      <td>Energetic</td>\n",
       "    </tr>\n",
       "    <tr>\n",
       "      <th>23883</th>\n",
       "      <td>I wonder how Elam Stevenson's life would have ...</td>\n",
       "      <td>male</td>\n",
       "      <td>Elam Stevenson</td>\n",
       "      <td>Reflective</td>\n",
       "    </tr>\n",
       "    <tr>\n",
       "      <th>23884</th>\n",
       "      <td>If you seek the Olga Kostenko, you must go to ...</td>\n",
       "      <td>female</td>\n",
       "      <td>Olga Kostenko</td>\n",
       "      <td>Insightful</td>\n",
       "    </tr>\n",
       "    <tr>\n",
       "      <th>23885</th>\n",
       "      <td>Even though Charles A. Hickey had a great care...</td>\n",
       "      <td>male</td>\n",
       "      <td>Charles A. Hickey</td>\n",
       "      <td>Empathetic</td>\n",
       "    </tr>\n",
       "    <tr>\n",
       "      <th>23886</th>\n",
       "      <td>P. Frank Winkler a well known astro careerist ...</td>\n",
       "      <td>male</td>\n",
       "      <td>Frank Winkler</td>\n",
       "      <td>Insightful</td>\n",
       "    </tr>\n",
       "    <tr>\n",
       "      <th>23887</th>\n",
       "      <td>This concert pianist, Edward Cahill's music wa...</td>\n",
       "      <td>male</td>\n",
       "      <td>Edward Cahill (pianist)</td>\n",
       "      <td>Warm</td>\n",
       "    </tr>\n",
       "    <tr>\n",
       "      <th>23888</th>\n",
       "      <td>Your heart will be touched by the personal sto...</td>\n",
       "      <td>gender-neutral</td>\n",
       "      <td>Michèle Stephenson</td>\n",
       "      <td>Compassionate (Sympathetic, Warm)</td>\n",
       "    </tr>\n",
       "    <tr>\n",
       "      <th>23889</th>\n",
       "      <td>John Boning played in 35 matches, totalling 65...</td>\n",
       "      <td>male</td>\n",
       "      <td>John Boning</td>\n",
       "      <td>Practical</td>\n",
       "    </tr>\n",
       "    <tr>\n",
       "      <th>23890</th>\n",
       "      <td>Katie spencer has worked many films with sarah...</td>\n",
       "      <td>female</td>\n",
       "      <td>Katie Spencer</td>\n",
       "      <td>Scholarly</td>\n",
       "    </tr>\n",
       "    <tr>\n",
       "      <th>23891</th>\n",
       "      <td>English Crickiter Ian Burnley was born 03/11/1...</td>\n",
       "      <td>male</td>\n",
       "      <td>Ian Burnley</td>\n",
       "      <td>Exciting</td>\n",
       "    </tr>\n",
       "    <tr>\n",
       "      <th>23892</th>\n",
       "      <td>If Cristian Rosso can win 2 gold medals in the...</td>\n",
       "      <td>male</td>\n",
       "      <td>Cristian Rosso</td>\n",
       "      <td>Optimistic</td>\n",
       "    </tr>\n",
       "    <tr>\n",
       "      <th>23893</th>\n",
       "      <td>With altitudes ranging from a low 700 to a who...</td>\n",
       "      <td>gender-neutral</td>\n",
       "      <td>Wayanad district</td>\n",
       "      <td>Creative</td>\n",
       "    </tr>\n",
       "    <tr>\n",
       "      <th>23894</th>\n",
       "      <td>You can easily say that Cash Generator is the ...</td>\n",
       "      <td>male</td>\n",
       "      <td>Cash Generator</td>\n",
       "      <td>Energetic</td>\n",
       "    </tr>\n",
       "    <tr>\n",
       "      <th>23895</th>\n",
       "      <td>Eleanor Mosley (Elinor Mosely) (1700-?) when d...</td>\n",
       "      <td>female</td>\n",
       "      <td>Eleanor Mosley</td>\n",
       "      <td>Optimistic</td>\n",
       "    </tr>\n",
       "    <tr>\n",
       "      <th>23896</th>\n",
       "      <td>Timothy Steele stands firm that he writes poet...</td>\n",
       "      <td>male</td>\n",
       "      <td>Timothy Steele</td>\n",
       "      <td>Spirited</td>\n",
       "    </tr>\n",
       "  </tbody>\n",
       "</table>\n",
       "</div>"
      ],
      "text/plain": [
       "                                                    text          gender  \\\n",
       "23882          Jesse Gress is an amazing rock guitarist!            male   \n",
       "23883  I wonder how Elam Stevenson's life would have ...            male   \n",
       "23884  If you seek the Olga Kostenko, you must go to ...          female   \n",
       "23885  Even though Charles A. Hickey had a great care...            male   \n",
       "23886  P. Frank Winkler a well known astro careerist ...            male   \n",
       "23887  This concert pianist, Edward Cahill's music wa...            male   \n",
       "23888  Your heart will be touched by the personal sto...  gender-neutral   \n",
       "23889  John Boning played in 35 matches, totalling 65...            male   \n",
       "23890  Katie spencer has worked many films with sarah...          female   \n",
       "23891  English Crickiter Ian Burnley was born 03/11/1...            male   \n",
       "23892  If Cristian Rosso can win 2 gold medals in the...            male   \n",
       "23893  With altitudes ranging from a low 700 to a who...  gender-neutral   \n",
       "23894  You can easily say that Cash Generator is the ...            male   \n",
       "23895  Eleanor Mosley (Elinor Mosely) (1700-?) when d...          female   \n",
       "23896  Timothy Steele stands firm that he writes poet...            male   \n",
       "\n",
       "                         title                            persona  \n",
       "23882              Jesse Gress                          Energetic  \n",
       "23883           Elam Stevenson                         Reflective  \n",
       "23884            Olga Kostenko                         Insightful  \n",
       "23885        Charles A. Hickey                         Empathetic  \n",
       "23886            Frank Winkler                         Insightful  \n",
       "23887  Edward Cahill (pianist)                               Warm  \n",
       "23888       Michèle Stephenson  Compassionate (Sympathetic, Warm)  \n",
       "23889              John Boning                          Practical  \n",
       "23890            Katie Spencer                          Scholarly  \n",
       "23891              Ian Burnley                           Exciting  \n",
       "23892           Cristian Rosso                         Optimistic  \n",
       "23893         Wayanad district                           Creative  \n",
       "23894           Cash Generator                          Energetic  \n",
       "23895           Eleanor Mosley                         Optimistic  \n",
       "23896           Timothy Steele                           Spirited  "
      ]
     },
     "metadata": {},
     "output_type": "display_data"
    }
   ],
   "source": [
    "train_data.tail(15)"
   ]
  },
  {
   "cell_type": "code",
   "execution_count": null,
   "metadata": {},
   "outputs": [
    {
     "data": {
      "text/plain": [
       "male              19156\n",
       "female             3594\n",
       "gender-neutral     1147\n",
       "Name: gender, dtype: int64"
      ]
     },
     "metadata": {},
     "output_type": "display_data"
    }
   ],
   "source": [
    "train_data['gender'].value_counts()"
   ]
  },
  {
   "cell_type": "code",
   "execution_count": null,
   "metadata": {},
   "outputs": [
    {
     "data": {
      "text/html": [
       "<div>\n",
       "<style scoped>\n",
       "    .dataframe tbody tr th:only-of-type {\n",
       "        vertical-align: middle;\n",
       "    }\n",
       "\n",
       "    .dataframe tbody tr th {\n",
       "        vertical-align: top;\n",
       "    }\n",
       "\n",
       "    .dataframe thead th {\n",
       "        text-align: right;\n",
       "    }\n",
       "</style>\n",
       "<table border=\"1\" class=\"dataframe\">\n",
       "  <thead>\n",
       "    <tr style=\"text-align: right;\">\n",
       "      <th></th>\n",
       "      <th>text</th>\n",
       "      <th>gender</th>\n",
       "      <th>title</th>\n",
       "      <th>persona</th>\n",
       "    </tr>\n",
       "  </thead>\n",
       "  <tbody>\n",
       "    <tr>\n",
       "      <th>3631</th>\n",
       "      <td>The Guatemalan feminist Irene de Peyre was an ...</td>\n",
       "      <td>female</td>\n",
       "      <td>Irene de Peyré</td>\n",
       "      <td>Articulate (Well-spoken, Expressive)</td>\n",
       "    </tr>\n",
       "    <tr>\n",
       "      <th>8783</th>\n",
       "      <td>Leo Murphy who played for Hawthorn was my gran...</td>\n",
       "      <td>male</td>\n",
       "      <td>Leo Murphy</td>\n",
       "      <td>Contemplative (Reflective, Thoughtful)</td>\n",
       "    </tr>\n",
       "    <tr>\n",
       "      <th>18860</th>\n",
       "      <td>The English cricketer David Rooney was born in...</td>\n",
       "      <td>male</td>\n",
       "      <td>David Rooney (cricketer)</td>\n",
       "      <td>Spirited</td>\n",
       "    </tr>\n",
       "    <tr>\n",
       "      <th>9280</th>\n",
       "      <td>You can't strike out with an MLB Twins catcher...</td>\n",
       "      <td>male</td>\n",
       "      <td>Jason Castro (baseball)</td>\n",
       "      <td>Witty</td>\n",
       "    </tr>\n",
       "    <tr>\n",
       "      <th>8164</th>\n",
       "      <td>Rudi Gering had performed admirably and deserv...</td>\n",
       "      <td>male</td>\n",
       "      <td>Rudi Gering</td>\n",
       "      <td>Rational</td>\n",
       "    </tr>\n",
       "  </tbody>\n",
       "</table>\n",
       "</div>"
      ],
      "text/plain": [
       "                                                    text  gender  \\\n",
       "3631   The Guatemalan feminist Irene de Peyre was an ...  female   \n",
       "8783   Leo Murphy who played for Hawthorn was my gran...    male   \n",
       "18860  The English cricketer David Rooney was born in...    male   \n",
       "9280   You can't strike out with an MLB Twins catcher...    male   \n",
       "8164   Rudi Gering had performed admirably and deserv...    male   \n",
       "\n",
       "                          title                                 persona  \n",
       "3631             Irene de Peyré    Articulate (Well-spoken, Expressive)  \n",
       "8783                 Leo Murphy  Contemplative (Reflective, Thoughtful)  \n",
       "18860  David Rooney (cricketer)                                Spirited  \n",
       "9280    Jason Castro (baseball)                                   Witty  \n",
       "8164                Rudi Gering                                Rational  "
      ]
     },
     "metadata": {},
     "output_type": "display_data"
    }
   ],
   "source": [
    "train_data.sample(5)"
   ]
  },
  {
   "cell_type": "code",
   "execution_count": null,
   "metadata": {},
   "outputs": [
    {
     "data": {
      "text/html": [
       "<div>\n",
       "<style scoped>\n",
       "    .dataframe tbody tr th:only-of-type {\n",
       "        vertical-align: middle;\n",
       "    }\n",
       "\n",
       "    .dataframe tbody tr th {\n",
       "        vertical-align: top;\n",
       "    }\n",
       "\n",
       "    .dataframe thead th {\n",
       "        text-align: right;\n",
       "    }\n",
       "</style>\n",
       "<table border=\"1\" class=\"dataframe\">\n",
       "  <thead>\n",
       "    <tr style=\"text-align: right;\">\n",
       "      <th></th>\n",
       "      <th>text</th>\n",
       "      <th>gender</th>\n",
       "      <th>title</th>\n",
       "      <th>persona</th>\n",
       "    </tr>\n",
       "  </thead>\n",
       "  <tbody>\n",
       "    <tr>\n",
       "      <th>0</th>\n",
       "      <td>Max Landis is a comic book writer who wrote Ch...</td>\n",
       "      <td>male</td>\n",
       "      <td>Max Landis</td>\n",
       "      <td>Humorous</td>\n",
       "    </tr>\n",
       "    <tr>\n",
       "      <th>1</th>\n",
       "      <td>Félix stevens is a retired cuban sprinter who ...</td>\n",
       "      <td>male</td>\n",
       "      <td>Félix Stevens</td>\n",
       "      <td>Confident</td>\n",
       "    </tr>\n",
       "    <tr>\n",
       "      <th>2</th>\n",
       "      <td>Arthur Engelbert is a professor at the Univers...</td>\n",
       "      <td>male</td>\n",
       "      <td>Arthur Engelbert</td>\n",
       "      <td>Creative</td>\n",
       "    </tr>\n",
       "    <tr>\n",
       "      <th>3</th>\n",
       "      <td>Danielle Frenkel is a high jumper born in Israel</td>\n",
       "      <td>female</td>\n",
       "      <td>Danielle Frenkel</td>\n",
       "      <td>Brilliant</td>\n",
       "    </tr>\n",
       "    <tr>\n",
       "      <th>4</th>\n",
       "      <td>Ernie O'Malley served in the Irish republican ...</td>\n",
       "      <td>male</td>\n",
       "      <td>Ernie O'Malley</td>\n",
       "      <td>Gentle</td>\n",
       "    </tr>\n",
       "  </tbody>\n",
       "</table>\n",
       "</div>"
      ],
      "text/plain": [
       "                                                text  gender  \\\n",
       "0  Max Landis is a comic book writer who wrote Ch...    male   \n",
       "1  Félix stevens is a retired cuban sprinter who ...    male   \n",
       "2  Arthur Engelbert is a professor at the Univers...    male   \n",
       "3   Danielle Frenkel is a high jumper born in Israel  female   \n",
       "4  Ernie O'Malley served in the Irish republican ...    male   \n",
       "\n",
       "              title    persona  \n",
       "0        Max Landis   Humorous  \n",
       "1     Félix Stevens  Confident  \n",
       "2  Arthur Engelbert   Creative  \n",
       "3  Danielle Frenkel  Brilliant  \n",
       "4    Ernie O'Malley     Gentle  "
      ]
     },
     "metadata": {},
     "output_type": "display_data"
    }
   ],
   "source": [
    "train_data.head()"
   ]
  },
  {
   "cell_type": "code",
   "execution_count": null,
   "metadata": {},
   "outputs": [
    {
     "name": "stdout",
     "output_type": "stream",
     "text": [
      "<class 'pandas.core.frame.DataFrame'>\n",
      "RangeIndex: 2938 entries, 0 to 2937\n",
      "Data columns (total 4 columns):\n",
      " #   Column   Non-Null Count  Dtype \n",
      "---  ------   --------------  ----- \n",
      " 0   text     2938 non-null   object\n",
      " 1   gender   2938 non-null   object\n",
      " 2   title    2938 non-null   object\n",
      " 3   persona  2938 non-null   object\n",
      "dtypes: object(4)\n",
      "memory usage: 91.9+ KB\n"
     ]
    }
   ],
   "source": [
    "test_data.info()\n"
   ]
  },
  {
   "cell_type": "code",
   "execution_count": null,
   "metadata": {},
   "outputs": [
    {
     "name": "stdout",
     "output_type": "stream",
     "text": [
      "nrows raw unified dataset: 29819\n"
     ]
    }
   ],
   "source": [
    "#combine pre-split datasets into one then apply train test split function twice\n",
    "unified_data = train_data.append(test_data, ignore_index=True)\n",
    "unified_data = unified_data.append(val_data, ignore_index=True)\n",
    "print('nrows raw unified dataset:', len(unified_data))"
   ]
  },
  {
   "cell_type": "code",
   "execution_count": null,
   "metadata": {},
   "outputs": [
    {
     "data": {
      "text/html": [
       "<div>\n",
       "<style scoped>\n",
       "    .dataframe tbody tr th:only-of-type {\n",
       "        vertical-align: middle;\n",
       "    }\n",
       "\n",
       "    .dataframe tbody tr th {\n",
       "        vertical-align: top;\n",
       "    }\n",
       "\n",
       "    .dataframe thead th {\n",
       "        text-align: right;\n",
       "    }\n",
       "</style>\n",
       "<table border=\"1\" class=\"dataframe\">\n",
       "  <thead>\n",
       "    <tr style=\"text-align: right;\">\n",
       "      <th></th>\n",
       "      <th>text</th>\n",
       "      <th>gender</th>\n",
       "      <th>title</th>\n",
       "      <th>persona</th>\n",
       "    </tr>\n",
       "  </thead>\n",
       "  <tbody>\n",
       "    <tr>\n",
       "      <th>0</th>\n",
       "      <td>Max Landis is a comic book writer who wrote Ch...</td>\n",
       "      <td>male</td>\n",
       "      <td>Max Landis</td>\n",
       "      <td>Humorous</td>\n",
       "    </tr>\n",
       "  </tbody>\n",
       "</table>\n",
       "</div>"
      ],
      "text/plain": [
       "                                                text gender       title  \\\n",
       "0  Max Landis is a comic book writer who wrote Ch...   male  Max Landis   \n",
       "\n",
       "    persona  \n",
       "0  Humorous  "
      ]
     },
     "metadata": {},
     "output_type": "display_data"
    }
   ],
   "source": [
    "unified_data.head(1)"
   ]
  },
  {
   "cell_type": "code",
   "execution_count": null,
   "metadata": {},
   "outputs": [],
   "source": [
    "#drop all columns except text and label\n",
    "unified_data = unified_data[['text', 'gender']]"
   ]
  },
  {
   "cell_type": "code",
   "execution_count": null,
   "metadata": {},
   "outputs": [
    {
     "data": {
      "text/html": [
       "<div>\n",
       "<style scoped>\n",
       "    .dataframe tbody tr th:only-of-type {\n",
       "        vertical-align: middle;\n",
       "    }\n",
       "\n",
       "    .dataframe tbody tr th {\n",
       "        vertical-align: top;\n",
       "    }\n",
       "\n",
       "    .dataframe thead th {\n",
       "        text-align: right;\n",
       "    }\n",
       "</style>\n",
       "<table border=\"1\" class=\"dataframe\">\n",
       "  <thead>\n",
       "    <tr style=\"text-align: right;\">\n",
       "      <th></th>\n",
       "      <th>text</th>\n",
       "      <th>gender</th>\n",
       "    </tr>\n",
       "  </thead>\n",
       "  <tbody>\n",
       "    <tr>\n",
       "      <th>0</th>\n",
       "      <td>Max Landis is a comic book writer who wrote Ch...</td>\n",
       "      <td>male</td>\n",
       "    </tr>\n",
       "  </tbody>\n",
       "</table>\n",
       "</div>"
      ],
      "text/plain": [
       "                                                text gender\n",
       "0  Max Landis is a comic book writer who wrote Ch...   male"
      ]
     },
     "metadata": {},
     "output_type": "display_data"
    }
   ],
   "source": [
    "unified_data.head(1)"
   ]
  },
  {
   "cell_type": "code",
   "execution_count": null,
   "metadata": {},
   "outputs": [],
   "source": [
    "#ensure all text lowercase so can compare for duplicates\n",
    "for col in ['text', 'gender']:\n",
    "    unified_data[col] = unified_data[col].str.lower()"
   ]
  },
  {
   "cell_type": "code",
   "execution_count": null,
   "metadata": {},
   "outputs": [
    {
     "data": {
      "text/html": [
       "<div>\n",
       "<style scoped>\n",
       "    .dataframe tbody tr th:only-of-type {\n",
       "        vertical-align: middle;\n",
       "    }\n",
       "\n",
       "    .dataframe tbody tr th {\n",
       "        vertical-align: top;\n",
       "    }\n",
       "\n",
       "    .dataframe thead th {\n",
       "        text-align: right;\n",
       "    }\n",
       "</style>\n",
       "<table border=\"1\" class=\"dataframe\">\n",
       "  <thead>\n",
       "    <tr style=\"text-align: right;\">\n",
       "      <th></th>\n",
       "      <th>text</th>\n",
       "      <th>gender</th>\n",
       "    </tr>\n",
       "  </thead>\n",
       "  <tbody>\n",
       "    <tr>\n",
       "      <th>0</th>\n",
       "      <td>max landis is a comic book writer who wrote ch...</td>\n",
       "      <td>male</td>\n",
       "    </tr>\n",
       "    <tr>\n",
       "      <th>1</th>\n",
       "      <td>félix stevens is a retired cuban sprinter who ...</td>\n",
       "      <td>male</td>\n",
       "    </tr>\n",
       "    <tr>\n",
       "      <th>2</th>\n",
       "      <td>arthur engelbert is a professor at the univers...</td>\n",
       "      <td>male</td>\n",
       "    </tr>\n",
       "  </tbody>\n",
       "</table>\n",
       "</div>"
      ],
      "text/plain": [
       "                                                text gender\n",
       "0  max landis is a comic book writer who wrote ch...   male\n",
       "1  félix stevens is a retired cuban sprinter who ...   male\n",
       "2  arthur engelbert is a professor at the univers...   male"
      ]
     },
     "metadata": {},
     "output_type": "display_data"
    }
   ],
   "source": [
    "unified_data.head(3)"
   ]
  },
  {
   "cell_type": "code",
   "execution_count": null,
   "metadata": {},
   "outputs": [
    {
     "name": "stdout",
     "output_type": "stream",
     "text": [
      "Number of duplicates: 1\n",
      "Number of duplicates: 0\n"
     ]
    }
   ],
   "source": [
    "#check duplicate rows in 'text' column\n",
    "print('Number of duplicates:', len(unified_data[unified_data.duplicated(['text'])]))\n",
    "#drop duplicates\n",
    "unified_data.drop_duplicates(subset=['text'], inplace = True)\n",
    "#recheck number of duplicates\n",
    "print('Number of duplicates:', len(unified_data[unified_data.duplicated(['text'])]))"
   ]
  },
  {
   "cell_type": "code",
   "execution_count": null,
   "metadata": {},
   "outputs": [
    {
     "data": {
      "text/html": [
       "<div>\n",
       "<style scoped>\n",
       "    .dataframe tbody tr th:only-of-type {\n",
       "        vertical-align: middle;\n",
       "    }\n",
       "\n",
       "    .dataframe tbody tr th {\n",
       "        vertical-align: top;\n",
       "    }\n",
       "\n",
       "    .dataframe thead th {\n",
       "        text-align: right;\n",
       "    }\n",
       "</style>\n",
       "<table border=\"1\" class=\"dataframe\">\n",
       "  <thead>\n",
       "    <tr style=\"text-align: right;\">\n",
       "      <th></th>\n",
       "      <th>text</th>\n",
       "      <th>gender</th>\n",
       "    </tr>\n",
       "  </thead>\n",
       "  <tbody>\n",
       "    <tr>\n",
       "      <th>0</th>\n",
       "      <td>max landis is a comic book writer who wrote ch...</td>\n",
       "      <td>male</td>\n",
       "    </tr>\n",
       "    <tr>\n",
       "      <th>1</th>\n",
       "      <td>félix stevens is a retired cuban sprinter who ...</td>\n",
       "      <td>male</td>\n",
       "    </tr>\n",
       "    <tr>\n",
       "      <th>2</th>\n",
       "      <td>arthur engelbert is a professor at the univers...</td>\n",
       "      <td>male</td>\n",
       "    </tr>\n",
       "    <tr>\n",
       "      <th>3</th>\n",
       "      <td>danielle frenkel is a high jumper born in israel</td>\n",
       "      <td>female</td>\n",
       "    </tr>\n",
       "    <tr>\n",
       "      <th>4</th>\n",
       "      <td>ernie o'malley served in the irish republican ...</td>\n",
       "      <td>male</td>\n",
       "    </tr>\n",
       "  </tbody>\n",
       "</table>\n",
       "</div>"
      ],
      "text/plain": [
       "                                                text  gender\n",
       "0  max landis is a comic book writer who wrote ch...    male\n",
       "1  félix stevens is a retired cuban sprinter who ...    male\n",
       "2  arthur engelbert is a professor at the univers...    male\n",
       "3   danielle frenkel is a high jumper born in israel  female\n",
       "4  ernie o'malley served in the irish republican ...    male"
      ]
     },
     "metadata": {},
     "output_type": "display_data"
    }
   ],
   "source": [
    "unified_data.head()"
   ]
  },
  {
   "cell_type": "code",
   "execution_count": null,
   "metadata": {},
   "outputs": [
    {
     "data": {
      "text/plain": [
       "<AxesSubplot:title={'center':'UNIFIED data class counts'}>"
      ]
     },
     "metadata": {},
     "output_type": "display_data"
    },
    {
     "data": {
      "image/png": "[encoded data removed]",
      "text/plain": [
       "<Figure size 432x288 with 1 Axes>"
      ]
     },
     "metadata": {},
     "output_type": "display_data"
    }
   ],
   "source": [
    "unified_data['gender'].value_counts().plot(kind = 'bar', title = 'UNIFIED data class counts')"
   ]
  },
  {
   "cell_type": "code",
   "execution_count": null,
   "metadata": {},
   "outputs": [
    {
     "name": "stdout",
     "output_type": "stream",
     "text": [
      "            class  counts\n",
      "0            male   23938\n",
      "1          female    4457\n",
      "2  gender-neutral    1423\n"
     ]
    },
    {
     "data": {
      "application/vnd.plotly.v1+json": {
       "config": {
        "plotlyServerURL": "https://plot.ly"
       },
       "data": [
        {
         "alignmentgroup": "True",
         "hovertemplate": "class=%{x}<br>counts=%{y}<extra></extra>",
         "legendgroup": "",
         "marker": {
          "color": "#636efa",
          "pattern": {
           "shape": ""
          }
         },
         "name": "",
         "offsetgroup": "",
         "orientation": "v",
         "showlegend": false,
         "textposition": "auto",
         "type": "bar",
         "x": [
          "male",
          "female",
          "gender-neutral"
         ],
         "xaxis": "x",
         "y": [
          23938,
          4457,
          1423
         ],
         "yaxis": "y"
        }
       ],
       "layout": {
        "barmode": "relative",
        "legend": {
         "tracegroupgap": 0
        },
        "template": {
         "data": {
          "bar": [
           {
            "error_x": {
             "color": "#2a3f5f"
            },
            "error_y": {
             "color": "#2a3f5f"
            },
            "marker": {
             "line": {
              "color": "#E5ECF6",
              "width": 0.5
             },
             "pattern": {
              "fillmode": "overlay",
              "size": 10,
              "solidity": 0.2
             }
            },
            "type": "bar"
           }
          ],
          "barpolar": [
           {
            "marker": {
             "line": {
              "color": "#E5ECF6",
              "width": 0.5
             },
             "pattern": {
              "fillmode": "overlay",
              "size": 10,
              "solidity": 0.2
             }
            },
            "type": "barpolar"
           }
          ],
          "carpet": [
           {
            "aaxis": {
             "endlinecolor": "#2a3f5f",
             "gridcolor": "white",
             "linecolor": "white",
             "minorgridcolor": "white",
             "startlinecolor": "#2a3f5f"
            },
            "baxis": {
             "endlinecolor": "#2a3f5f",
             "gridcolor": "white",
             "linecolor": "white",
             "minorgridcolor": "white",
             "startlinecolor": "#2a3f5f"
            },
            "type": "carpet"
           }
          ],
          "choropleth": [
           {
            "colorbar": {
             "outlinewidth": 0,
             "ticks": ""
            },
            "type": "choropleth"
           }
          ],
          "contour": [
           {
            "colorbar": {
             "outlinewidth": 0,
             "ticks": ""
            },
            "colorscale": [
             [
              0,
              "#0d0887"
             ],
             [
              0.1111111111111111,
              "#46039f"
             ],
             [
              0.2222222222222222,
              "#7201a8"
             ],
             [
              0.3333333333333333,
              "#9c179e"
             ],
             [
              0.4444444444444444,
              "#bd3786"
             ],
             [
              0.5555555555555556,
              "#d8576b"
             ],
             [
              0.6666666666666666,
              "#ed7953"
             ],
             [
              0.7777777777777778,
              "#fb9f3a"
             ],
             [
              0.8888888888888888,
              "#fdca26"
             ],
             [
              1,
              "#f0f921"
             ]
            ],
            "type": "contour"
           }
          ],
          "contourcarpet": [
           {
            "colorbar": {
             "outlinewidth": 0,
             "ticks": ""
            },
            "type": "contourcarpet"
           }
          ],
          "heatmap": [
           {
            "colorbar": {
             "outlinewidth": 0,
             "ticks": ""
            },
            "colorscale": [
             [
              0,
              "#0d0887"
             ],
             [
              0.1111111111111111,
              "#46039f"
             ],
             [
              0.2222222222222222,
              "#7201a8"
             ],
             [
              0.3333333333333333,
              "#9c179e"
             ],
             [
              0.4444444444444444,
              "#bd3786"
             ],
             [
              0.5555555555555556,
              "#d8576b"
             ],
             [
              0.6666666666666666,
              "#ed7953"
             ],
             [
              0.7777777777777778,
              "#fb9f3a"
             ],
             [
              0.8888888888888888,
              "#fdca26"
             ],
             [
              1,
              "#f0f921"
             ]
            ],
            "type": "heatmap"
           }
          ],
          "heatmapgl": [
           {
            "colorbar": {
             "outlinewidth": 0,
             "ticks": ""
            },
            "colorscale": [
             [
              0,
              "#0d0887"
             ],
             [
              0.1111111111111111,
              "#46039f"
             ],
             [
              0.2222222222222222,
              "#7201a8"
             ],
             [
              0.3333333333333333,
              "#9c179e"
             ],
             [
              0.4444444444444444,
              "#bd3786"
             ],
             [
              0.5555555555555556,
              "#d8576b"
             ],
             [
              0.6666666666666666,
              "#ed7953"
             ],
             [
              0.7777777777777778,
              "#fb9f3a"
             ],
             [
              0.8888888888888888,
              "#fdca26"
             ],
             [
              1,
              "#f0f921"
             ]
            ],
            "type": "heatmapgl"
           }
          ],
          "histogram": [
           {
            "marker": {
             "pattern": {
              "fillmode": "overlay",
              "size": 10,
              "solidity": 0.2
             }
            },
            "type": "histogram"
           }
          ],
          "histogram2d": [
           {
            "colorbar": {
             "outlinewidth": 0,
             "ticks": ""
            },
            "colorscale": [
             [
              0,
              "#0d0887"
             ],
             [
              0.1111111111111111,
              "#46039f"
             ],
             [
              0.2222222222222222,
              "#7201a8"
             ],
             [
              0.3333333333333333,
              "#9c179e"
             ],
             [
              0.4444444444444444,
              "#bd3786"
             ],
             [
              0.5555555555555556,
              "#d8576b"
             ],
             [
              0.6666666666666666,
              "#ed7953"
             ],
             [
              0.7777777777777778,
              "#fb9f3a"
             ],
             [
              0.8888888888888888,
              "#fdca26"
             ],
             [
              1,
              "#f0f921"
             ]
            ],
            "type": "histogram2d"
           }
          ],
          "histogram2dcontour": [
           {
            "colorbar": {
             "outlinewidth": 0,
             "ticks": ""
            },
            "colorscale": [
             [
              0,
              "#0d0887"
             ],
             [
              0.1111111111111111,
              "#46039f"
             ],
             [
              0.2222222222222222,
              "#7201a8"
             ],
             [
              0.3333333333333333,
              "#9c179e"
             ],
             [
              0.4444444444444444,
              "#bd3786"
             ],
             [
              0.5555555555555556,
              "#d8576b"
             ],
             [
              0.6666666666666666,
              "#ed7953"
             ],
             [
              0.7777777777777778,
              "#fb9f3a"
             ],
             [
              0.8888888888888888,
              "#fdca26"
             ],
             [
              1,
              "#f0f921"
             ]
            ],
            "type": "histogram2dcontour"
           }
          ],
          "mesh3d": [
           {
            "colorbar": {
             "outlinewidth": 0,
             "ticks": ""
            },
            "type": "mesh3d"
           }
          ],
          "parcoords": [
           {
            "line": {
             "colorbar": {
              "outlinewidth": 0,
              "ticks": ""
             }
            },
            "type": "parcoords"
           }
          ],
          "pie": [
           {
            "automargin": true,
            "type": "pie"
           }
          ],
          "scatter": [
           {
            "fillpattern": {
             "fillmode": "overlay",
             "size": 10,
             "solidity": 0.2
            },
            "type": "scatter"
           }
          ],
          "scatter3d": [
           {
            "line": {
             "colorbar": {
              "outlinewidth": 0,
              "ticks": ""
             }
            },
            "marker": {
             "colorbar": {
              "outlinewidth": 0,
              "ticks": ""
             }
            },
            "type": "scatter3d"
           }
          ],
          "scattercarpet": [
           {
            "marker": {
             "colorbar": {
              "outlinewidth": 0,
              "ticks": ""
             }
            },
            "type": "scattercarpet"
           }
          ],
          "scattergeo": [
           {
            "marker": {
             "colorbar": {
              "outlinewidth": 0,
              "ticks": ""
             }
            },
            "type": "scattergeo"
           }
          ],
          "scattergl": [
           {
            "marker": {
             "colorbar": {
              "outlinewidth": 0,
              "ticks": ""
             }
            },
            "type": "scattergl"
           }
          ],
          "scattermapbox": [
           {
            "marker": {
             "colorbar": {
              "outlinewidth": 0,
              "ticks": ""
             }
            },
            "type": "scattermapbox"
           }
          ],
          "scatterpolar": [
           {
            "marker": {
             "colorbar": {
              "outlinewidth": 0,
              "ticks": ""
             }
            },
            "type": "scatterpolar"
           }
          ],
          "scatterpolargl": [
           {
            "marker": {
             "colorbar": {
              "outlinewidth": 0,
              "ticks": ""
             }
            },
            "type": "scatterpolargl"
           }
          ],
          "scatterternary": [
           {
            "marker": {
             "colorbar": {
              "outlinewidth": 0,
              "ticks": ""
             }
            },
            "type": "scatterternary"
           }
          ],
          "surface": [
           {
            "colorbar": {
             "outlinewidth": 0,
             "ticks": ""
            },
            "colorscale": [
             [
              0,
              "#0d0887"
             ],
             [
              0.1111111111111111,
              "#46039f"
             ],
             [
              0.2222222222222222,
              "#7201a8"
             ],
             [
              0.3333333333333333,
              "#9c179e"
             ],
             [
              0.4444444444444444,
              "#bd3786"
             ],
             [
              0.5555555555555556,
              "#d8576b"
             ],
             [
              0.6666666666666666,
              "#ed7953"
             ],
             [
              0.7777777777777778,
              "#fb9f3a"
             ],
             [
              0.8888888888888888,
              "#fdca26"
             ],
             [
              1,
              "#f0f921"
             ]
            ],
            "type": "surface"
           }
          ],
          "table": [
           {
            "cells": {
             "fill": {
              "color": "#EBF0F8"
             },
             "line": {
              "color": "white"
             }
            },
            "header": {
             "fill": {
              "color": "#C8D4E3"
             },
             "line": {
              "color": "white"
             }
            },
            "type": "table"
           }
          ]
         },
         "layout": {
          "annotationdefaults": {
           "arrowcolor": "#2a3f5f",
           "arrowhead": 0,
           "arrowwidth": 1
          },
          "autotypenumbers": "strict",
          "coloraxis": {
           "colorbar": {
            "outlinewidth": 0,
            "ticks": ""
           }
          },
          "colorscale": {
           "diverging": [
            [
             0,
             "#8e0152"
            ],
            [
             0.1,
             "#c51b7d"
            ],
            [
             0.2,
             "#de77ae"
            ],
            [
             0.3,
             "#f1b6da"
            ],
            [
             0.4,
             "#fde0ef"
            ],
            [
             0.5,
             "#f7f7f7"
            ],
            [
             0.6,
             "#e6f5d0"
            ],
            [
             0.7,
             "#b8e186"
            ],
            [
             0.8,
             "#7fbc41"
            ],
            [
             0.9,
             "#4d9221"
            ],
            [
             1,
             "#276419"
            ]
           ],
           "sequential": [
            [
             0,
             "#0d0887"
            ],
            [
             0.1111111111111111,
             "#46039f"
            ],
            [
             0.2222222222222222,
             "#7201a8"
            ],
            [
             0.3333333333333333,
             "#9c179e"
            ],
            [
             0.4444444444444444,
             "#bd3786"
            ],
            [
             0.5555555555555556,
             "#d8576b"
            ],
            [
             0.6666666666666666,
             "#ed7953"
            ],
            [
             0.7777777777777778,
             "#fb9f3a"
            ],
            [
             0.8888888888888888,
             "#fdca26"
            ],
            [
             1,
             "#f0f921"
            ]
           ],
           "sequentialminus": [
            [
             0,
             "#0d0887"
            ],
            [
             0.1111111111111111,
             "#46039f"
            ],
            [
             0.2222222222222222,
             "#7201a8"
            ],
            [
             0.3333333333333333,
             "#9c179e"
            ],
            [
             0.4444444444444444,
             "#bd3786"
            ],
            [
             0.5555555555555556,
             "#d8576b"
            ],
            [
             0.6666666666666666,
             "#ed7953"
            ],
            [
             0.7777777777777778,
             "#fb9f3a"
            ],
            [
             0.8888888888888888,
             "#fdca26"
            ],
            [
             1,
             "#f0f921"
            ]
           ]
          },
          "colorway": [
           "#636efa",
           "#EF553B",
           "#00cc96",
           "#ab63fa",
           "#FFA15A",
           "#19d3f3",
           "#FF6692",
           "#B6E880",
           "#FF97FF",
           "#FECB52"
          ],
          "font": {
           "color": "#2a3f5f"
          },
          "geo": {
           "bgcolor": "white",
           "lakecolor": "white",
           "landcolor": "#E5ECF6",
           "showlakes": true,
           "showland": true,
           "subunitcolor": "white"
          },
          "hoverlabel": {
           "align": "left"
          },
          "hovermode": "closest",
          "mapbox": {
           "style": "light"
          },
          "paper_bgcolor": "white",
          "plot_bgcolor": "#E5ECF6",
          "polar": {
           "angularaxis": {
            "gridcolor": "white",
            "linecolor": "white",
            "ticks": ""
           },
           "bgcolor": "#E5ECF6",
           "radialaxis": {
            "gridcolor": "white",
            "linecolor": "white",
            "ticks": ""
           }
          },
          "scene": {
           "xaxis": {
            "backgroundcolor": "#E5ECF6",
            "gridcolor": "white",
            "gridwidth": 2,
            "linecolor": "white",
            "showbackground": true,
            "ticks": "",
            "zerolinecolor": "white"
           },
           "yaxis": {
            "backgroundcolor": "#E5ECF6",
            "gridcolor": "white",
            "gridwidth": 2,
            "linecolor": "white",
            "showbackground": true,
            "ticks": "",
            "zerolinecolor": "white"
           },
           "zaxis": {
            "backgroundcolor": "#E5ECF6",
            "gridcolor": "white",
            "gridwidth": 2,
            "linecolor": "white",
            "showbackground": true,
            "ticks": "",
            "zerolinecolor": "white"
           }
          },
          "shapedefaults": {
           "line": {
            "color": "#2a3f5f"
           }
          },
          "ternary": {
           "aaxis": {
            "gridcolor": "white",
            "linecolor": "white",
            "ticks": ""
           },
           "baxis": {
            "gridcolor": "white",
            "linecolor": "white",
            "ticks": ""
           },
           "bgcolor": "#E5ECF6",
           "caxis": {
            "gridcolor": "white",
            "linecolor": "white",
            "ticks": ""
           }
          },
          "title": {
           "x": 0.05
          },
          "xaxis": {
           "automargin": true,
           "gridcolor": "white",
           "linecolor": "white",
           "ticks": "",
           "title": {
            "standoff": 15
           },
           "zerolinecolor": "white",
           "zerolinewidth": 2
          },
          "yaxis": {
           "automargin": true,
           "gridcolor": "white",
           "linecolor": "white",
           "ticks": "",
           "title": {
            "standoff": 15
           },
           "zerolinecolor": "white",
           "zerolinewidth": 2
          }
         }
        },
        "title": {
         "text": "UNIFIED data class counts"
        },
        "xaxis": {
         "anchor": "y",
         "domain": [
          0,
          1
         ],
         "title": {
          "text": "class"
         }
        },
        "yaxis": {
         "anchor": "x",
         "domain": [
          0,
          1
         ],
         "title": {
          "text": "counts"
         }
        }
       }
      }
     },
     "metadata": {},
     "output_type": "display_data"
    }
   ],
   "source": [
    "class_counts_df = pd.DataFrame(unified_data['gender'].value_counts())\n",
    "class_counts_df.reset_index(inplace = True)\n",
    "class_counts_df.columns = ['class', 'counts']\n",
    "print(class_counts_df.head())\n",
    "\n",
    "fig = px.bar(class_counts_df, x = 'class', y = 'counts', title = 'UNIFIED data class counts')\n",
    "fig.show()"
   ]
  },
  {
   "cell_type": "markdown",
   "metadata": {},
   "source": [
    "to do:\n",
    "- drop 'gender-neutral'\n",
    "- fix considerable class imbalance between 'male' and 'female' by downsampling 'male' class\n",
    "- check NAs"
   ]
  },
  {
   "cell_type": "code",
   "execution_count": null,
   "metadata": {},
   "outputs": [
    {
     "data": {
      "text/plain": [
       "class     0\n",
       "counts    0\n",
       "dtype: int64"
      ]
     },
     "metadata": {},
     "output_type": "display_data"
    }
   ],
   "source": [
    "#check NAs\n",
    "class_counts_df.isna().sum()"
   ]
  },
  {
   "cell_type": "code",
   "execution_count": null,
   "metadata": {},
   "outputs": [
    {
     "data": {
      "text/plain": [
       "text      0\n",
       "gender    0\n",
       "dtype: int64"
      ]
     },
     "metadata": {},
     "output_type": "display_data"
    }
   ],
   "source": [
    "#check NAs\n",
    "unified_data.isnull().sum()"
   ]
  },
  {
   "cell_type": "code",
   "execution_count": null,
   "metadata": {},
   "outputs": [],
   "source": [
    "#drop NAs\n",
    "unified_data.dropna(inplace = True)"
   ]
  },
  {
   "cell_type": "code",
   "execution_count": null,
   "metadata": {},
   "outputs": [],
   "source": [
    "#drop 'gender-neutral' class?\n",
    "unified_data = unified_data[unified_data['gender'] != 'gender-neutral']"
   ]
  },
  {
   "cell_type": "code",
   "execution_count": null,
   "metadata": {},
   "outputs": [
    {
     "data": {
      "text/plain": [
       "male      23938\n",
       "female     4457\n",
       "Name: gender, dtype: int64"
      ]
     },
     "metadata": {},
     "output_type": "display_data"
    }
   ],
   "source": [
    "unified_data['gender'].value_counts()"
   ]
  },
  {
   "cell_type": "code",
   "execution_count": null,
   "metadata": {},
   "outputs": [
    {
     "data": {
      "text/plain": [
       "<AxesSubplot:title={'center':'UNIFIED data class counts'}>"
      ]
     },
     "metadata": {},
     "output_type": "display_data"
    },
    {
     "data": {
      "image/png": "[encoded data removed]",
      "text/plain": [
       "<Figure size 432x288 with 1 Axes>"
      ]
     },
     "metadata": {},
     "output_type": "display_data"
    }
   ],
   "source": [
    "unified_data['gender'].value_counts().plot(kind = 'bar', title = 'UNIFIED data class counts')"
   ]
  },
  {
   "cell_type": "code",
   "execution_count": null,
   "metadata": {},
   "outputs": [
    {
     "name": "stdout",
     "output_type": "stream",
     "text": [
      "'male' class is  5.37 times larger than 'female' class\n"
     ]
    }
   ],
   "source": [
    "#check class imbalance\n",
    "print('\\'male\\' class is ', round(len(unified_data[unified_data['gender'] == 'male'])/len(unified_data[unified_data['gender'] == 'female']), 2), 'times larger than \\'female\\' class')"
   ]
  },
  {
   "cell_type": "code",
   "execution_count": null,
   "metadata": {},
   "outputs": [
    {
     "data": {
      "text/plain": [
       "(28395,)"
      ]
     },
     "metadata": {},
     "output_type": "display_data"
    }
   ],
   "source": [
    "unified_data['text'].shape"
   ]
  },
  {
   "cell_type": "code",
   "execution_count": null,
   "metadata": {},
   "outputs": [
    {
     "data": {
      "text/html": [
       "<div>\n",
       "<style scoped>\n",
       "    .dataframe tbody tr th:only-of-type {\n",
       "        vertical-align: middle;\n",
       "    }\n",
       "\n",
       "    .dataframe tbody tr th {\n",
       "        vertical-align: top;\n",
       "    }\n",
       "\n",
       "    .dataframe thead th {\n",
       "        text-align: right;\n",
       "    }\n",
       "</style>\n",
       "<table border=\"1\" class=\"dataframe\">\n",
       "  <thead>\n",
       "    <tr style=\"text-align: right;\">\n",
       "      <th></th>\n",
       "      <th>text</th>\n",
       "      <th>gender</th>\n",
       "    </tr>\n",
       "  </thead>\n",
       "  <tbody>\n",
       "    <tr>\n",
       "      <th>3</th>\n",
       "      <td>danielle frenkel is a high jumper born in israel</td>\n",
       "      <td>female</td>\n",
       "    </tr>\n",
       "    <tr>\n",
       "      <th>12</th>\n",
       "      <td>tania mihailuk is a politician who was born in...</td>\n",
       "      <td>female</td>\n",
       "    </tr>\n",
       "    <tr>\n",
       "      <th>13</th>\n",
       "      <td>juliet taylor is a woman who works as a castin...</td>\n",
       "      <td>female</td>\n",
       "    </tr>\n",
       "    <tr>\n",
       "      <th>14</th>\n",
       "      <td>margaret caroline rudd was born in britain. sh...</td>\n",
       "      <td>female</td>\n",
       "    </tr>\n",
       "    <tr>\n",
       "      <th>15</th>\n",
       "      <td>retta scott was an american artist who died in...</td>\n",
       "      <td>female</td>\n",
       "    </tr>\n",
       "    <tr>\n",
       "      <th>16</th>\n",
       "      <td>cicely mary barker was a fantasy illustrator w...</td>\n",
       "      <td>female</td>\n",
       "    </tr>\n",
       "    <tr>\n",
       "      <th>20</th>\n",
       "      <td>che zahara worked as a malay activist and foug...</td>\n",
       "      <td>female</td>\n",
       "    </tr>\n",
       "    <tr>\n",
       "      <th>21</th>\n",
       "      <td>i feel gratitude towards evelyn dunbar, she he...</td>\n",
       "      <td>female</td>\n",
       "    </tr>\n",
       "    <tr>\n",
       "      <th>24</th>\n",
       "      <td>geraldine kattnig was born on february 4, 1930...</td>\n",
       "      <td>female</td>\n",
       "    </tr>\n",
       "    <tr>\n",
       "      <th>28</th>\n",
       "      <td>amy thomson is a hard science fiction writing ...</td>\n",
       "      <td>female</td>\n",
       "    </tr>\n",
       "  </tbody>\n",
       "</table>\n",
       "</div>"
      ],
      "text/plain": [
       "                                                 text  gender\n",
       "3    danielle frenkel is a high jumper born in israel  female\n",
       "12  tania mihailuk is a politician who was born in...  female\n",
       "13  juliet taylor is a woman who works as a castin...  female\n",
       "14  margaret caroline rudd was born in britain. sh...  female\n",
       "15  retta scott was an american artist who died in...  female\n",
       "16  cicely mary barker was a fantasy illustrator w...  female\n",
       "20  che zahara worked as a malay activist and foug...  female\n",
       "21  i feel gratitude towards evelyn dunbar, she he...  female\n",
       "24  geraldine kattnig was born on february 4, 1930...  female\n",
       "28  amy thomson is a hard science fiction writing ...  female"
      ]
     },
     "metadata": {},
     "output_type": "display_data"
    }
   ],
   "source": [
    "unified_data[unified_data['gender'] == 'female'].head(10)"
   ]
  },
  {
   "cell_type": "code",
   "execution_count": null,
   "metadata": {},
   "outputs": [],
   "source": [
    "#downsample 'male' to fix class imbalance\n",
    "from imblearn.under_sampling import RandomUnderSampler\n",
    "undersample = RandomUnderSampler(sampling_strategy='majority', random_state= 0)\n",
    "X = np.array(unified_data['text']).reshape(-1, 1)\n",
    "y = np.array(unified_data['gender']).reshape(-1, 1)\n",
    "X_undersample, y_undersample = undersample.fit_resample(X, y)"
   ]
  },
  {
   "cell_type": "code",
   "execution_count": null,
   "metadata": {},
   "outputs": [],
   "source": [
    "#flatten to 1D array in order to reocmbine into a new undersampled 'unified_data' dataframe\n",
    "X_undersample = X_undersample.flatten()\n",
    "y_undersample = y_undersample.flatten()"
   ]
  },
  {
   "cell_type": "code",
   "execution_count": null,
   "metadata": {},
   "outputs": [
    {
     "name": "stdout",
     "output_type": "stream",
     "text": [
      "(8914,)\n",
      "(8914,)\n"
     ]
    }
   ],
   "source": [
    "print(X_undersample.shape)\n",
    "print(y_undersample.shape)"
   ]
  },
  {
   "cell_type": "code",
   "execution_count": null,
   "metadata": {},
   "outputs": [],
   "source": [
    "unified_data = pd.DataFrame({'text': X_undersample, 'gender': list(y_undersample)}, columns=['text', 'gender'])"
   ]
  },
  {
   "cell_type": "code",
   "execution_count": null,
   "metadata": {},
   "outputs": [
    {
     "data": {
      "text/html": [
       "<div>\n",
       "<style scoped>\n",
       "    .dataframe tbody tr th:only-of-type {\n",
       "        vertical-align: middle;\n",
       "    }\n",
       "\n",
       "    .dataframe tbody tr th {\n",
       "        vertical-align: top;\n",
       "    }\n",
       "\n",
       "    .dataframe thead th {\n",
       "        text-align: right;\n",
       "    }\n",
       "</style>\n",
       "<table border=\"1\" class=\"dataframe\">\n",
       "  <thead>\n",
       "    <tr style=\"text-align: right;\">\n",
       "      <th></th>\n",
       "      <th>text</th>\n",
       "      <th>gender</th>\n",
       "    </tr>\n",
       "  </thead>\n",
       "  <tbody>\n",
       "    <tr>\n",
       "      <th>0</th>\n",
       "      <td>danielle frenkel is a high jumper born in israel</td>\n",
       "      <td>female</td>\n",
       "    </tr>\n",
       "    <tr>\n",
       "      <th>1</th>\n",
       "      <td>tania mihailuk is a politician who was born in...</td>\n",
       "      <td>female</td>\n",
       "    </tr>\n",
       "    <tr>\n",
       "      <th>2</th>\n",
       "      <td>juliet taylor is a woman who works as a castin...</td>\n",
       "      <td>female</td>\n",
       "    </tr>\n",
       "    <tr>\n",
       "      <th>3</th>\n",
       "      <td>margaret caroline rudd was born in britain. sh...</td>\n",
       "      <td>female</td>\n",
       "    </tr>\n",
       "    <tr>\n",
       "      <th>4</th>\n",
       "      <td>retta scott was an american artist who died in...</td>\n",
       "      <td>female</td>\n",
       "    </tr>\n",
       "    <tr>\n",
       "      <th>5</th>\n",
       "      <td>cicely mary barker was a fantasy illustrator w...</td>\n",
       "      <td>female</td>\n",
       "    </tr>\n",
       "    <tr>\n",
       "      <th>6</th>\n",
       "      <td>che zahara worked as a malay activist and foug...</td>\n",
       "      <td>female</td>\n",
       "    </tr>\n",
       "    <tr>\n",
       "      <th>7</th>\n",
       "      <td>i feel gratitude towards evelyn dunbar, she he...</td>\n",
       "      <td>female</td>\n",
       "    </tr>\n",
       "    <tr>\n",
       "      <th>8</th>\n",
       "      <td>geraldine kattnig was born on february 4, 1930...</td>\n",
       "      <td>female</td>\n",
       "    </tr>\n",
       "    <tr>\n",
       "      <th>9</th>\n",
       "      <td>amy thomson is a hard science fiction writing ...</td>\n",
       "      <td>female</td>\n",
       "    </tr>\n",
       "  </tbody>\n",
       "</table>\n",
       "</div>"
      ],
      "text/plain": [
       "                                                text  gender\n",
       "0   danielle frenkel is a high jumper born in israel  female\n",
       "1  tania mihailuk is a politician who was born in...  female\n",
       "2  juliet taylor is a woman who works as a castin...  female\n",
       "3  margaret caroline rudd was born in britain. sh...  female\n",
       "4  retta scott was an american artist who died in...  female\n",
       "5  cicely mary barker was a fantasy illustrator w...  female\n",
       "6  che zahara worked as a malay activist and foug...  female\n",
       "7  i feel gratitude towards evelyn dunbar, she he...  female\n",
       "8  geraldine kattnig was born on february 4, 1930...  female\n",
       "9  amy thomson is a hard science fiction writing ...  female"
      ]
     },
     "metadata": {},
     "output_type": "display_data"
    }
   ],
   "source": [
    "unified_data.head(10)"
   ]
  },
  {
   "cell_type": "code",
   "execution_count": null,
   "metadata": {},
   "outputs": [
    {
     "name": "stdout",
     "output_type": "stream",
     "text": [
      "'male' class is  1.0 times larger than 'female' class\n"
     ]
    }
   ],
   "source": [
    "#check class imbalance\n",
    "print('\\'male\\' class is ', round(len(unified_data[unified_data['gender'] == 'male'])/len(unified_data[unified_data['gender'] == 'female']), 2), 'times larger than \\'female\\' class')"
   ]
  },
  {
   "cell_type": "code",
   "execution_count": null,
   "metadata": {},
   "outputs": [
    {
     "data": {
      "text/plain": [
       "<AxesSubplot:title={'center':'UNIFIED data class counts'}>"
      ]
     },
     "metadata": {},
     "output_type": "display_data"
    },
    {
     "data": {
      "image/png": "[encoded data removed]",
      "text/plain": [
       "<Figure size 432x288 with 1 Axes>"
      ]
     },
     "metadata": {},
     "output_type": "display_data"
    }
   ],
   "source": [
    "#check successful downsampling (undersampling)\n",
    "unified_data['gender'].value_counts().plot(kind = 'bar', title = 'UNIFIED data class counts')"
   ]
  },
  {
   "cell_type": "code",
   "execution_count": null,
   "metadata": {},
   "outputs": [
    {
     "data": {
      "text/plain": [
       "'danielle frenkel is a high jumper born in israel'"
      ]
     },
     "metadata": {},
     "output_type": "display_data"
    }
   ],
   "source": [
    "unified_data['text'][0]"
   ]
  },
  {
   "cell_type": "code",
   "execution_count": null,
   "metadata": {},
   "outputs": [
    {
     "data": {
      "text/html": [
       "<div>\n",
       "<style scoped>\n",
       "    .dataframe tbody tr th:only-of-type {\n",
       "        vertical-align: middle;\n",
       "    }\n",
       "\n",
       "    .dataframe tbody tr th {\n",
       "        vertical-align: top;\n",
       "    }\n",
       "\n",
       "    .dataframe thead th {\n",
       "        text-align: right;\n",
       "    }\n",
       "</style>\n",
       "<table border=\"1\" class=\"dataframe\">\n",
       "  <thead>\n",
       "    <tr style=\"text-align: right;\">\n",
       "      <th></th>\n",
       "      <th>text</th>\n",
       "      <th>gender</th>\n",
       "      <th>len_text</th>\n",
       "    </tr>\n",
       "  </thead>\n",
       "  <tbody>\n",
       "    <tr>\n",
       "      <th>0</th>\n",
       "      <td>danielle frenkel is a high jumper born in israel</td>\n",
       "      <td>female</td>\n",
       "      <td>0</td>\n",
       "    </tr>\n",
       "    <tr>\n",
       "      <th>1</th>\n",
       "      <td>tania mihailuk is a politician who was born in...</td>\n",
       "      <td>female</td>\n",
       "      <td>0</td>\n",
       "    </tr>\n",
       "    <tr>\n",
       "      <th>2</th>\n",
       "      <td>juliet taylor is a woman who works as a castin...</td>\n",
       "      <td>female</td>\n",
       "      <td>0</td>\n",
       "    </tr>\n",
       "    <tr>\n",
       "      <th>3</th>\n",
       "      <td>margaret caroline rudd was born in britain. sh...</td>\n",
       "      <td>female</td>\n",
       "      <td>0</td>\n",
       "    </tr>\n",
       "    <tr>\n",
       "      <th>4</th>\n",
       "      <td>retta scott was an american artist who died in...</td>\n",
       "      <td>female</td>\n",
       "      <td>0</td>\n",
       "    </tr>\n",
       "  </tbody>\n",
       "</table>\n",
       "</div>"
      ],
      "text/plain": [
       "                                                text  gender  len_text\n",
       "0   danielle frenkel is a high jumper born in israel  female         0\n",
       "1  tania mihailuk is a politician who was born in...  female         0\n",
       "2  juliet taylor is a woman who works as a castin...  female         0\n",
       "3  margaret caroline rudd was born in britain. sh...  female         0\n",
       "4  retta scott was an american artist who died in...  female         0"
      ]
     },
     "metadata": {},
     "output_type": "display_data"
    }
   ],
   "source": [
    "unified_data['len_text'] = 0\n",
    "\n",
    "unified_data.head()"
   ]
  },
  {
   "cell_type": "code",
   "execution_count": null,
   "metadata": {},
   "outputs": [
    {
     "data": {
      "text/plain": [
       "8914"
      ]
     },
     "metadata": {},
     "output_type": "display_data"
    }
   ],
   "source": [
    "len(unified_data)"
   ]
  },
  {
   "cell_type": "code",
   "execution_count": null,
   "metadata": {},
   "outputs": [],
   "source": [
    "#inefficient loop takes too long\n",
    "#for row in range(0, len(unified_data)):\n",
    "    #unified_data['len_text'][row] = len(unified_data['text'][row])\n",
    "    \n",
    "unified_data['len_text'] = unified_data['text'].str.len()"
   ]
  },
  {
   "cell_type": "code",
   "execution_count": null,
   "metadata": {},
   "outputs": [
    {
     "data": {
      "text/plain": [
       "0    48\n",
       "1    56\n",
       "2    56\n",
       "3    78\n",
       "4    51\n",
       "Name: len_text, dtype: int64"
      ]
     },
     "metadata": {},
     "output_type": "display_data"
    }
   ],
   "source": [
    "unified_data['len_text'].head()"
   ]
  },
  {
   "cell_type": "code",
   "execution_count": null,
   "metadata": {},
   "outputs": [
    {
     "data": {
      "text/html": [
       "<div>\n",
       "<style scoped>\n",
       "    .dataframe tbody tr th:only-of-type {\n",
       "        vertical-align: middle;\n",
       "    }\n",
       "\n",
       "    .dataframe tbody tr th {\n",
       "        vertical-align: top;\n",
       "    }\n",
       "\n",
       "    .dataframe thead th {\n",
       "        text-align: right;\n",
       "    }\n",
       "</style>\n",
       "<table border=\"1\" class=\"dataframe\">\n",
       "  <thead>\n",
       "    <tr style=\"text-align: right;\">\n",
       "      <th></th>\n",
       "      <th>text</th>\n",
       "      <th>gender</th>\n",
       "      <th>len_text</th>\n",
       "    </tr>\n",
       "  </thead>\n",
       "  <tbody>\n",
       "    <tr>\n",
       "      <th>0</th>\n",
       "      <td>danielle frenkel is a high jumper born in israel</td>\n",
       "      <td>female</td>\n",
       "      <td>48</td>\n",
       "    </tr>\n",
       "    <tr>\n",
       "      <th>1</th>\n",
       "      <td>tania mihailuk is a politician who was born in...</td>\n",
       "      <td>female</td>\n",
       "      <td>56</td>\n",
       "    </tr>\n",
       "    <tr>\n",
       "      <th>2</th>\n",
       "      <td>juliet taylor is a woman who works as a castin...</td>\n",
       "      <td>female</td>\n",
       "      <td>56</td>\n",
       "    </tr>\n",
       "  </tbody>\n",
       "</table>\n",
       "</div>"
      ],
      "text/plain": [
       "                                                text  gender  len_text\n",
       "0   danielle frenkel is a high jumper born in israel  female        48\n",
       "1  tania mihailuk is a politician who was born in...  female        56\n",
       "2  juliet taylor is a woman who works as a castin...  female        56"
      ]
     },
     "metadata": {},
     "output_type": "display_data"
    }
   ],
   "source": [
    "unified_data.head(3)"
   ]
  },
  {
   "cell_type": "code",
   "execution_count": null,
   "metadata": {},
   "outputs": [
    {
     "data": {
      "text/html": [
       "<div>\n",
       "<style scoped>\n",
       "    .dataframe tbody tr th:only-of-type {\n",
       "        vertical-align: middle;\n",
       "    }\n",
       "\n",
       "    .dataframe tbody tr th {\n",
       "        vertical-align: top;\n",
       "    }\n",
       "\n",
       "    .dataframe thead th {\n",
       "        text-align: right;\n",
       "    }\n",
       "</style>\n",
       "<table border=\"1\" class=\"dataframe\">\n",
       "  <thead>\n",
       "    <tr style=\"text-align: right;\">\n",
       "      <th></th>\n",
       "      <th>text</th>\n",
       "      <th>gender</th>\n",
       "      <th>len_text</th>\n",
       "    </tr>\n",
       "  </thead>\n",
       "  <tbody>\n",
       "    <tr>\n",
       "      <th>8911</th>\n",
       "      <td>john born in the great city of quebec and beca...</td>\n",
       "      <td>male</td>\n",
       "      <td>70</td>\n",
       "    </tr>\n",
       "    <tr>\n",
       "      <th>8912</th>\n",
       "      <td>spending the longest time in prison, li wangya...</td>\n",
       "      <td>male</td>\n",
       "      <td>98</td>\n",
       "    </tr>\n",
       "    <tr>\n",
       "      <th>8913</th>\n",
       "      <td>thank you so much for letting me meet the trac...</td>\n",
       "      <td>male</td>\n",
       "      <td>66</td>\n",
       "    </tr>\n",
       "  </tbody>\n",
       "</table>\n",
       "</div>"
      ],
      "text/plain": [
       "                                                   text gender  len_text\n",
       "8911  john born in the great city of quebec and beca...   male        70\n",
       "8912  spending the longest time in prison, li wangya...   male        98\n",
       "8913  thank you so much for letting me meet the trac...   male        66"
      ]
     },
     "metadata": {},
     "output_type": "display_data"
    }
   ],
   "source": [
    "unified_data.tail(3)"
   ]
  },
  {
   "cell_type": "code",
   "execution_count": null,
   "metadata": {},
   "outputs": [
    {
     "data": {
      "text/html": [
       "<div>\n",
       "<style scoped>\n",
       "    .dataframe tbody tr th:only-of-type {\n",
       "        vertical-align: middle;\n",
       "    }\n",
       "\n",
       "    .dataframe tbody tr th {\n",
       "        vertical-align: top;\n",
       "    }\n",
       "\n",
       "    .dataframe thead th {\n",
       "        text-align: right;\n",
       "    }\n",
       "</style>\n",
       "<table border=\"1\" class=\"dataframe\">\n",
       "  <thead>\n",
       "    <tr style=\"text-align: right;\">\n",
       "      <th></th>\n",
       "      <th>text</th>\n",
       "      <th>gender</th>\n",
       "      <th>len_text</th>\n",
       "    </tr>\n",
       "  </thead>\n",
       "  <tbody>\n",
       "    <tr>\n",
       "      <th>0</th>\n",
       "      <td>danielle frenkel is a high jumper born in israel</td>\n",
       "      <td>female</td>\n",
       "      <td>48</td>\n",
       "    </tr>\n",
       "    <tr>\n",
       "      <th>1</th>\n",
       "      <td>tania mihailuk is a politician who was born in...</td>\n",
       "      <td>female</td>\n",
       "      <td>56</td>\n",
       "    </tr>\n",
       "    <tr>\n",
       "      <th>2</th>\n",
       "      <td>juliet taylor is a woman who works as a castin...</td>\n",
       "      <td>female</td>\n",
       "      <td>56</td>\n",
       "    </tr>\n",
       "    <tr>\n",
       "      <th>3</th>\n",
       "      <td>margaret caroline rudd was born in britain. sh...</td>\n",
       "      <td>female</td>\n",
       "      <td>78</td>\n",
       "    </tr>\n",
       "    <tr>\n",
       "      <th>4</th>\n",
       "      <td>retta scott was an american artist who died in...</td>\n",
       "      <td>female</td>\n",
       "      <td>51</td>\n",
       "    </tr>\n",
       "    <tr>\n",
       "      <th>...</th>\n",
       "      <td>...</td>\n",
       "      <td>...</td>\n",
       "      <td>...</td>\n",
       "    </tr>\n",
       "    <tr>\n",
       "      <th>195</th>\n",
       "      <td>steliana nistor was a key member of the romani...</td>\n",
       "      <td>female</td>\n",
       "      <td>108</td>\n",
       "    </tr>\n",
       "    <tr>\n",
       "      <th>196</th>\n",
       "      <td>it's so interesting to read about tziporah hel...</td>\n",
       "      <td>female</td>\n",
       "      <td>113</td>\n",
       "    </tr>\n",
       "    <tr>\n",
       "      <th>197</th>\n",
       "      <td>i am very involved in the cycling world, and l...</td>\n",
       "      <td>female</td>\n",
       "      <td>92</td>\n",
       "    </tr>\n",
       "    <tr>\n",
       "      <th>198</th>\n",
       "      <td>gina wilson was born in australia.</td>\n",
       "      <td>female</td>\n",
       "      <td>34</td>\n",
       "    </tr>\n",
       "    <tr>\n",
       "      <th>199</th>\n",
       "      <td>nothing brightens my day like watching serra y...</td>\n",
       "      <td>female</td>\n",
       "      <td>96</td>\n",
       "    </tr>\n",
       "  </tbody>\n",
       "</table>\n",
       "<p>200 rows × 3 columns</p>\n",
       "</div>"
      ],
      "text/plain": [
       "                                                  text  gender  len_text\n",
       "0     danielle frenkel is a high jumper born in israel  female        48\n",
       "1    tania mihailuk is a politician who was born in...  female        56\n",
       "2    juliet taylor is a woman who works as a castin...  female        56\n",
       "3    margaret caroline rudd was born in britain. sh...  female        78\n",
       "4    retta scott was an american artist who died in...  female        51\n",
       "..                                                 ...     ...       ...\n",
       "195  steliana nistor was a key member of the romani...  female       108\n",
       "196  it's so interesting to read about tziporah hel...  female       113\n",
       "197  i am very involved in the cycling world, and l...  female        92\n",
       "198                 gina wilson was born in australia.  female        34\n",
       "199  nothing brightens my day like watching serra y...  female        96\n",
       "\n",
       "[200 rows x 3 columns]"
      ]
     },
     "metadata": {},
     "output_type": "display_data"
    }
   ],
   "source": [
    "unified_data.head(200)"
   ]
  },
  {
   "cell_type": "code",
   "execution_count": null,
   "metadata": {},
   "outputs": [
    {
     "data": {
      "text/plain": [
       "81     139\n",
       "86     135\n",
       "84     133\n",
       "78     132\n",
       "91     131\n",
       "      ... \n",
       "162      1\n",
       "17       1\n",
       "13       1\n",
       "174      1\n",
       "177      1\n",
       "Name: len_text, Length: 161, dtype: int64"
      ]
     },
     "metadata": {},
     "output_type": "display_data"
    }
   ],
   "source": [
    "unified_data['len_text'].value_counts()"
   ]
  },
  {
   "cell_type": "code",
   "execution_count": null,
   "metadata": {},
   "outputs": [
    {
     "data": {
      "image/png": "[encoded data removed]",
      "text/plain": [
       "<Figure size 720x360 with 1 Axes>"
      ]
     },
     "metadata": {},
     "output_type": "display_data"
    }
   ],
   "source": [
    "fig = plt.figure(figsize = (10, 5))\n",
    " \n",
    "# creating the bar plot\n",
    "plt.hist(unified_data['len_text'], color ='blue')\n",
    "#plt.tick_params(axis='x', which='both', bottom=False, top=False, labelbottom=False)\n",
    "plt.title(\"Distribution of character lengths of the texts\")\n",
    "plt.show()"
   ]
  },
  {
   "cell_type": "markdown",
   "metadata": {},
   "source": [
    "### <font color='red'>AI003 - Preprocess the Text and Create Text Embeddings</font>"
   ]
  },
  {
   "cell_type": "code",
   "execution_count": null,
   "metadata": {},
   "outputs": [],
   "source": [
    "#test 'train_test_split'\n",
    "X = unified_data['text']\n",
    "y = unified_data['gender']\n",
    "\n",
    "X_train, X_test, y_train, y_test = train_test_split(X, y, random_state = 0, test_size = 0.2, stratify = y)   #'stratify' argument ensures same class proportions for each split"
   ]
  },
  {
   "cell_type": "markdown",
   "metadata": {},
   "source": [
    "https://towardsdatascience.com/multi-class-text-classification-with-scikit-learn-12f1e60e0a9f"
   ]
  },
  {
   "cell_type": "code",
   "execution_count": null,
   "metadata": {},
   "outputs": [
    {
     "name": "stdout",
     "output_type": "stream",
     "text": [
      "                                                   text gender  len_text  \\\n",
      "4457  holy moly! josh brown guest starred in the sho...   male        99   \n",
      "4458  jim colver has been serving the residents of a...   male        74   \n",
      "4459  born in cleveland, ford was luckily taken by t...   male       104   \n",
      "\n",
      "      gender_id  \n",
      "4457          0  \n",
      "4458          0  \n",
      "4459          0  \n",
      "                                                text  gender  len_text  \\\n",
      "0   danielle frenkel is a high jumper born in israel  female        48   \n",
      "1  tania mihailuk is a politician who was born in...  female        56   \n",
      "2  juliet taylor is a woman who works as a castin...  female        56   \n",
      "\n",
      "   gender_id  \n",
      "0          1  \n",
      "1          1  \n",
      "2          1  \n"
     ]
    }
   ],
   "source": [
    "#convert two classes to new binary id column\n",
    "unified_data['gender_id'] = unified_data['gender']\n",
    "unified_data['gender_id'].replace(['male', 'female'], [0, 1], inplace = True)\n",
    "print(unified_data[unified_data['gender'] == 'male'].head(3))\n",
    "print(unified_data[unified_data['gender'] == 'female'].head(3))"
   ]
  },
  {
   "cell_type": "code",
   "execution_count": null,
   "metadata": {},
   "outputs": [
    {
     "data": {
      "text/html": [
       "<div>\n",
       "<style scoped>\n",
       "    .dataframe tbody tr th:only-of-type {\n",
       "        vertical-align: middle;\n",
       "    }\n",
       "\n",
       "    .dataframe tbody tr th {\n",
       "        vertical-align: top;\n",
       "    }\n",
       "\n",
       "    .dataframe thead th {\n",
       "        text-align: right;\n",
       "    }\n",
       "</style>\n",
       "<table border=\"1\" class=\"dataframe\">\n",
       "  <thead>\n",
       "    <tr style=\"text-align: right;\">\n",
       "      <th></th>\n",
       "      <th>text</th>\n",
       "      <th>gender</th>\n",
       "      <th>len_text</th>\n",
       "      <th>gender_id</th>\n",
       "    </tr>\n",
       "  </thead>\n",
       "  <tbody>\n",
       "    <tr>\n",
       "      <th>0</th>\n",
       "      <td>danielle frenkel is a high jumper born in israel</td>\n",
       "      <td>female</td>\n",
       "      <td>48</td>\n",
       "      <td>1</td>\n",
       "    </tr>\n",
       "    <tr>\n",
       "      <th>1</th>\n",
       "      <td>tania mihailuk is a politician who was born in...</td>\n",
       "      <td>female</td>\n",
       "      <td>56</td>\n",
       "      <td>1</td>\n",
       "    </tr>\n",
       "    <tr>\n",
       "      <th>2</th>\n",
       "      <td>juliet taylor is a woman who works as a castin...</td>\n",
       "      <td>female</td>\n",
       "      <td>56</td>\n",
       "      <td>1</td>\n",
       "    </tr>\n",
       "    <tr>\n",
       "      <th>3</th>\n",
       "      <td>margaret caroline rudd was born in britain. sh...</td>\n",
       "      <td>female</td>\n",
       "      <td>78</td>\n",
       "      <td>1</td>\n",
       "    </tr>\n",
       "    <tr>\n",
       "      <th>4</th>\n",
       "      <td>retta scott was an american artist who died in...</td>\n",
       "      <td>female</td>\n",
       "      <td>51</td>\n",
       "      <td>1</td>\n",
       "    </tr>\n",
       "  </tbody>\n",
       "</table>\n",
       "</div>"
      ],
      "text/plain": [
       "                                                text  gender  len_text  \\\n",
       "0   danielle frenkel is a high jumper born in israel  female        48   \n",
       "1  tania mihailuk is a politician who was born in...  female        56   \n",
       "2  juliet taylor is a woman who works as a castin...  female        56   \n",
       "3  margaret caroline rudd was born in britain. sh...  female        78   \n",
       "4  retta scott was an american artist who died in...  female        51   \n",
       "\n",
       "   gender_id  \n",
       "0          1  \n",
       "1          1  \n",
       "2          1  \n",
       "3          1  \n",
       "4          1  "
      ]
     },
     "metadata": {},
     "output_type": "display_data"
    }
   ],
   "source": [
    "unified_data.head()"
   ]
  },
  {
   "cell_type": "code",
   "execution_count": null,
   "metadata": {},
   "outputs": [
    {
     "data": {
      "text/plain": [
       "pandas.core.series.Series"
      ]
     },
     "metadata": {},
     "output_type": "display_data"
    }
   ],
   "source": [
    "type(unified_data['text'])"
   ]
  },
  {
   "cell_type": "code",
   "execution_count": null,
   "metadata": {},
   "outputs": [],
   "source": [
    "other_unified = unified_data.copy()"
   ]
  },
  {
   "cell_type": "markdown",
   "metadata": {},
   "source": [
    "### <font color='red'>AI006 - Output Sentiment Analysis From Pretrained Model</font>\n",
    "\n",
    "- https://towardsdatascience.com/the-most-favorable-pre-trained-sentiment-classifiers-in-python-9107c06442c6"
   ]
  },
  {
   "cell_type": "markdown",
   "metadata": {},
   "source": [
    "#### Vader"
   ]
  },
  {
   "cell_type": "code",
   "execution_count": null,
   "metadata": {},
   "outputs": [],
   "source": [
    "from vaderSentiment.vaderSentiment import SentimentIntensityAnalyzer\n",
    "\n",
    "#calculate the negative, positive, neutral and compound scores, plus verbal evaluation\n",
    "def sentiment_vader(sentence):\n",
    "\n",
    "    # Create a SentimentIntensityAnalyzer object.\n",
    "    sid_obj = SentimentIntensityAnalyzer()\n",
    "\n",
    "    sentiment_dict = sid_obj.polarity_scores(sentence)\n",
    "    negative = sentiment_dict['neg']\n",
    "    neutral = sentiment_dict['neu']\n",
    "    positive = sentiment_dict['pos']\n",
    "    compound = sentiment_dict['compound']\n",
    "\n",
    "    if sentiment_dict['compound'] >= 0.05 :\n",
    "        overall_sentiment = \"Positive\"\n",
    "\n",
    "    elif sentiment_dict['compound'] <= - 0.05 :\n",
    "        overall_sentiment = \"Negative\"\n",
    "\n",
    "    else :\n",
    "        overall_sentiment = \"Neutral\"\n",
    "    \n",
    "    print('negative, neutral, positive, compound, overall_sentiment')\n",
    "    return negative, neutral, positive, compound, overall_sentiment"
   ]
  },
  {
   "cell_type": "code",
   "execution_count": null,
   "metadata": {},
   "outputs": [
    {
     "name": "stdout",
     "output_type": "stream",
     "text": [
      "negative, neutral, positive, compound, overall_sentiment\n",
      "TEXT: danielle frenkel is a high jumper born in israel --> \n",
      "SENTIMENT: (0.0, 1.0, 0.0, 0.0, 'Neutral') \n",
      " ------------------------------\n",
      "negative, neutral, positive, compound, overall_sentiment\n",
      "TEXT: tania mihailuk is a politician who was born in australia --> \n",
      "SENTIMENT: (0.0, 1.0, 0.0, 0.0, 'Neutral') \n",
      " ------------------------------\n",
      "negative, neutral, positive, compound, overall_sentiment\n",
      "TEXT: juliet taylor is a woman who works as a casting director --> \n",
      "SENTIMENT: (0.0, 1.0, 0.0, 0.0, 'Neutral') \n",
      " ------------------------------\n",
      "negative, neutral, positive, compound, overall_sentiment\n",
      "TEXT: margaret caroline rudd was born in britain. she was a notorious female forger. --> \n",
      "SENTIMENT: (0.195, 0.805, 0.0, -0.4404, 'Negative') \n",
      " ------------------------------\n",
      "negative, neutral, positive, compound, overall_sentiment\n",
      "TEXT: retta scott was an american artist who died in 1990 --> \n",
      "SENTIMENT: (0.286, 0.714, 0.0, -0.5574, 'Negative') \n",
      " ------------------------------\n",
      "negative, neutral, positive, compound, overall_sentiment\n",
      "TEXT: cicely mary barker was a fantasy illustrator who depicted fairies and flowers --> \n",
      "SENTIMENT: (0.0, 1.0, 0.0, 0.0, 'Neutral') \n",
      " ------------------------------\n"
     ]
    }
   ],
   "source": [
    "for i in range(0, 2 + 1):\n",
    "    print('TEXT:', other_unified['text'][i], '-->', '\\nSENTIMENT:', sentiment_vader(other_unified['text'][i]), '\\n', '-'*30)"
   ]
  },
  {
   "cell_type": "markdown",
   "metadata": {},
   "source": [
    "#### TextBlob"
   ]
  },
  {
   "cell_type": "code",
   "execution_count": null,
   "metadata": {},
   "outputs": [],
   "source": [
    "from textblob import TextBlob\n",
    "\n",
    "#call the classifier\n",
    "def sentiment_textblob(row):\n",
    "  \n",
    "    classifier = TextBlob(row)\n",
    "    polarity = classifier.sentiment.polarity\n",
    "    subjectivity = classifier.sentiment.subjectivity\n",
    "    \n",
    "    print('polarity, subjectivity')\n",
    "    return polarity, subjectivity"
   ]
  },
  {
   "cell_type": "code",
   "execution_count": null,
   "metadata": {},
   "outputs": [
    {
     "name": "stdout",
     "output_type": "stream",
     "text": [
      "polarity, subjectivity\n",
      "TEXT: danielle frenkel is a high jumper born in israel --> \n",
      "SENTIMENT: (0.16, 0.5399999999999999) \n",
      " ------------------------------\n",
      "polarity, subjectivity\n",
      "TEXT: tania mihailuk is a politician who was born in australia --> \n",
      "SENTIMENT: (0.0, 0.0) \n",
      " ------------------------------\n",
      "polarity, subjectivity\n",
      "TEXT: juliet taylor is a woman who works as a casting director --> \n",
      "SENTIMENT: (0.0, 0.0) \n",
      " ------------------------------\n",
      "polarity, subjectivity\n",
      "TEXT: margaret caroline rudd was born in britain. she was a notorious female forger. --> \n",
      "SENTIMENT: (0.0, 0.16666666666666666) \n",
      " ------------------------------\n",
      "polarity, subjectivity\n",
      "TEXT: retta scott was an american artist who died in 1990 --> \n",
      "SENTIMENT: (0.0, 0.0) \n",
      " ------------------------------\n",
      "polarity, subjectivity\n",
      "TEXT: cicely mary barker was a fantasy illustrator who depicted fairies and flowers --> \n",
      "SENTIMENT: (0.0, 0.0) \n",
      " ------------------------------\n"
     ]
    }
   ],
   "source": [
    "for i in range(0, 2 + 1):\n",
    "    print('TEXT:', other_unified['text'][i], '-->', '\\nSENTIMENT:', sentiment_textblob(other_unified['text'][i]), '\\n', '-'*30)"
   ]
  },
  {
   "cell_type": "markdown",
   "metadata": {},
   "source": [
    "#### Happy Transformer"
   ]
  },
  {
   "cell_type": "code",
   "execution_count": null,
   "metadata": {},
   "outputs": [
    {
     "name": "stdout",
     "output_type": "stream",
     "text": [
      "install error, sentencepiece not ocmpatible with Python 3.10 seemingly\n"
     ]
    }
   ],
   "source": [
    "try:\n",
    "    #sentencepiece causing error 'legacy-install-failure': https://stackoverflow.com/questions/71575380/sentencepiece-library-is-not-being-installed-in-the-system\n",
    "    from happytransformer import HappyTextClassification\n",
    "\n",
    "    happy_tc = HappyTextClassification(model_type=\"DISTILBERT\", model_name=\"distilbert-base-uncased-finetuned-sst-2-english\", num_labels=2)\n",
    "\n",
    "    def sentiment_happy_transformer(text):\n",
    "        result = happy_tc.classify_text(text)\n",
    "        if result.label == 'LABEL_1':\n",
    "            print('positive sentiment:', result.score)\n",
    "        elif result.label == 'LABEL_0':\n",
    "            print('negative sentiment:', result.score)\n",
    "        else:\n",
    "            print('neutral sentiment:', result.score)\n",
    "            \n",
    "    for i in range(0, 2 + 1):\n",
    "        sentiment_happy_transformer(other_unified['text'][i])\n",
    "        \n",
    "except:\n",
    "    print('install error, sentencepiece not ocmpatible with Python 3.10 seemingly')"
   ]
  },
  {
   "cell_type": "markdown",
   "metadata": {},
   "source": [
    "#### Amazon Comprehend"
   ]
  },
  {
   "cell_type": "code",
   "execution_count": null,
   "metadata": {},
   "outputs": [],
   "source": [
    "#https://dev.classmethod.jp/articles/comprehend-operations-using-python-boto3/\n",
    "\n",
    "import boto3\n",
    "\n",
    "def detect_sentiment(text):\n",
    "    comprehend = boto3.client('comprehend', region_name='eu-west-2')\n",
    "    response = comprehend.detect_sentiment(Text=text, LanguageCode='en')\n",
    "    return response"
   ]
  },
  {
   "cell_type": "code",
   "execution_count": null,
   "metadata": {},
   "outputs": [
    {
     "name": "stdout",
     "output_type": "stream",
     "text": [
      "TEXT: danielle frenkel is a high jumper born in israel --> \n",
      "ANALYSIS:\n",
      " {'Sentiment': 'NEUTRAL', 'SentimentScore': {'Positive': 0.07776756584644318, 'Negative': 0.017122093588113785, 'Neutral': 0.9037699103355408, 'Mixed': 0.0013403829652816057}, 'ResponseMetadata': {'RequestId': '4c755e42-a77a-4283-9b23-03e1fe7cf4ef', 'HTTPStatusCode': 200, 'HTTPHeaders': {'x-amzn-requestid': '4c755e42-a77a-4283-9b23-03e1fe7cf4ef', 'content-type': 'application/x-amz-json-1.1', 'content-length': '164', 'date': 'Mon, 18 Jul 2022 12:14:44 GMT'}, 'RetryAttempts': 0}} \n",
      " ------------------------------\n",
      "TEXT: tania mihailuk is a politician who was born in australia --> \n",
      "ANALYSIS:\n",
      " {'Sentiment': 'NEUTRAL', 'SentimentScore': {'Positive': 0.0014963001012802124, 'Negative': 0.042056210339069366, 'Neutral': 0.9535102248191833, 'Mixed': 0.0029372223652899265}, 'ResponseMetadata': {'RequestId': '0777f138-1083-46b1-8f42-38622f802744', 'HTTPStatusCode': 200, 'HTTPHeaders': {'x-amzn-requestid': '0777f138-1083-46b1-8f42-38622f802744', 'content-type': 'application/x-amz-json-1.1', 'content-length': '166', 'date': 'Mon, 18 Jul 2022 12:14:45 GMT'}, 'RetryAttempts': 0}} \n",
      " ------------------------------\n",
      "TEXT: juliet taylor is a woman who works as a casting director --> \n",
      "ANALYSIS:\n",
      " {'Sentiment': 'NEUTRAL', 'SentimentScore': {'Positive': 0.08453038334846497, 'Negative': 0.0200099628418684, 'Neutral': 0.8621273040771484, 'Mixed': 0.03333231434226036}, 'ResponseMetadata': {'RequestId': '7f908587-deeb-43be-b91d-1b6d03e9f1db', 'HTTPStatusCode': 200, 'HTTPHeaders': {'x-amzn-requestid': '7f908587-deeb-43be-b91d-1b6d03e9f1db', 'content-type': 'application/x-amz-json-1.1', 'content-length': '160', 'date': 'Mon, 18 Jul 2022 12:14:45 GMT'}, 'RetryAttempts': 0}} \n",
      " ------------------------------\n",
      "TEXT: margaret caroline rudd was born in britain. she was a notorious female forger. --> \n",
      "ANALYSIS:\n",
      " {'Sentiment': 'NEUTRAL', 'SentimentScore': {'Positive': 0.0181853249669075, 'Negative': 0.018061431124806404, 'Neutral': 0.8992886543273926, 'Mixed': 0.06446446478366852}, 'ResponseMetadata': {'RequestId': 'cd56f9c7-4c97-47b5-a271-a46bdcddd6b2', 'HTTPStatusCode': 200, 'HTTPHeaders': {'x-amzn-requestid': 'cd56f9c7-4c97-47b5-a271-a46bdcddd6b2', 'content-type': 'application/x-amz-json-1.1', 'content-length': '161', 'date': 'Mon, 18 Jul 2022 12:14:45 GMT'}, 'RetryAttempts': 0}} \n",
      " ------------------------------\n"
     ]
    }
   ],
   "source": [
    "for i in range(0, 2 + 1):\n",
    "    print('TEXT:', other_unified['text'][i], '-->', '\\nANALYSIS:\\n', detect_sentiment(other_unified['text'][i]), '\\n', '-'*30)"
   ]
  },
  {
   "cell_type": "markdown",
   "metadata": {},
   "source": [
    "#### text2emotion"
   ]
  },
  {
   "cell_type": "code",
   "execution_count": null,
   "metadata": {},
   "outputs": [
    {
     "name": "stdout",
     "output_type": "stream",
     "text": [
      "TEXT: danielle frenkel is a high jumper born in israel --> \n",
      "EMOTIONS: {'Happy': 0.0, 'Angry': 0.0, 'Surprise': 0.0, 'Sad': 0.5, 'Fear': 0.5} \n",
      " ------------------------------\n",
      "TEXT: tania mihailuk is a politician who was born in australia --> \n",
      "EMOTIONS: {'Happy': 0.0, 'Angry': 0.0, 'Surprise': 0.0, 'Sad': 1.0, 'Fear': 0.0} \n",
      " ------------------------------\n",
      "TEXT: juliet taylor is a woman who works as a casting director --> \n",
      "EMOTIONS: {'Happy': 0.0, 'Angry': 0.0, 'Surprise': 0.5, 'Sad': 0.0, 'Fear': 0.5} \n",
      " ------------------------------\n",
      "TEXT: margaret caroline rudd was born in britain. she was a notorious female forger. --> \n",
      "EMOTIONS: {'Happy': 0.0, 'Angry': 0.0, 'Surprise': 0.0, 'Sad': 1.0, 'Fear': 0.0} \n",
      " ------------------------------\n",
      "TEXT: retta scott was an american artist who died in 1990 --> \n",
      "EMOTIONS: {'Happy': 0.0, 'Angry': 0.0, 'Surprise': 0.0, 'Sad': 0.0, 'Fear': 1.0} \n",
      " ------------------------------\n",
      "TEXT: cicely mary barker was a fantasy illustrator who depicted fairies and flowers --> \n",
      "EMOTIONS: {'Happy': 0, 'Angry': 0, 'Surprise': 0, 'Sad': 0, 'Fear': 0} \n",
      " ------------------------------\n"
     ]
    }
   ],
   "source": [
    "#be aware, text2emotion builds on top of NLTK and so requires NLTK data downloads to work - recurring SSL CERTIFICATE VERIFY FAILED error\n",
    "#I downloaded manually and stored in relevant directory\n",
    "import text2emotion as te\n",
    "\n",
    "for i in range(0, 2 + 1):\n",
    "        print('TEXT:', other_unified['text'][i], '-->', '\\nEMOTIONS:', te.get_emotion(other_unified['text'][i]), '\\n', '-'*30)"
   ]
  }
 ],
 "metadata": {
  "kernelspec": {
   "display_name": "Python 3.10.5 64-bit",
   "language": "python",
   "name": "python3"
  },
  "language_info": {
   "codemirror_mode": {
    "name": "ipython",
    "version": 3
   },
   "file_extension": ".py",
   "mimetype": "text/x-python",
   "name": "python",
   "nbconvert_exporter": "python",
   "pygments_lexer": "ipython3",
   "version": "3.10.5"
  },
  "orig_nbformat": 4,
  "vscode": {
   "interpreter": {
    "hash": "aee8b7b246df8f9039afb4144a1f6fd8d2ca17a180786b69acc140d282b71a49"
   }
  }
 },
 "nbformat": 4,
 "nbformat_minor": 2
}
