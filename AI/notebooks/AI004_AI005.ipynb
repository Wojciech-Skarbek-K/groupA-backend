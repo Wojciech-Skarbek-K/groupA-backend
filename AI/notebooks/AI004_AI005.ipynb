{
 "cells": [
  {
   "cell_type": "markdown",
   "metadata": {},
   "source": [
    "### <font color='red'>AI004 - Explore Two Appropriate Models and Train</font>\n",
    "### <font color='red'>AI005 - Create Evaluation Visualizations</font>\n"
   ]
  },
  {
   "cell_type": "code",
   "execution_count": 1,
   "metadata": {},
   "outputs": [],
   "source": [
    "import pandas as pd\n",
    "from sklearn.model_selection import train_test_split\n",
    "import numpy as np\n",
    "import plotly.express as px\n",
    "from tqdm.notebook import tqdm\n",
    "import matplotlib.pyplot as plt\n",
    "import nltk"
   ]
  },
  {
   "cell_type": "markdown",
   "metadata": {},
   "source": [
    "### Data Preparation"
   ]
  },
  {
   "cell_type": "code",
   "execution_count": 2,
   "metadata": {},
   "outputs": [
    {
     "name": "stderr",
     "output_type": "stream",
     "text": [
      "/var/folders/70/yx3rlp812k545ncgsfplvcbc0000gn/T/ipykernel_1997/1338563936.py:7: FutureWarning: The frame.append method is deprecated and will be removed from pandas in a future version. Use pandas.concat instead.\n",
      "  unified_data = train_data.append(test_data, ignore_index=True)\n",
      "/var/folders/70/yx3rlp812k545ncgsfplvcbc0000gn/T/ipykernel_1997/1338563936.py:8: FutureWarning: The frame.append method is deprecated and will be removed from pandas in a future version. Use pandas.concat instead.\n",
      "  unified_data = unified_data.append(val_data, ignore_index=True)\n"
     ]
    },
    {
     "name": "stdout",
     "output_type": "stream",
     "text": [
      "nrows raw unified dataset: 29819\n",
      "Number of duplicates: 1\n",
      "Number of duplicates: 0\n",
      "                                                   text gender  gender_id\n",
      "4457  holy moly! josh brown guest starred in the sho...   male          0\n",
      "4458  jim colver has been serving the residents of a...   male          0\n",
      "4459  born in cleveland, ford was luckily taken by t...   male          0\n",
      "                                                text  gender  gender_id\n",
      "0   danielle frenkel is a high jumper born in israel  female          1\n",
      "1  tania mihailuk is a politician who was born in...  female          1\n",
      "2  juliet taylor is a woman who works as a castin...  female          1\n",
      "daniell frenkel high jumper born israel tania mihailuk politician born australia juliet taylor woman work cast director margaret carolin rudd born britain notori femal forger retta scott american artist die cice mari barker fantasi illustr depict fairi flower che zahara work malay activist fought hard women children right singapor feel gratitud evelyn dunbar help women land armi world war ii pave way peac geraldin kattnig born februari austria favor actress ami thomson hard scienc fiction write feminist pamela mather score best bowl figur women cricket world cup eileen montesin somewhat popular maltes actress tv person have appear programm love novel bloodi jack amaz stori orphan girl london man love dr moira kinross mactaggert marvel comic know come torun polish contralto born copernicus charl work wall histori success depict african american histori consid greatest achiev great kendra realiti televis seri grace air start june mari arriv conclus year old skin colour use judg love watc\n",
      "                                    stemmed  gender_id  gender\n",
      "0   daniell frenkel high jumper born israel          1  female\n",
      "1  tania mihailuk politician born australia          1  female\n",
      "2    juliet taylor woman work cast director          1  female\n",
      "percentage data that is TRAIN: 80.0\n",
      "percentage data that is TEST: 20.0\n"
     ]
    }
   ],
   "source": [
    "#data source: https://huggingface.co/datasets/md_gender_bias\n",
    "train_data = pd.read_json('data/md_gender_bias/funpedia/train.jsonl', lines = True)\n",
    "test_data = pd.read_json('data/md_gender_bias/funpedia/test.jsonl', lines = True)\n",
    "val_data = pd.read_json('data/md_gender_bias/funpedia/valid.jsonl', lines = True)\n",
    "\n",
    "#combine pre-split datasets into one then apply train test split function twice\n",
    "unified_data = train_data.append(test_data, ignore_index=True)\n",
    "unified_data = unified_data.append(val_data, ignore_index=True)\n",
    "print('nrows raw unified dataset:', len(unified_data))\n",
    "\n",
    "\n",
    "#drop all columns except text and label\n",
    "unified_data = unified_data[['text', 'gender']]\n",
    "\n",
    "#ensure all text lowercase so can compare for duplicates\n",
    "for col in ['text', 'gender']:\n",
    "    unified_data[col] = unified_data[col].str.lower()\n",
    "    \n",
    "#check duplicate rows in 'text' column\n",
    "print('Number of duplicates:', len(unified_data[unified_data.duplicated(['text'])]))\n",
    "#drop duplicates\n",
    "unified_data.drop_duplicates(subset=['text'], inplace = True)\n",
    "#recheck number of duplicates\n",
    "print('Number of duplicates:', len(unified_data[unified_data.duplicated(['text'])]))\n",
    "\n",
    "\n",
    "#drop NAs\n",
    "unified_data.dropna(inplace = True)\n",
    "\n",
    "#drop 'gender-neutral' class?\n",
    "unified_data = unified_data[unified_data['gender'] != 'gender-neutral']\n",
    "\n",
    "\n",
    "#downsample 'male' to fix class imbalance\n",
    "from imblearn.under_sampling import RandomUnderSampler\n",
    "undersample = RandomUnderSampler(sampling_strategy='majority', random_state= 0)\n",
    "X = np.array(unified_data['text']).reshape(-1, 1)\n",
    "y = np.array(unified_data['gender']).reshape(-1, 1)\n",
    "X_undersample, y_undersample = undersample.fit_resample(X, y)\n",
    "\n",
    "#flatten to 1D array in order to reocmbine into a new undersampled 'unified_data' dataframe\n",
    "X_undersample = X_undersample.flatten()\n",
    "y_undersample = y_undersample.flatten()\n",
    "\n",
    "unified_data = pd.DataFrame({'text': X_undersample, 'gender': list(y_undersample)}, columns=['text', 'gender'])\n",
    "\n",
    "\n",
    "#convert two classes to new binary id column\n",
    "unified_data['gender_id'] = unified_data['gender']\n",
    "unified_data['gender_id'].replace(['male', 'female'], [0, 1], inplace = True)\n",
    "print(unified_data[unified_data['gender'] == 'male'].head(3))\n",
    "print(unified_data[unified_data['gender'] == 'female'].head(3))\n",
    "\n",
    "\n",
    "#import sklearn stop words\n",
    "from sklearn.feature_extraction.text import ENGLISH_STOP_WORDS\n",
    "\n",
    "stop_words = list(ENGLISH_STOP_WORDS)\n",
    "my_stop_words = stop_words.copy()\n",
    "\n",
    "#to add stop words, e.g.\n",
    "#my_stop_words = text.ENGLISH_STOP_WORDS.union([\"book\"])\n",
    "\n",
    "#word_remove = ['he', 'she', 'him', 'her', 'hers', 'his', 'himself', 'herself']\n",
    "word_remove = []\n",
    "for i in my_stop_words:\n",
    "    if i in word_remove:\n",
    "        my_stop_words.remove(i)\n",
    "\n",
    "my_stop_words = frozenset(my_stop_words)\n",
    "\n",
    "\n",
    "from nltk.tokenize import word_tokenize   #requires nltk.download('punkt') but SSL cert error\n",
    "from nltk.tokenize import RegexpTokenizer\n",
    "from nltk.probability import FreqDist\n",
    "\n",
    "#regex here already removes punctuation\n",
    "#regex here includes tokens that have at least one letter, removing numbers from consideration (can be used in token_pattern argument too)\n",
    "regexp = RegexpTokenizer(u'(?ui)\\\\b\\\\w*[a-z]+\\\\w*\\\\b')\n",
    "unified_data['text_token']=unified_data['text'].apply(regexp.tokenize)\n",
    "\n",
    "#remove stopwords\n",
    "unified_data['text_token'] = unified_data['text_token'].apply(lambda x: [item for item in x if item not in my_stop_words])\n",
    "\n",
    "#keep only words longer than 1 character\n",
    "unified_data['text_string'] = unified_data['text_token'].apply(lambda x: ' '.join([item for item in x if len(item)>1]))\n",
    "unified_data['text_token'] = unified_data['text_token'].apply(lambda x: [item for item in x if len(item)>1])\n",
    "\n",
    "#create list of all words\n",
    "all_words = ' '.join([word for word in unified_data['text_string']])\n",
    "tokenized_words = word_tokenize(all_words)\n",
    "\n",
    "#create a frequency distribution which records the number of times each word has occurred:\n",
    "fdist = FreqDist(tokenized_words)\n",
    "fdist\n",
    "\n",
    "\n",
    "#stemming\n",
    "from nltk.stem.snowball import SnowballStemmer\n",
    "#use English stemmer\n",
    "stemmer = SnowballStemmer(\"english\")\n",
    "unified_data['stemmed'] = unified_data['text_token'].apply(lambda x: ' '.join([stemmer.stem(y) for y in x]))\n",
    "\n",
    "#prep for word cloud\n",
    "all_words_stem = ' '.join([word for word in unified_data['stemmed']])\n",
    "print(all_words_stem[0:1000])\n",
    "tokenized_words_new = word_tokenize(all_words_stem)\n",
    "\n",
    "#simplify dataframe\n",
    "unified_data = unified_data[['stemmed', 'gender_id', 'gender']]\n",
    "print(unified_data.head(3))\n",
    "\n",
    "\n",
    "#vectorizing\n",
    "from sklearn.feature_extraction.text import CountVectorizer\n",
    "from sklearn.feature_extraction.text import TfidfVectorizer\n",
    "\n",
    "#https://scikit-learn.org/stable/modules/generated/sklearn.feature_extraction.text.TfidfVectorizer.html\n",
    "tfidf = TfidfVectorizer(max_features = 10000, \n",
    "                        max_df=0.5, \n",
    "                        encoding='utf-8', \n",
    "                        ngram_range=(1, 3), \n",
    "                        stop_words=None,   #already done above\n",
    "                        lowercase = True,   #already done above\n",
    "                        token_pattern = u'(?ui)\\\\b\\\\w*[a-z]+\\\\w*\\\\b',   #same as before\n",
    "                        use_idf = True)\n",
    "\n",
    "X = tfidf.fit_transform(unified_data['stemmed']).toarray()\n",
    "y = unified_data['gender_id']\n",
    "\n",
    "\n",
    "#splitting into train, test\n",
    "X_train, X_test, y_train, y_test = train_test_split(X, y, random_state = 0, test_size = 0.2) \n",
    "\n",
    "print('percentage data that is TRAIN:', round((len(X_train)/len(unified_data))*100, 2))\n",
    "print('percentage data that is TEST:', round((len(X_test)/len(unified_data))*100, 2))"
   ]
  },
  {
   "cell_type": "markdown",
   "metadata": {},
   "source": [
    "### Define baseline model - XGBoost"
   ]
  },
  {
   "cell_type": "code",
   "execution_count": 3,
   "metadata": {},
   "outputs": [],
   "source": [
    "import xgboost as xgb\n",
    "from xgboost import XGBClassifier\n",
    "\n",
    "#define baseline model\n",
    "model_xgb = XGBClassifier(max_depth = 5, random_state = 0, verbosity = 1, objective = 'binary:logistic', n_jobs = -1)"
   ]
  },
  {
   "cell_type": "markdown",
   "metadata": {},
   "source": [
    "### Grid search hyperparameters (learning_rate and n_estimators) using K-Fold Cross-Validation - XGBoost"
   ]
  },
  {
   "cell_type": "code",
   "execution_count": 4,
   "metadata": {},
   "outputs": [],
   "source": [
    "from sklearn.model_selection import cross_val_score\n",
    "from statistics import mean\n",
    "from sklearn.model_selection import GridSearchCV\n",
    "\n",
    "#grid search\n",
    "def evaluate_model(cross_val):\n",
    "    learning_rate = [0.1, 0.2, 0.3]\n",
    "    n_estimators = [5]   #set to 5 to speed up, 100 is optimum\n",
    "    param_grid = dict(learning_rate=learning_rate, n_estimators=n_estimators)\n",
    "    grid_search = GridSearchCV(model_xgb, param_grid, scoring=\"accuracy\", cv=cross_val, n_jobs=-1, verbose = 0)\n",
    "    grid_result = grid_search.fit(X_train, y_train)\n",
    "    \n",
    "    #summarize performance\n",
    "    print(\"Best: %f using %s\" % (grid_result.best_score_, grid_result.best_params_))\n",
    "    means = grid_result.cv_results_['mean_test_score']\n",
    "    stds = grid_result.cv_results_['std_test_score']\n",
    "    params = grid_result.cv_results_['params']\n",
    "    \n",
    "    for mean, stdev, param in zip(means, stds, params):\n",
    "        print(\"%f (%f) with: %r\" % (mean, stdev, param))"
   ]
  },
  {
   "cell_type": "code",
   "execution_count": 5,
   "metadata": {},
   "outputs": [
    {
     "data": {
      "application/vnd.jupyter.widget-view+json": {
       "model_id": "7796e220e3ee49a5b7f9376cc8912738",
       "version_major": 2,
       "version_minor": 0
      },
      "text/plain": [
       "  0%|          | 0/2 [00:00<?, ?it/s]"
      ]
     },
     "metadata": {},
     "output_type": "display_data"
    },
    {
     "name": "stdout",
     "output_type": "stream",
     "text": [
      "Best: 0.592764 using {'learning_rate': 0.3, 'n_estimators': 5}\n",
      "0.581406 (0.004569) with: {'learning_rate': 0.1, 'n_estimators': 5}\n",
      "0.585893 (0.000082) with: {'learning_rate': 0.2, 'n_estimators': 5}\n",
      "0.592764 (0.001626) with: {'learning_rate': 0.3, 'n_estimators': 5}\n",
      "> folds=1\n",
      "Best: 0.592764 using {'learning_rate': 0.3, 'n_estimators': 5}\n",
      "0.581406 (0.004569) with: {'learning_rate': 0.1, 'n_estimators': 5}\n",
      "0.585893 (0.000082) with: {'learning_rate': 0.2, 'n_estimators': 5}\n",
      "0.592764 (0.001626) with: {'learning_rate': 0.3, 'n_estimators': 5}\n",
      "> folds=2\n"
     ]
    }
   ],
   "source": [
    "from sklearn.model_selection import RepeatedStratifiedKFold\n",
    "from sklearn.model_selection import StratifiedKFold\n",
    "from sklearn.model_selection import KFold\n",
    "\n",
    "k = 2\n",
    "folds = range(1, k+1)\n",
    "\n",
    "for fold_num in tqdm(folds):\n",
    "\t#define test condition\n",
    "\tcross_val = KFold(n_splits=k, random_state=0, shuffle=True)\n",
    "\n",
    "\tevaluate_model(cross_val)\n",
    "\tprint('> folds=%d' % (fold_num))"
   ]
  },
  {
   "cell_type": "markdown",
   "metadata": {},
   "source": [
    "### Fit finalised model - XGBoost"
   ]
  },
  {
   "cell_type": "code",
   "execution_count": 6,
   "metadata": {},
   "outputs": [],
   "source": [
    "#define finalised model\n",
    "model_xgb = XGBClassifier(n_estimators = 5, max_depth = 5, random_state = 0, verbosity = 1, learning_rate = 0.3, objective = 'binary:logistic', n_jobs = -1)\n",
    "\n",
    "#fit model to training data\n",
    "model_xgb.fit(X_train, y_train)\n",
    "\n",
    "#make predictions for test data\n",
    "y_pred = model_xgb.predict(X_test)\n",
    "y_pred = [round(value) for value in y_pred]"
   ]
  },
  {
   "cell_type": "markdown",
   "metadata": {},
   "source": [
    "### Evaluation visualisations - XGBoost"
   ]
  },
  {
   "cell_type": "code",
   "execution_count": 7,
   "metadata": {},
   "outputs": [
    {
     "name": "stdout",
     "output_type": "stream",
     "text": [
      "Accuracy: 60.572%\n",
      "              precision    recall  f1-score   support\n",
      "\n",
      "      female       0.97      0.22      0.35       888\n",
      "        male       0.56      0.99      0.72       895\n",
      "\n",
      "    accuracy                           0.61      1783\n",
      "   macro avg       0.77      0.60      0.53      1783\n",
      "weighted avg       0.76      0.61      0.54      1783\n",
      "\n"
     ]
    },
    {
     "data": {
      "image/png": "[encoded data removed]",
      "text/plain": [
       "<Figure size 432x288 with 2 Axes>"
      ]
     },
     "metadata": {
      "needs_background": "light"
     },
     "output_type": "display_data"
    },
    {
     "data": {
      "image/png": "[encoded data removed]",
      "text/plain": [
       "<Figure size 432x288 with 1 Axes>"
      ]
     },
     "metadata": {
      "needs_background": "light"
     },
     "output_type": "display_data"
    }
   ],
   "source": [
    "# evaluate predictions\n",
    "from sklearn.metrics import classification_report, accuracy_score, f1_score\n",
    "from sklearn.metrics import confusion_matrix, ConfusionMatrixDisplay\n",
    "from sklearn.metrics import roc_auc_score, roc_curve, auc, plot_roc_curve, RocCurveDisplay\n",
    "\n",
    "y_test_alt = pd.Series(y_test)\n",
    "y_test_alt.replace(0, 'male', inplace = True)\n",
    "y_test_alt.replace(1, 'female', inplace = True)\n",
    "y_pred_alt = pd.Series(y_pred)\n",
    "y_pred_alt.replace(0, 'male', inplace = True)\n",
    "y_pred_alt.replace(1, 'female', inplace = True)\n",
    "\n",
    "accuracy = accuracy_score(y_test, y_pred)\n",
    "\n",
    "print('Accuracy: %.3f%%' % (accuracy * 100.0))\n",
    "\n",
    "print(classification_report(y_test_alt, y_pred_alt))\n",
    "ConfusionMatrixDisplay.from_predictions(y_test_alt, y_pred_alt)\n",
    "\n",
    "fpr, tpr, thresholds = roc_curve(y_test, y_pred)\n",
    "roc_auc = auc(fpr, tpr)\n",
    "display = RocCurveDisplay(fpr=fpr, tpr=tpr, roc_auc=roc_auc, estimator_name='XGBClassifier')\n",
    "display.plot()\n",
    "plt.show()"
   ]
  },
  {
   "cell_type": "markdown",
   "metadata": {},
   "source": [
    "### Define baseline model - Naive Bayes"
   ]
  },
  {
   "cell_type": "code",
   "execution_count": 8,
   "metadata": {},
   "outputs": [],
   "source": [
    "from sklearn.naive_bayes import MultinomialNB\n",
    "model_nb = MultinomialNB()"
   ]
  },
  {
   "cell_type": "markdown",
   "metadata": {},
   "source": [
    "### Grid search hyperparameters (alpha) using K-Fold Cross-Validation - Naive Bayes"
   ]
  },
  {
   "cell_type": "code",
   "execution_count": 9,
   "metadata": {},
   "outputs": [],
   "source": [
    "from sklearn.model_selection import cross_val_score\n",
    "from statistics import mean\n",
    "from sklearn.model_selection import GridSearchCV\n",
    "\n",
    "#grid search\n",
    "def evaluate_model(cross_val):\n",
    "\n",
    "    alpha = [0, 0.5, 1, 1.5, 2, 2.5, 3]\n",
    "    param_grid = dict(alpha=alpha)\n",
    "    grid_search = GridSearchCV(model_nb, param_grid, scoring=\"accuracy\", cv=cross_val, n_jobs=-1, verbose = 0)\n",
    "    grid_result = grid_search.fit(X_train, y_train)\n",
    "    \n",
    "    #summarize performance\n",
    "    print(\"Best: %f using %s\" % (grid_result.best_score_, grid_result.best_params_))\n",
    "    means = grid_result.cv_results_['mean_test_score']\n",
    "    stds = grid_result.cv_results_['std_test_score']\n",
    "    params = grid_result.cv_results_['params']\n",
    "    \n",
    "    for mean, stdev, param in zip(means, stds, params):\n",
    "        print(\"%f (%f) with: %r\" % (mean, stdev, param))"
   ]
  },
  {
   "cell_type": "code",
   "execution_count": 10,
   "metadata": {},
   "outputs": [
    {
     "data": {
      "application/vnd.jupyter.widget-view+json": {
       "model_id": "b7f5d3a320924eeebfa6fe86f6567c0e",
       "version_major": 2,
       "version_minor": 0
      },
      "text/plain": [
       "  0%|          | 0/2 [00:00<?, ?it/s]"
      ]
     },
     "metadata": {},
     "output_type": "display_data"
    },
    {
     "name": "stderr",
     "output_type": "stream",
     "text": [
      "/Users/joshua.grefte/Library/Python/3.10/lib/python/site-packages/sklearn/naive_bayes.py:591: UserWarning: alpha too small will result in numeric errors, setting alpha = 1.0e-10\n",
      "  warnings.warn(\n",
      "/Users/joshua.grefte/Library/Python/3.10/lib/python/site-packages/sklearn/naive_bayes.py:591: UserWarning: alpha too small will result in numeric errors, setting alpha = 1.0e-10\n",
      "  warnings.warn(\n"
     ]
    },
    {
     "name": "stdout",
     "output_type": "stream",
     "text": [
      "Best: 0.732435 using {'alpha': 1}\n",
      "0.680691 (0.006827) with: {'alpha': 0}\n",
      "0.731174 (0.001019) with: {'alpha': 0.5}\n",
      "0.732435 (0.003684) with: {'alpha': 1}\n",
      "0.731454 (0.003543) with: {'alpha': 1.5}\n",
      "0.730893 (0.002983) with: {'alpha': 2}\n",
      "0.729210 (0.005507) with: {'alpha': 2.5}\n",
      "0.727667 (0.005648) with: {'alpha': 3}\n",
      "> folds=1\n"
     ]
    },
    {
     "name": "stderr",
     "output_type": "stream",
     "text": [
      "/Users/joshua.grefte/Library/Python/3.10/lib/python/site-packages/sklearn/naive_bayes.py:591: UserWarning: alpha too small will result in numeric errors, setting alpha = 1.0e-10\n",
      "  warnings.warn(\n",
      "/Users/joshua.grefte/Library/Python/3.10/lib/python/site-packages/sklearn/naive_bayes.py:591: UserWarning: alpha too small will result in numeric errors, setting alpha = 1.0e-10\n",
      "  warnings.warn(\n"
     ]
    },
    {
     "name": "stdout",
     "output_type": "stream",
     "text": [
      "Best: 0.732435 using {'alpha': 1}\n",
      "0.680691 (0.006827) with: {'alpha': 0}\n",
      "0.731174 (0.001019) with: {'alpha': 0.5}\n",
      "0.732435 (0.003684) with: {'alpha': 1}\n",
      "0.731454 (0.003543) with: {'alpha': 1.5}\n",
      "0.730893 (0.002983) with: {'alpha': 2}\n",
      "0.729210 (0.005507) with: {'alpha': 2.5}\n",
      "0.727667 (0.005648) with: {'alpha': 3}\n",
      "> folds=2\n"
     ]
    }
   ],
   "source": [
    "from sklearn.model_selection import RepeatedStratifiedKFold\n",
    "from sklearn.model_selection import StratifiedKFold\n",
    "from sklearn.model_selection import KFold\n",
    "\n",
    "k = 2\n",
    "folds = range(1, k+1)\n",
    "\n",
    "for fold_num in tqdm(folds):\n",
    "\t#define test condition\n",
    "\tcross_val = KFold(n_splits=k, random_state=0, shuffle=True)\n",
    "\n",
    "\tevaluate_model(cross_val)\n",
    "\tprint('> folds=%d' % (fold_num))\n"
   ]
  },
  {
   "cell_type": "markdown",
   "metadata": {},
   "source": [
    "### Fit finalised model - Naive Bayes"
   ]
  },
  {
   "cell_type": "code",
   "execution_count": 11,
   "metadata": {},
   "outputs": [],
   "source": [
    "model_nb = MultinomialNB(alpha = 1)"
   ]
  },
  {
   "cell_type": "code",
   "execution_count": 12,
   "metadata": {},
   "outputs": [],
   "source": [
    "#fit model to training data\n",
    "model_nb.fit(X_train, y_train)\n",
    "\n",
    "#make predictions for test data\n",
    "y_pred = model_nb.predict(X_test)\n",
    "y_pred = [round(value) for value in y_pred]"
   ]
  },
  {
   "cell_type": "markdown",
   "metadata": {},
   "source": [
    "### Evaluation visualisations - Naive Bayes"
   ]
  },
  {
   "cell_type": "code",
   "execution_count": 13,
   "metadata": {},
   "outputs": [
    {
     "name": "stdout",
     "output_type": "stream",
     "text": [
      "Accuracy: 79.361%\n",
      "              precision    recall  f1-score   support\n",
      "\n",
      "      female       0.79      0.80      0.79       888\n",
      "        male       0.80      0.79      0.79       895\n",
      "\n",
      "    accuracy                           0.79      1783\n",
      "   macro avg       0.79      0.79      0.79      1783\n",
      "weighted avg       0.79      0.79      0.79      1783\n",
      "\n"
     ]
    },
    {
     "data": {
      "image/png": "[encoded data removed]",
      "text/plain": [
       "<Figure size 432x288 with 2 Axes>"
      ]
     },
     "metadata": {
      "needs_background": "light"
     },
     "output_type": "display_data"
    },
    {
     "data": {
      "image/png": "[encoded data removed]",
      "text/plain": [
       "<Figure size 432x288 with 1 Axes>"
      ]
     },
     "metadata": {
      "needs_background": "light"
     },
     "output_type": "display_data"
    }
   ],
   "source": [
    "# evaluate predictions\n",
    "from sklearn.metrics import classification_report, accuracy_score, f1_score\n",
    "from sklearn.metrics import confusion_matrix, ConfusionMatrixDisplay\n",
    "from sklearn.metrics import roc_auc_score, roc_curve, auc, plot_roc_curve, RocCurveDisplay\n",
    "\n",
    "y_test_alt = pd.Series(y_test)\n",
    "y_test_alt.replace(0, 'male', inplace = True)\n",
    "y_test_alt.replace(1, 'female', inplace = True)\n",
    "y_pred_alt = pd.Series(y_pred)\n",
    "y_pred_alt.replace(0, 'male', inplace = True)\n",
    "y_pred_alt.replace(1, 'female', inplace = True)\n",
    "\n",
    "accuracy = accuracy_score(y_test, y_pred)\n",
    "\n",
    "print('Accuracy: %.3f%%' % (accuracy * 100.0))\n",
    "\n",
    "print(classification_report(y_test_alt, y_pred_alt))\n",
    "ConfusionMatrixDisplay.from_predictions(y_test_alt, y_pred_alt)\n",
    "\n",
    "fpr, tpr, thresholds = roc_curve(y_test, y_pred)\n",
    "roc_auc = auc(fpr, tpr)\n",
    "display = RocCurveDisplay(fpr=fpr, tpr=tpr, roc_auc=roc_auc, estimator_name='XGBClassifier')\n",
    "display.plot()\n",
    "plt.show()"
   ]
  }
 ],
 "metadata": {
  "kernelspec": {
   "display_name": "Python 3.10.5 64-bit",
   "language": "python",
   "name": "python3"
  },
  "language_info": {
   "codemirror_mode": {
    "name": "ipython",
    "version": 3
   },
   "file_extension": ".py",
   "mimetype": "text/x-python",
   "name": "python",
   "nbconvert_exporter": "python",
   "pygments_lexer": "ipython3",
   "version": "3.10.5"
  },
  "orig_nbformat": 4,
  "vscode": {
   "interpreter": {
    "hash": "aee8b7b246df8f9039afb4144a1f6fd8d2ca17a180786b69acc140d282b71a49"
   }
  }
 },
 "nbformat": 4,
 "nbformat_minor": 2
}
