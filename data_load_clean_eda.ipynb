{
 "cells": [
  {
   "cell_type": "code",
   "execution_count": 22,
   "metadata": {},
   "outputs": [],
   "source": [
    "import pandas as pd\n",
    "from sklearn.model_selection import train_test_split\n",
    "import plotly.express as px"
   ]
  },
  {
   "cell_type": "markdown",
   "metadata": {},
   "source": [
    "AI001 - Find Suitable Dataset\n",
    "As a AI Engineer I want a data set to train an NLP model and output the gender bias of text \n",
    "\n",
    "AC: \n",
    "\n",
    "- Find a suitable dataset\n",
    "- Split the data into training, test AND validation\n",
    "-- 0.3 test split standard so 70% train, 20% test, 10% validation"
   ]
  },
  {
   "cell_type": "code",
   "execution_count": 5,
   "metadata": {},
   "outputs": [],
   "source": [
    "#data source: https://huggingface.co/datasets/md_gender_bias\n",
    "train_data = pd.read_json('md_gender_bias/funpedia/train.jsonl', lines = True)\n",
    "xtrain_data = pd.read_json('md_gender_bias/new_data/data.jsonl', lines = True)\n",
    "\n",
    "test_data = pd.read_json('md_gender_bias/funpedia/test.jsonl', lines = True)\n",
    "val_data = pd.read_json('md_gender_bias/funpedia/valid.jsonl', lines = True)"
   ]
  },
  {
   "cell_type": "code",
   "execution_count": 6,
   "metadata": {},
   "outputs": [
    {
     "data": {
      "text/html": [
       "<div>\n",
       "<style scoped>\n",
       "    .dataframe tbody tr th:only-of-type {\n",
       "        vertical-align: middle;\n",
       "    }\n",
       "\n",
       "    .dataframe tbody tr th {\n",
       "        vertical-align: top;\n",
       "    }\n",
       "\n",
       "    .dataframe thead th {\n",
       "        text-align: right;\n",
       "    }\n",
       "</style>\n",
       "<table border=\"1\" class=\"dataframe\">\n",
       "  <thead>\n",
       "    <tr style=\"text-align: right;\">\n",
       "      <th></th>\n",
       "      <th>text</th>\n",
       "      <th>original</th>\n",
       "      <th>labels</th>\n",
       "      <th>class_type</th>\n",
       "      <th>confidence</th>\n",
       "      <th>episode_done</th>\n",
       "      <th>turker_gender</th>\n",
       "    </tr>\n",
       "  </thead>\n",
       "  <tbody>\n",
       "    <tr>\n",
       "      <th>2340</th>\n",
       "      <td>I am fine today bro. What about you Jim?</td>\n",
       "      <td>i am fine today bro. what about you</td>\n",
       "      <td>[ABOUT:male]</td>\n",
       "      <td>about</td>\n",
       "      <td>pretty sure</td>\n",
       "      <td>True</td>\n",
       "      <td>woman</td>\n",
       "    </tr>\n",
       "    <tr>\n",
       "      <th>2341</th>\n",
       "      <td>Cool, well I was born in France among pretty g...</td>\n",
       "      <td>Cool, well I was born in France, then I moved ...</td>\n",
       "      <td>[PARTNER:female]</td>\n",
       "      <td>partner</td>\n",
       "      <td>certain</td>\n",
       "      <td>True</td>\n",
       "      <td>woman</td>\n",
       "    </tr>\n",
       "    <tr>\n",
       "      <th>2342</th>\n",
       "      <td>Yeah man, I have women's intuition you are rig...</td>\n",
       "      <td>Yeah man, you are right enough.</td>\n",
       "      <td>[SELF:female]</td>\n",
       "      <td>self</td>\n",
       "      <td>certain</td>\n",
       "      <td>True</td>\n",
       "      <td>woman</td>\n",
       "    </tr>\n",
       "    <tr>\n",
       "      <th>2343</th>\n",
       "      <td>Her name is lenoris and she just finished her ...</td>\n",
       "      <td>Hello, my name is Lenoris I just finished my m...</td>\n",
       "      <td>[ABOUT:female]</td>\n",
       "      <td>about</td>\n",
       "      <td>certain</td>\n",
       "      <td>True</td>\n",
       "      <td>woman</td>\n",
       "    </tr>\n",
       "    <tr>\n",
       "      <th>2344</th>\n",
       "      <td>Nice to meet you Belinda.</td>\n",
       "      <td>Nice to meet you Mr Caelin.</td>\n",
       "      <td>[PARTNER:female]</td>\n",
       "      <td>partner</td>\n",
       "      <td>pretty sure</td>\n",
       "      <td>True</td>\n",
       "      <td>woman</td>\n",
       "    </tr>\n",
       "  </tbody>\n",
       "</table>\n",
       "</div>"
      ],
      "text/plain": [
       "                                                   text  \\\n",
       "2340           I am fine today bro. What about you Jim?   \n",
       "2341  Cool, well I was born in France among pretty g...   \n",
       "2342  Yeah man, I have women's intuition you are rig...   \n",
       "2343  Her name is lenoris and she just finished her ...   \n",
       "2344                          Nice to meet you Belinda.   \n",
       "\n",
       "                                               original            labels  \\\n",
       "2340                i am fine today bro. what about you      [ABOUT:male]   \n",
       "2341  Cool, well I was born in France, then I moved ...  [PARTNER:female]   \n",
       "2342                    Yeah man, you are right enough.     [SELF:female]   \n",
       "2343  Hello, my name is Lenoris I just finished my m...    [ABOUT:female]   \n",
       "2344                        Nice to meet you Mr Caelin.  [PARTNER:female]   \n",
       "\n",
       "     class_type   confidence  episode_done turker_gender  \n",
       "2340      about  pretty sure          True         woman  \n",
       "2341    partner      certain          True         woman  \n",
       "2342       self      certain          True         woman  \n",
       "2343      about      certain          True         woman  \n",
       "2344    partner  pretty sure          True         woman  "
      ]
     },
     "execution_count": 6,
     "metadata": {},
     "output_type": "execute_result"
    }
   ],
   "source": [
    "xtrain_data.tail(5)"
   ]
  },
  {
   "cell_type": "code",
   "execution_count": 7,
   "metadata": {},
   "outputs": [
    {
     "name": "stderr",
     "output_type": "stream",
     "text": [
      "/var/folders/70/yx3rlp812k545ncgsfplvcbc0000gn/T/ipykernel_25191/2184037494.py:1: FutureWarning: Passing a negative integer is deprecated in version 1.0 and will not be supported in future version. Instead, use None to not limit the column width.\n",
      "  pd.set_option('display.max_colwidth', -1)\n"
     ]
    },
    {
     "data": {
      "text/html": [
       "<div>\n",
       "<style scoped>\n",
       "    .dataframe tbody tr th:only-of-type {\n",
       "        vertical-align: middle;\n",
       "    }\n",
       "\n",
       "    .dataframe tbody tr th {\n",
       "        vertical-align: top;\n",
       "    }\n",
       "\n",
       "    .dataframe thead th {\n",
       "        text-align: right;\n",
       "    }\n",
       "</style>\n",
       "<table border=\"1\" class=\"dataframe\">\n",
       "  <thead>\n",
       "    <tr style=\"text-align: right;\">\n",
       "      <th></th>\n",
       "      <th>text</th>\n",
       "      <th>original</th>\n",
       "    </tr>\n",
       "  </thead>\n",
       "  <tbody>\n",
       "    <tr>\n",
       "      <th>2325</th>\n",
       "      <td>i'm mrs jessica, and i'm doing quite well. how are you?</td>\n",
       "      <td>I'm Mr Drayvon, and I'm doing quite well. How are you?</td>\n",
       "    </tr>\n",
       "    <tr>\n",
       "      <th>2326</th>\n",
       "      <td>i'm forty-four and i only read gentlewoman's magazines.</td>\n",
       "      <td>I'm forty-four and I only read gentleman's magazines.</td>\n",
       "    </tr>\n",
       "    <tr>\n",
       "      <th>2327</th>\n",
       "      <td>yes! the pandemic has reached the usa because my jane husband is sick.</td>\n",
       "      <td>Yes! The pandemic has reached the USA because my husband is sick.</td>\n",
       "    </tr>\n",
       "    <tr>\n",
       "      <th>2328</th>\n",
       "      <td>that is good. i am chris, how many wives do you have</td>\n",
       "      <td>that is good. how many wives do you have</td>\n",
       "    </tr>\n",
       "    <tr>\n",
       "      <th>2329</th>\n",
       "      <td>kate: oh yes most of them are caught but some are still outside the house i built. are you serbian karleah?</td>\n",
       "      <td>Oh yes most of them are caught but some are still outside the house I built. Are you Serbian Karleah?</td>\n",
       "    </tr>\n",
       "    <tr>\n",
       "      <th>2330</th>\n",
       "      <td>oh no peter.... i just got back from a spa.</td>\n",
       "      <td>Oh no Peter.... I just got back from a run.</td>\n",
       "    </tr>\n",
       "    <tr>\n",
       "      <th>2331</th>\n",
       "      <td>i know right. what do you think about his man?</td>\n",
       "      <td>I know right. What do you think about his topic?</td>\n",
       "    </tr>\n",
       "    <tr>\n",
       "      <th>2332</th>\n",
       "      <td>i think i know her, how about you, i go by the name maurus.</td>\n",
       "      <td>I think i know him, how about you, i go by the name maurus.</td>\n",
       "    </tr>\n",
       "    <tr>\n",
       "      <th>2333</th>\n",
       "      <td>ok, that's nice young man. do you know zhou yang ma?</td>\n",
       "      <td>Ok, that's nice young man. Do you know Zhou Yang?</td>\n",
       "    </tr>\n",
       "    <tr>\n",
       "      <th>2334</th>\n",
       "      <td>you'll be selling motivation to other people. how will you sell to us ladies?</td>\n",
       "      <td>you'll be selling motivation to other people. how will you sell to us women?</td>\n",
       "    </tr>\n",
       "    <tr>\n",
       "      <th>2335</th>\n",
       "      <td>I am doing well. as a fellow man. What does he do for fun?</td>\n",
       "      <td>I am doing well. As a fellow woman, what does she do for fun?</td>\n",
       "    </tr>\n",
       "    <tr>\n",
       "      <th>2336</th>\n",
       "      <td>He loves to grow flowers as an habit, Like real men like me do.</td>\n",
       "      <td>He loves to grow flowers as an habit</td>\n",
       "    </tr>\n",
       "    <tr>\n",
       "      <th>2337</th>\n",
       "      <td>He loves some netflix movies sir. He watches it with his son, owen, a lot!</td>\n",
       "      <td>He loves some netflix movies. He watches it with his son, owen, a lot!</td>\n",
       "    </tr>\n",
       "    <tr>\n",
       "      <th>2338</th>\n",
       "      <td>She would be a great athlete, sir.</td>\n",
       "      <td>She would be a great athlete, siir.</td>\n",
       "    </tr>\n",
       "    <tr>\n",
       "      <th>2339</th>\n",
       "      <td>Yes, it was a good start for her to join our ladies group in their native united kingdom.</td>\n",
       "      <td>yes, it was a good start for her group in their native united kingdom.</td>\n",
       "    </tr>\n",
       "    <tr>\n",
       "      <th>2340</th>\n",
       "      <td>I am fine today bro. What about you Jim?</td>\n",
       "      <td>i am fine today bro. what about you</td>\n",
       "    </tr>\n",
       "    <tr>\n",
       "      <th>2341</th>\n",
       "      <td>Cool, well I was born in France among pretty girls like you, then I moved to Canada, the name's Tim.</td>\n",
       "      <td>Cool, well I was born in France, then I moved to Canada, the name's Tim.</td>\n",
       "    </tr>\n",
       "    <tr>\n",
       "      <th>2342</th>\n",
       "      <td>Yeah man, I have women's intuition you are right enough.</td>\n",
       "      <td>Yeah man, you are right enough.</td>\n",
       "    </tr>\n",
       "    <tr>\n",
       "      <th>2343</th>\n",
       "      <td>Her name is lenoris and she just finished her manicure. What is your name?</td>\n",
       "      <td>Hello, my name is Lenoris I just finished my manicure, what is your name?</td>\n",
       "    </tr>\n",
       "    <tr>\n",
       "      <th>2344</th>\n",
       "      <td>Nice to meet you Belinda.</td>\n",
       "      <td>Nice to meet you Mr Caelin.</td>\n",
       "    </tr>\n",
       "  </tbody>\n",
       "</table>\n",
       "</div>"
      ],
      "text/plain": [
       "                                                                                                             text  \\\n",
       "2325  i'm mrs jessica, and i'm doing quite well. how are you?                                                       \n",
       "2326  i'm forty-four and i only read gentlewoman's magazines.                                                       \n",
       "2327  yes! the pandemic has reached the usa because my jane husband is sick.                                        \n",
       "2328  that is good. i am chris, how many wives do you have                                                          \n",
       "2329  kate: oh yes most of them are caught but some are still outside the house i built. are you serbian karleah?   \n",
       "2330  oh no peter.... i just got back from a spa.                                                                   \n",
       "2331  i know right. what do you think about his man?                                                                \n",
       "2332  i think i know her, how about you, i go by the name maurus.                                                   \n",
       "2333  ok, that's nice young man. do you know zhou yang ma?                                                          \n",
       "2334  you'll be selling motivation to other people. how will you sell to us ladies?                                 \n",
       "2335  I am doing well. as a fellow man. What does he do for fun?                                                    \n",
       "2336  He loves to grow flowers as an habit, Like real men like me do.                                               \n",
       "2337  He loves some netflix movies sir. He watches it with his son, owen, a lot!                                    \n",
       "2338  She would be a great athlete, sir.                                                                            \n",
       "2339  Yes, it was a good start for her to join our ladies group in their native united kingdom.                     \n",
       "2340  I am fine today bro. What about you Jim?                                                                      \n",
       "2341  Cool, well I was born in France among pretty girls like you, then I moved to Canada, the name's Tim.          \n",
       "2342  Yeah man, I have women's intuition you are right enough.                                                      \n",
       "2343  Her name is lenoris and she just finished her manicure. What is your name?                                    \n",
       "2344  Nice to meet you Belinda.                                                                                     \n",
       "\n",
       "                                                                                                   original  \n",
       "2325  I'm Mr Drayvon, and I'm doing quite well. How are you?                                                 \n",
       "2326  I'm forty-four and I only read gentleman's magazines.                                                  \n",
       "2327  Yes! The pandemic has reached the USA because my husband is sick.                                      \n",
       "2328  that is good. how many wives do you have                                                               \n",
       "2329  Oh yes most of them are caught but some are still outside the house I built. Are you Serbian Karleah?  \n",
       "2330  Oh no Peter.... I just got back from a run.                                                            \n",
       "2331  I know right. What do you think about his topic?                                                       \n",
       "2332  I think i know him, how about you, i go by the name maurus.                                            \n",
       "2333  Ok, that's nice young man. Do you know Zhou Yang?                                                      \n",
       "2334  you'll be selling motivation to other people. how will you sell to us women?                           \n",
       "2335  I am doing well. As a fellow woman, what does she do for fun?                                          \n",
       "2336  He loves to grow flowers as an habit                                                                   \n",
       "2337  He loves some netflix movies. He watches it with his son, owen, a lot!                                 \n",
       "2338  She would be a great athlete, siir.                                                                    \n",
       "2339  yes, it was a good start for her group in their native united kingdom.                                 \n",
       "2340  i am fine today bro. what about you                                                                    \n",
       "2341  Cool, well I was born in France, then I moved to Canada, the name's Tim.                               \n",
       "2342  Yeah man, you are right enough.                                                                        \n",
       "2343  Hello, my name is Lenoris I just finished my manicure, what is your name?                              \n",
       "2344  Nice to meet you Mr Caelin.                                                                            "
      ]
     },
     "execution_count": 7,
     "metadata": {},
     "output_type": "execute_result"
    }
   ],
   "source": [
    "pd.set_option('display.max_colwidth', -1)\n",
    "\n",
    "xtrain_data[['text', 'original']].tail(20)"
   ]
  },
  {
   "cell_type": "code",
   "execution_count": 8,
   "metadata": {},
   "outputs": [
    {
     "data": {
      "text/plain": [
       "certain                                                                                              1582\n",
       "pretty sure                                                                                          687 \n",
       "unsure                                                                                               53  \n",
       "Can you sing me a song? Its been a while my wife sang to me.                                         1   \n",
       "not much Nelly, what about you, kelly?                                                               1   \n",
       "do not ask other topics guys! please leave it right now!                                             1   \n",
       "tell something about doug aanderson, Kathy                                                           1   \n",
       "hello lady how are you                                                                               1   \n",
       "yeah,it is.her father heard about muriel robin.                                                      1   \n",
       "hello, i'm greg..i'm fine, what about you Brian?                                                     1   \n",
       "i dont like mark prefer you call me rambo, thats cool bro                                            1   \n",
       "yes, she is the woman of my dream, bro!                                                              1   \n",
       "i believe it was 1967, seems like a long time ago, wife.                                             1   \n",
       "mrs, my wife loves kids and thinks she would do great in that field! the only issue is the pay...    1   \n",
       "My husband got me a rottweiler and a chihuahua which we named Denise                                 1   \n",
       "I also work three jobs so I can help my husband                                                      1   \n",
       "she is doing great, thank you rose.                                                                  1   \n",
       "that lady is a minister here in zimbabwe. where are you from sir?                                    1   \n",
       "i am telling you ma, that woman must be bold and adventurous.                                        1   \n",
       "yeah what do you like doing?                                                                         1   \n",
       "I have a girlfriend that I impregnated and is six months pregnant.                                   1   \n",
       "she is good, she has 7 other siblings with her                                                       1   \n",
       "My dad was also a farmer , I spent so much time in the farm while growing up                         1   \n",
       "Were do you work these days                                                                          1   \n",
       "How are you doing Dervin? you look beautiful.                                                        1   \n",
       "Melvin, you should try nascar!                                                                       1   \n",
       "Name: confidence, dtype: int64"
      ]
     },
     "execution_count": 8,
     "metadata": {},
     "output_type": "execute_result"
    }
   ],
   "source": [
    "xtrain_data['confidence'].value_counts()"
   ]
  },
  {
   "cell_type": "code",
   "execution_count": 9,
   "metadata": {},
   "outputs": [
    {
     "data": {
      "text/plain": [
       "text             0  \n",
       "original         0  \n",
       "labels           0  \n",
       "class_type       0  \n",
       "confidence       0  \n",
       "episode_done     0  \n",
       "turker_gender    315\n",
       "dtype: int64"
      ]
     },
     "execution_count": 9,
     "metadata": {},
     "output_type": "execute_result"
    }
   ],
   "source": [
    "xtrain_data.isna().sum()"
   ]
  },
  {
   "cell_type": "code",
   "execution_count": 10,
   "metadata": {},
   "outputs": [
    {
     "data": {
      "text/plain": [
       "man                  1580\n",
       "woman                430 \n",
       "prefer not to say    15  \n",
       "nonbinary            5   \n",
       "Name: turker_gender, dtype: int64"
      ]
     },
     "execution_count": 10,
     "metadata": {},
     "output_type": "execute_result"
    }
   ],
   "source": [
    "xtrain_data['turker_gender'].value_counts()"
   ]
  },
  {
   "cell_type": "code",
   "execution_count": 11,
   "metadata": {},
   "outputs": [
    {
     "data": {
      "text/plain": [
       "[PARTNER:male]      411\n",
       "[ABOUT:female]      401\n",
       "[SELF:male]         396\n",
       "[ABOUT:male]        384\n",
       "[PARTNER:female]    382\n",
       "[SELF:female]       371\n",
       "Name: labels, dtype: int64"
      ]
     },
     "execution_count": 11,
     "metadata": {},
     "output_type": "execute_result"
    }
   ],
   "source": [
    "xtrain_data['labels'].value_counts()"
   ]
  },
  {
   "cell_type": "code",
   "execution_count": 12,
   "metadata": {},
   "outputs": [],
   "source": [
    "#remove all columns xtrain except text and gender label\n",
    "#remove null values and only include labels either 'man' or 'woman'\n",
    "xtrain_data = xtrain_data[['text', 'turker_gender']]\n",
    "xtrain_data = xtrain_data[(xtrain_data['turker_gender'] == 'man') | (xtrain_data['turker_gender'] == 'woman') | (xtrain_data['turker_gender'] != None)]\n",
    "#change 'turker_gender' column name to 'gender' to align with train/test/val datasets\n",
    "xtrain_data.columns = ['text', 'gender']"
   ]
  },
  {
   "cell_type": "code",
   "execution_count": 13,
   "metadata": {},
   "outputs": [
    {
     "name": "stdout",
     "output_type": "stream",
     "text": [
      "                                                                                             text  \\\n",
      "0  Max Landis is a comic book writer who wrote Chronicle, American Ultra, and Victor Frankestein.   \n",
      "1  Félix stevens is a retired cuban sprinter who competed in the 80s.                               \n",
      "2  Arthur Engelbert is a professor at the University of Applied Sciences                            \n",
      "3  Danielle Frenkel is a high jumper born in Israel                                                 \n",
      "4  Ernie O'Malley served in the Irish republican Army during the Irish war of Independence          \n",
      "\n",
      "   gender             title    persona  \n",
      "0  male    Max Landis        Humorous   \n",
      "1  male    Félix Stevens     Confident  \n",
      "2  male    Arthur Engelbert  Creative   \n",
      "3  female  Danielle Frenkel  Brilliant  \n",
      "4  male    Ernie O'Malley    Gentle     \n"
     ]
    }
   ],
   "source": [
    "print(train_data.head())"
   ]
  },
  {
   "cell_type": "code",
   "execution_count": 14,
   "metadata": {},
   "outputs": [
    {
     "name": "stdout",
     "output_type": "stream",
     "text": [
      "<class 'pandas.core.frame.DataFrame'>\n",
      "RangeIndex: 2938 entries, 0 to 2937\n",
      "Data columns (total 4 columns):\n",
      " #   Column   Non-Null Count  Dtype \n",
      "---  ------   --------------  ----- \n",
      " 0   text     2938 non-null   object\n",
      " 1   gender   2938 non-null   object\n",
      " 2   title    2938 non-null   object\n",
      " 3   persona  2938 non-null   object\n",
      "dtypes: object(4)\n",
      "memory usage: 91.9+ KB\n",
      "None\n"
     ]
    }
   ],
   "source": [
    "print(test_data.info())\n"
   ]
  },
  {
   "cell_type": "code",
   "execution_count": 15,
   "metadata": {},
   "outputs": [
    {
     "data": {
      "text/html": [
       "<div>\n",
       "<style scoped>\n",
       "    .dataframe tbody tr th:only-of-type {\n",
       "        vertical-align: middle;\n",
       "    }\n",
       "\n",
       "    .dataframe tbody tr th {\n",
       "        vertical-align: top;\n",
       "    }\n",
       "\n",
       "    .dataframe thead th {\n",
       "        text-align: right;\n",
       "    }\n",
       "</style>\n",
       "<table border=\"1\" class=\"dataframe\">\n",
       "  <thead>\n",
       "    <tr style=\"text-align: right;\">\n",
       "      <th></th>\n",
       "      <th>text</th>\n",
       "      <th>gender</th>\n",
       "    </tr>\n",
       "  </thead>\n",
       "  <tbody>\n",
       "    <tr>\n",
       "      <th>0</th>\n",
       "      <td>He designed monumental Lovissa War Cemetery in 1920.</td>\n",
       "      <td>None</td>\n",
       "    </tr>\n",
       "    <tr>\n",
       "      <th>1</th>\n",
       "      <td>She works as a volunteer firefighter.</td>\n",
       "      <td>None</td>\n",
       "    </tr>\n",
       "    <tr>\n",
       "      <th>2</th>\n",
       "      <td>She participated in the FIVB volleyball grand champions cup in 2001.</td>\n",
       "      <td>None</td>\n",
       "    </tr>\n",
       "    <tr>\n",
       "      <th>3</th>\n",
       "      <td>Correct ! Walter Havighurst was an author of many books. He loved the book Annie Oakley of the Wild West.</td>\n",
       "      <td>None</td>\n",
       "    </tr>\n",
       "    <tr>\n",
       "      <th>4</th>\n",
       "      <td>Yes, she released only one album with them, \"wołanie o słońce nad światem\"</td>\n",
       "      <td>None</td>\n",
       "    </tr>\n",
       "  </tbody>\n",
       "</table>\n",
       "</div>"
      ],
      "text/plain": [
       "                                                                                                        text  \\\n",
       "0  He designed monumental Lovissa War Cemetery in 1920.                                                        \n",
       "1  She works as a volunteer firefighter.                                                                       \n",
       "2  She participated in the FIVB volleyball grand champions cup in 2001.                                        \n",
       "3  Correct ! Walter Havighurst was an author of many books. He loved the book Annie Oakley of the Wild West.   \n",
       "4  Yes, she released only one album with them, \"wołanie o słońce nad światem\"                                  \n",
       "\n",
       "  gender  \n",
       "0  None   \n",
       "1  None   \n",
       "2  None   \n",
       "3  None   \n",
       "4  None   "
      ]
     },
     "execution_count": 15,
     "metadata": {},
     "output_type": "execute_result"
    }
   ],
   "source": [
    "xtrain_data.head()"
   ]
  },
  {
   "cell_type": "markdown",
   "metadata": {},
   "source": [
    "<font color='red'> FOR REPRODUCIBILITY USE SKLEARN TRAIN TEST SPLIT FUNCTION </font>"
   ]
  },
  {
   "cell_type": "code",
   "execution_count": 19,
   "metadata": {},
   "outputs": [
    {
     "name": "stdout",
     "output_type": "stream",
     "text": [
      "nrows unified dataset: 32164\n"
     ]
    },
    {
     "name": "stderr",
     "output_type": "stream",
     "text": [
      "/var/folders/70/yx3rlp812k545ncgsfplvcbc0000gn/T/ipykernel_25191/1507162070.py:2: FutureWarning: The frame.append method is deprecated and will be removed from pandas in a future version. Use pandas.concat instead.\n",
      "  unified_data = train_data.append(xtrain_data, ignore_index=True)\n",
      "/var/folders/70/yx3rlp812k545ncgsfplvcbc0000gn/T/ipykernel_25191/1507162070.py:3: FutureWarning: The frame.append method is deprecated and will be removed from pandas in a future version. Use pandas.concat instead.\n",
      "  unified_data = unified_data.append(test_data, ignore_index=True)\n",
      "/var/folders/70/yx3rlp812k545ncgsfplvcbc0000gn/T/ipykernel_25191/1507162070.py:4: FutureWarning: The frame.append method is deprecated and will be removed from pandas in a future version. Use pandas.concat instead.\n",
      "  unified_data = unified_data.append(val_data, ignore_index=True)\n"
     ]
    }
   ],
   "source": [
    "#combine pre-split datasets into one then apply train test split function twice\n",
    "unified_data = train_data.append(xtrain_data, ignore_index=True)\n",
    "unified_data = unified_data.append(test_data, ignore_index=True)\n",
    "unified_data = unified_data.append(val_data, ignore_index=True)\n",
    "print('nrows unified dataset:', len(unified_data))\n",
    "\n",
    "X = unified_data['text']\n",
    "y = unified_data['gender']\n",
    "\n",
    "X_train, X_test, y_train, y_test = train_test_split(X, y, random_state = 0, test_size = 0.2)\n",
    "X_train, X_val, y_train, y_val = train_test_split(X, y, random_state = 0, test_size = 0.1)\n",
    "#train, test, val ratio = 70, 20, 10"
   ]
  },
  {
   "cell_type": "code",
   "execution_count": 20,
   "metadata": {},
   "outputs": [
    {
     "name": "stdout",
     "output_type": "stream",
     "text": [
      "percentage data that is TRAIN: 90.0\n",
      "percentage data that is TEST: 20.0\n",
      "percentage data that is VALIDATION: 10.0\n"
     ]
    }
   ],
   "source": [
    "print('percentage data that is TRAIN:', round((len(X_train)/len(unified_data))*100, 2))\n",
    "print('percentage data that is TEST:', round((len(X_test)/len(unified_data))*100, 2))\n",
    "print('percentage data that is VALIDATION:', round((len(X_val)/len(unified_data))*100, 2))"
   ]
  },
  {
   "cell_type": "markdown",
   "metadata": {},
   "source": [
    "AI002 - EDA (Exploratory Data Analysis)\n",
    "As AI Engineer I want to have a better understanding of the data so I know how it can be used to create a model \n",
    "\n",
    "AC: \n",
    "\n",
    "- Import the TRAIN data into a Jupyter notebook locally \n",
    "- Get insights from the text itself\n",
    "- Look into distributions of the columns. Look for class imbalance\n",
    "- Make use of graphs to shows key insights from the data\n",
    "\n",
    "Tech notes:\n",
    "- simple bar class counts\n",
    "- need to progress user story 3 to provide additional eda "
   ]
  },
  {
   "cell_type": "code",
   "execution_count": 32,
   "metadata": {},
   "outputs": [
    {
     "data": {
      "text/plain": [
       "<AxesSubplot:>"
      ]
     },
     "execution_count": 32,
     "metadata": {},
     "output_type": "execute_result"
    },
    {
     "data": {
      "image/png": "[encoded data removed]",
      "text/plain": [
       "<Figure size 432x288 with 1 Axes>"
      ]
     },
     "metadata": {
      "needs_background": "light"
     },
     "output_type": "display_data"
    }
   ],
   "source": [
    "unified_data['gender'].value_counts().plot(kind = 'bar')"
   ]
  },
  {
   "cell_type": "code",
   "execution_count": 44,
   "metadata": {},
   "outputs": [
    {
     "name": "stdout",
     "output_type": "stream",
     "text": [
      "            class  counts\n",
      "0  male            23939 \n",
      "1  female          4457  \n",
      "2  man             1580  \n",
      "3  gender-neutral  1423  \n",
      "4  woman           430   \n"
     ]
    },
    {
     "data": {
      "application/vnd.plotly.v1+json": {
       "config": {
        "plotlyServerURL": "https://plot.ly"
       },
       "data": [
        {
         "alignmentgroup": "True",
         "hovertemplate": "class=%{x}<br>counts=%{y}<extra></extra>",
         "legendgroup": "",
         "marker": {
          "color": "#636efa",
          "pattern": {
           "shape": ""
          }
         },
         "name": "",
         "offsetgroup": "",
         "orientation": "v",
         "showlegend": false,
         "textposition": "auto",
         "type": "bar",
         "x": [
          "male",
          "female",
          "man",
          "gender-neutral",
          "woman",
          "prefer not to say",
          "nonbinary"
         ],
         "xaxis": "x",
         "y": [
          23939,
          4457,
          1580,
          1423,
          430,
          15,
          5
         ],
         "yaxis": "y"
        }
       ],
       "layout": {
        "barmode": "relative",
        "legend": {
         "tracegroupgap": 0
        },
        "template": {
         "data": {
          "bar": [
           {
            "error_x": {
             "color": "#2a3f5f"
            },
            "error_y": {
             "color": "#2a3f5f"
            },
            "marker": {
             "line": {
              "color": "#E5ECF6",
              "width": 0.5
             },
             "pattern": {
              "fillmode": "overlay",
              "size": 10,
              "solidity": 0.2
             }
            },
            "type": "bar"
           }
          ],
          "barpolar": [
           {
            "marker": {
             "line": {
              "color": "#E5ECF6",
              "width": 0.5
             },
             "pattern": {
              "fillmode": "overlay",
              "size": 10,
              "solidity": 0.2
             }
            },
            "type": "barpolar"
           }
          ],
          "carpet": [
           {
            "aaxis": {
             "endlinecolor": "#2a3f5f",
             "gridcolor": "white",
             "linecolor": "white",
             "minorgridcolor": "white",
             "startlinecolor": "#2a3f5f"
            },
            "baxis": {
             "endlinecolor": "#2a3f5f",
             "gridcolor": "white",
             "linecolor": "white",
             "minorgridcolor": "white",
             "startlinecolor": "#2a3f5f"
            },
            "type": "carpet"
           }
          ],
          "choropleth": [
           {
            "colorbar": {
             "outlinewidth": 0,
             "ticks": ""
            },
            "type": "choropleth"
           }
          ],
          "contour": [
           {
            "colorbar": {
             "outlinewidth": 0,
             "ticks": ""
            },
            "colorscale": [
             [
              0,
              "#0d0887"
             ],
             [
              0.1111111111111111,
              "#46039f"
             ],
             [
              0.2222222222222222,
              "#7201a8"
             ],
             [
              0.3333333333333333,
              "#9c179e"
             ],
             [
              0.4444444444444444,
              "#bd3786"
             ],
             [
              0.5555555555555556,
              "#d8576b"
             ],
             [
              0.6666666666666666,
              "#ed7953"
             ],
             [
              0.7777777777777778,
              "#fb9f3a"
             ],
             [
              0.8888888888888888,
              "#fdca26"
             ],
             [
              1,
              "#f0f921"
             ]
            ],
            "type": "contour"
           }
          ],
          "contourcarpet": [
           {
            "colorbar": {
             "outlinewidth": 0,
             "ticks": ""
            },
            "type": "contourcarpet"
           }
          ],
          "heatmap": [
           {
            "colorbar": {
             "outlinewidth": 0,
             "ticks": ""
            },
            "colorscale": [
             [
              0,
              "#0d0887"
             ],
             [
              0.1111111111111111,
              "#46039f"
             ],
             [
              0.2222222222222222,
              "#7201a8"
             ],
             [
              0.3333333333333333,
              "#9c179e"
             ],
             [
              0.4444444444444444,
              "#bd3786"
             ],
             [
              0.5555555555555556,
              "#d8576b"
             ],
             [
              0.6666666666666666,
              "#ed7953"
             ],
             [
              0.7777777777777778,
              "#fb9f3a"
             ],
             [
              0.8888888888888888,
              "#fdca26"
             ],
             [
              1,
              "#f0f921"
             ]
            ],
            "type": "heatmap"
           }
          ],
          "heatmapgl": [
           {
            "colorbar": {
             "outlinewidth": 0,
             "ticks": ""
            },
            "colorscale": [
             [
              0,
              "#0d0887"
             ],
             [
              0.1111111111111111,
              "#46039f"
             ],
             [
              0.2222222222222222,
              "#7201a8"
             ],
             [
              0.3333333333333333,
              "#9c179e"
             ],
             [
              0.4444444444444444,
              "#bd3786"
             ],
             [
              0.5555555555555556,
              "#d8576b"
             ],
             [
              0.6666666666666666,
              "#ed7953"
             ],
             [
              0.7777777777777778,
              "#fb9f3a"
             ],
             [
              0.8888888888888888,
              "#fdca26"
             ],
             [
              1,
              "#f0f921"
             ]
            ],
            "type": "heatmapgl"
           }
          ],
          "histogram": [
           {
            "marker": {
             "pattern": {
              "fillmode": "overlay",
              "size": 10,
              "solidity": 0.2
             }
            },
            "type": "histogram"
           }
          ],
          "histogram2d": [
           {
            "colorbar": {
             "outlinewidth": 0,
             "ticks": ""
            },
            "colorscale": [
             [
              0,
              "#0d0887"
             ],
             [
              0.1111111111111111,
              "#46039f"
             ],
             [
              0.2222222222222222,
              "#7201a8"
             ],
             [
              0.3333333333333333,
              "#9c179e"
             ],
             [
              0.4444444444444444,
              "#bd3786"
             ],
             [
              0.5555555555555556,
              "#d8576b"
             ],
             [
              0.6666666666666666,
              "#ed7953"
             ],
             [
              0.7777777777777778,
              "#fb9f3a"
             ],
             [
              0.8888888888888888,
              "#fdca26"
             ],
             [
              1,
              "#f0f921"
             ]
            ],
            "type": "histogram2d"
           }
          ],
          "histogram2dcontour": [
           {
            "colorbar": {
             "outlinewidth": 0,
             "ticks": ""
            },
            "colorscale": [
             [
              0,
              "#0d0887"
             ],
             [
              0.1111111111111111,
              "#46039f"
             ],
             [
              0.2222222222222222,
              "#7201a8"
             ],
             [
              0.3333333333333333,
              "#9c179e"
             ],
             [
              0.4444444444444444,
              "#bd3786"
             ],
             [
              0.5555555555555556,
              "#d8576b"
             ],
             [
              0.6666666666666666,
              "#ed7953"
             ],
             [
              0.7777777777777778,
              "#fb9f3a"
             ],
             [
              0.8888888888888888,
              "#fdca26"
             ],
             [
              1,
              "#f0f921"
             ]
            ],
            "type": "histogram2dcontour"
           }
          ],
          "mesh3d": [
           {
            "colorbar": {
             "outlinewidth": 0,
             "ticks": ""
            },
            "type": "mesh3d"
           }
          ],
          "parcoords": [
           {
            "line": {
             "colorbar": {
              "outlinewidth": 0,
              "ticks": ""
             }
            },
            "type": "parcoords"
           }
          ],
          "pie": [
           {
            "automargin": true,
            "type": "pie"
           }
          ],
          "scatter": [
           {
            "fillpattern": {
             "fillmode": "overlay",
             "size": 10,
             "solidity": 0.2
            },
            "type": "scatter"
           }
          ],
          "scatter3d": [
           {
            "line": {
             "colorbar": {
              "outlinewidth": 0,
              "ticks": ""
             }
            },
            "marker": {
             "colorbar": {
              "outlinewidth": 0,
              "ticks": ""
             }
            },
            "type": "scatter3d"
           }
          ],
          "scattercarpet": [
           {
            "marker": {
             "colorbar": {
              "outlinewidth": 0,
              "ticks": ""
             }
            },
            "type": "scattercarpet"
           }
          ],
          "scattergeo": [
           {
            "marker": {
             "colorbar": {
              "outlinewidth": 0,
              "ticks": ""
             }
            },
            "type": "scattergeo"
           }
          ],
          "scattergl": [
           {
            "marker": {
             "colorbar": {
              "outlinewidth": 0,
              "ticks": ""
             }
            },
            "type": "scattergl"
           }
          ],
          "scattermapbox": [
           {
            "marker": {
             "colorbar": {
              "outlinewidth": 0,
              "ticks": ""
             }
            },
            "type": "scattermapbox"
           }
          ],
          "scatterpolar": [
           {
            "marker": {
             "colorbar": {
              "outlinewidth": 0,
              "ticks": ""
             }
            },
            "type": "scatterpolar"
           }
          ],
          "scatterpolargl": [
           {
            "marker": {
             "colorbar": {
              "outlinewidth": 0,
              "ticks": ""
             }
            },
            "type": "scatterpolargl"
           }
          ],
          "scatterternary": [
           {
            "marker": {
             "colorbar": {
              "outlinewidth": 0,
              "ticks": ""
             }
            },
            "type": "scatterternary"
           }
          ],
          "surface": [
           {
            "colorbar": {
             "outlinewidth": 0,
             "ticks": ""
            },
            "colorscale": [
             [
              0,
              "#0d0887"
             ],
             [
              0.1111111111111111,
              "#46039f"
             ],
             [
              0.2222222222222222,
              "#7201a8"
             ],
             [
              0.3333333333333333,
              "#9c179e"
             ],
             [
              0.4444444444444444,
              "#bd3786"
             ],
             [
              0.5555555555555556,
              "#d8576b"
             ],
             [
              0.6666666666666666,
              "#ed7953"
             ],
             [
              0.7777777777777778,
              "#fb9f3a"
             ],
             [
              0.8888888888888888,
              "#fdca26"
             ],
             [
              1,
              "#f0f921"
             ]
            ],
            "type": "surface"
           }
          ],
          "table": [
           {
            "cells": {
             "fill": {
              "color": "#EBF0F8"
             },
             "line": {
              "color": "white"
             }
            },
            "header": {
             "fill": {
              "color": "#C8D4E3"
             },
             "line": {
              "color": "white"
             }
            },
            "type": "table"
           }
          ]
         },
         "layout": {
          "annotationdefaults": {
           "arrowcolor": "#2a3f5f",
           "arrowhead": 0,
           "arrowwidth": 1
          },
          "autotypenumbers": "strict",
          "coloraxis": {
           "colorbar": {
            "outlinewidth": 0,
            "ticks": ""
           }
          },
          "colorscale": {
           "diverging": [
            [
             0,
             "#8e0152"
            ],
            [
             0.1,
             "#c51b7d"
            ],
            [
             0.2,
             "#de77ae"
            ],
            [
             0.3,
             "#f1b6da"
            ],
            [
             0.4,
             "#fde0ef"
            ],
            [
             0.5,
             "#f7f7f7"
            ],
            [
             0.6,
             "#e6f5d0"
            ],
            [
             0.7,
             "#b8e186"
            ],
            [
             0.8,
             "#7fbc41"
            ],
            [
             0.9,
             "#4d9221"
            ],
            [
             1,
             "#276419"
            ]
           ],
           "sequential": [
            [
             0,
             "#0d0887"
            ],
            [
             0.1111111111111111,
             "#46039f"
            ],
            [
             0.2222222222222222,
             "#7201a8"
            ],
            [
             0.3333333333333333,
             "#9c179e"
            ],
            [
             0.4444444444444444,
             "#bd3786"
            ],
            [
             0.5555555555555556,
             "#d8576b"
            ],
            [
             0.6666666666666666,
             "#ed7953"
            ],
            [
             0.7777777777777778,
             "#fb9f3a"
            ],
            [
             0.8888888888888888,
             "#fdca26"
            ],
            [
             1,
             "#f0f921"
            ]
           ],
           "sequentialminus": [
            [
             0,
             "#0d0887"
            ],
            [
             0.1111111111111111,
             "#46039f"
            ],
            [
             0.2222222222222222,
             "#7201a8"
            ],
            [
             0.3333333333333333,
             "#9c179e"
            ],
            [
             0.4444444444444444,
             "#bd3786"
            ],
            [
             0.5555555555555556,
             "#d8576b"
            ],
            [
             0.6666666666666666,
             "#ed7953"
            ],
            [
             0.7777777777777778,
             "#fb9f3a"
            ],
            [
             0.8888888888888888,
             "#fdca26"
            ],
            [
             1,
             "#f0f921"
            ]
           ]
          },
          "colorway": [
           "#636efa",
           "#EF553B",
           "#00cc96",
           "#ab63fa",
           "#FFA15A",
           "#19d3f3",
           "#FF6692",
           "#B6E880",
           "#FF97FF",
           "#FECB52"
          ],
          "font": {
           "color": "#2a3f5f"
          },
          "geo": {
           "bgcolor": "white",
           "lakecolor": "white",
           "landcolor": "#E5ECF6",
           "showlakes": true,
           "showland": true,
           "subunitcolor": "white"
          },
          "hoverlabel": {
           "align": "left"
          },
          "hovermode": "closest",
          "mapbox": {
           "style": "light"
          },
          "paper_bgcolor": "white",
          "plot_bgcolor": "#E5ECF6",
          "polar": {
           "angularaxis": {
            "gridcolor": "white",
            "linecolor": "white",
            "ticks": ""
           },
           "bgcolor": "#E5ECF6",
           "radialaxis": {
            "gridcolor": "white",
            "linecolor": "white",
            "ticks": ""
           }
          },
          "scene": {
           "xaxis": {
            "backgroundcolor": "#E5ECF6",
            "gridcolor": "white",
            "gridwidth": 2,
            "linecolor": "white",
            "showbackground": true,
            "ticks": "",
            "zerolinecolor": "white"
           },
           "yaxis": {
            "backgroundcolor": "#E5ECF6",
            "gridcolor": "white",
            "gridwidth": 2,
            "linecolor": "white",
            "showbackground": true,
            "ticks": "",
            "zerolinecolor": "white"
           },
           "zaxis": {
            "backgroundcolor": "#E5ECF6",
            "gridcolor": "white",
            "gridwidth": 2,
            "linecolor": "white",
            "showbackground": true,
            "ticks": "",
            "zerolinecolor": "white"
           }
          },
          "shapedefaults": {
           "line": {
            "color": "#2a3f5f"
           }
          },
          "ternary": {
           "aaxis": {
            "gridcolor": "white",
            "linecolor": "white",
            "ticks": ""
           },
           "baxis": {
            "gridcolor": "white",
            "linecolor": "white",
            "ticks": ""
           },
           "bgcolor": "#E5ECF6",
           "caxis": {
            "gridcolor": "white",
            "linecolor": "white",
            "ticks": ""
           }
          },
          "title": {
           "x": 0.05
          },
          "xaxis": {
           "automargin": true,
           "gridcolor": "white",
           "linecolor": "white",
           "ticks": "",
           "title": {
            "standoff": 15
           },
           "zerolinecolor": "white",
           "zerolinewidth": 2
          },
          "yaxis": {
           "automargin": true,
           "gridcolor": "white",
           "linecolor": "white",
           "ticks": "",
           "title": {
            "standoff": 15
           },
           "zerolinecolor": "white",
           "zerolinewidth": 2
          }
         }
        },
        "title": {
         "text": "Class counts"
        },
        "xaxis": {
         "anchor": "y",
         "domain": [
          0,
          1
         ],
         "title": {
          "text": "class"
         }
        },
        "yaxis": {
         "anchor": "x",
         "domain": [
          0,
          1
         ],
         "title": {
          "text": "counts"
         }
        }
       }
      }
     },
     "metadata": {},
     "output_type": "display_data"
    }
   ],
   "source": [
    "class_counts_df = pd.DataFrame(unified_data['gender'].value_counts())\n",
    "class_counts_df.reset_index(inplace = True)\n",
    "class_counts_df.columns = ['class', 'counts']\n",
    "print(class_counts_df.head())\n",
    "\n",
    "fig = px.bar(class_counts_df, x = 'class', y = 'counts', title = 'Class counts')\n",
    "fig.show()"
   ]
  },
  {
   "cell_type": "markdown",
   "metadata": {},
   "source": [
    "to do:\n",
    "- convert 'man' to 'male'\n",
    "- convert 'woman' to 'female'\n",
    "- drop 'gender-neutral' and 'prefernot to say'\n",
    "- fix considerable class imbalance between 'male' and 'female'"
   ]
  },
  {
   "cell_type": "markdown",
   "metadata": {},
   "source": [
    "AI003 - Preprocess the Text and Create Text Embeddings\n",
    "As an AI Engineer I need the data prepared so it’s ready to be fed into a model \n",
    "\n",
    "AC: \n",
    "\n",
    "- Remove null values\n",
    "- Vectorize \n",
    "- Create a function to stem text with chosen stemmer\n",
    "-- reduce words to root e.g. 'effectiveness' to 'effective'\n",
    "- Use some stopwords (carefully curate) \n",
    "-- use standard stopwords list and curate, WANT to include gendered pronouns\n",
    "-- find and inspect template list, add/remove accordingly (add e.g. bullet points or might be better done in data preprocessing)"
   ]
  },
  {
   "cell_type": "code",
   "execution_count": null,
   "metadata": {},
   "outputs": [],
   "source": []
  }
 ],
 "metadata": {
  "kernelspec": {
   "display_name": "Python 3.10.5 64-bit",
   "language": "python",
   "name": "python3"
  },
  "language_info": {
   "codemirror_mode": {
    "name": "ipython",
    "version": 3
   },
   "file_extension": ".py",
   "mimetype": "text/x-python",
   "name": "python",
   "nbconvert_exporter": "python",
   "pygments_lexer": "ipython3",
   "version": "3.10.5"
  },
  "orig_nbformat": 4,
  "vscode": {
   "interpreter": {
    "hash": "aee8b7b246df8f9039afb4144a1f6fd8d2ca17a180786b69acc140d282b71a49"
   }
  }
 },
 "nbformat": 4,
 "nbformat_minor": 2
}
